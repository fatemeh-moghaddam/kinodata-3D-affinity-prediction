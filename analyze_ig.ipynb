{
 "cells": [
  {
   "cell_type": "code",
   "execution_count": 1,
   "metadata": {},
   "outputs": [
    {
     "name": "stderr",
     "output_type": "stream",
     "text": [
      "/opt/homebrew/Caskroom/miniforge/base/envs/kinodata3d/lib/python3.10/site-packages/tqdm/auto.py:22: TqdmWarning: IProgress not found. Please update jupyter and ipywidgets. See https://ipywidgets.readthedocs.io/en/stable/user_install.html\n",
      "  from .autonotebook import tqdm as notebook_tqdm\n"
     ]
    }
   ],
   "source": [
    "from kinodata.data.dataset import KinodataDocked, _DATA, ComplexInformation"
   ]
  },
  {
   "cell_type": "code",
   "execution_count": 2,
   "metadata": {},
   "outputs": [
    {
     "name": "stdout",
     "output_type": "stream",
     "text": [
      "Reading data frame from /Users/joschkagross/projects/kinodata-3D-affinity-prediction/data/raw/kinodata_docked_v2.sdf.gz...\n",
      "Deduping data frame (current size: 121913)...\n",
      "119713 complexes remain after deduplication.\n",
      "Checking for missing pocket mol2 files...\n"
     ]
    },
    {
     "name": "stderr",
     "output_type": "stream",
     "text": [
      "100%|██████████| 3244/3244 [00:00<00:00, 212788.30it/s]\n"
     ]
    },
    {
     "name": "stdout",
     "output_type": "stream",
     "text": [
      "Adding pocket sequences...\n",
      "(119713, 25)\n"
     ]
    },
    {
     "name": "stderr",
     "output_type": "stream",
     "text": [
      "100%|██████████| 119713/119713 [00:00<00:00, 5342704.53it/s]"
     ]
    },
    {
     "name": "stdout",
     "output_type": "stream",
     "text": [
      "Exiting with 3552 cached sequences.\n",
      "(119713, 26)\n"
     ]
    },
    {
     "name": "stderr",
     "output_type": "stream",
     "text": [
      "\n"
     ]
    }
   ],
   "source": [
    "dataset = KinodataDocked()\n",
    "df = dataset.df"
   ]
  },
  {
   "cell_type": "code",
   "execution_count": 3,
   "metadata": {},
   "outputs": [],
   "source": [
    "complexes = ComplexInformation.from_raw(df, remove_hydrogen=True)"
   ]
  },
  {
   "cell_type": "code",
   "execution_count": 4,
   "metadata": {},
   "outputs": [
    {
     "data": {
      "text/plain": [
       "119713"
      ]
     },
     "execution_count": 4,
     "metadata": {},
     "output_type": "execute_result"
    }
   ],
   "source": [
    "len(complexes)"
   ]
  },
  {
   "cell_type": "code",
   "execution_count": 5,
   "metadata": {},
   "outputs": [],
   "source": [
    "complexes = {\n",
    "    complex.kinodata_ident: complex for complex in complexes\n",
    "}"
   ]
  },
  {
   "cell_type": "code",
   "execution_count": 6,
   "metadata": {},
   "outputs": [
    {
     "data": {
      "text/plain": [
       "119713"
      ]
     },
     "execution_count": 6,
     "metadata": {},
     "output_type": "execute_result"
    }
   ],
   "source": [
    "len(complexes)"
   ]
  },
  {
   "cell_type": "code",
   "execution_count": 7,
   "metadata": {},
   "outputs": [],
   "source": [
    "df = df.set_index(\"ident\")"
   ]
  },
  {
   "cell_type": "code",
   "execution_count": 8,
   "metadata": {},
   "outputs": [],
   "source": [
    "from pathlib import Path\n",
    "import time\n",
    "import torch\n",
    "\n",
    "DATA = Path(\"data\") / \"remote_ig_attrbibutions\"\n",
    "\n",
    "\n",
    "def get_time(path: Path):\n",
    "    # read a timestamp in the format YYYY-MM-DD_HH-MM-SS\n",
    "    print(path)\n",
    "    timestamp = path.name\n",
    "    ptime = time.strptime(timestamp, \"%Y-%m-%d_%H-%M-%S\")\n",
    "    print(ptime)\n",
    "    return ptime\n",
    "\n",
    "\n",
    "def load(path: Path | None = None):\n",
    "    # use newest attributions if path is None\n",
    "    if path is None:\n",
    "        path = max(DATA.iterdir(), key=lambda p: get_time(p))\n",
    "\n",
    "    print(f\"The attributions are loaded from {path}\")\n",
    "    attrs = torch.load(path / \"attrs.pt\")\n",
    "    deltas = torch.load(path / \"deltas.pt\")\n",
    "    idents = torch.load(path / \"idents.pt\")\n",
    "    return attrs, deltas, idents"
   ]
  },
  {
   "cell_type": "code",
   "execution_count": 9,
   "metadata": {},
   "outputs": [
    {
     "name": "stdout",
     "output_type": "stream",
     "text": [
      "data/remote_ig_attrbibutions/2024-08-28_12-02-43\n",
      "time.struct_time(tm_year=2024, tm_mon=8, tm_mday=28, tm_hour=12, tm_min=2, tm_sec=43, tm_wday=2, tm_yday=241, tm_isdst=-1)\n",
      "data/remote_ig_attrbibutions/2024-08-29_13-02-41\n",
      "time.struct_time(tm_year=2024, tm_mon=8, tm_mday=29, tm_hour=13, tm_min=2, tm_sec=41, tm_wday=3, tm_yday=242, tm_isdst=-1)\n",
      "data/remote_ig_attrbibutions/2024-08-28_12-18-22\n",
      "time.struct_time(tm_year=2024, tm_mon=8, tm_mday=28, tm_hour=12, tm_min=18, tm_sec=22, tm_wday=2, tm_yday=241, tm_isdst=-1)\n",
      "The attributions are loaded from data/remote_ig_attrbibutions/2024-08-29_13-02-41\n"
     ]
    }
   ],
   "source": [
    "attrs, deltas, idents = load()"
   ]
  },
  {
   "cell_type": "code",
   "execution_count": null,
   "metadata": {},
   "outputs": [],
   "source": []
  },
  {
   "cell_type": "code",
   "execution_count": 10,
   "metadata": {},
   "outputs": [
    {
     "name": "stderr",
     "output_type": "stream",
     "text": [
      " 99%|█████████▉| 3930/3950 [00:27<00:00, 347.64it/s]"
     ]
    }
   ],
   "source": [
    "from collections import defaultdict\n",
    "from tqdm import tqdm\n",
    "\n",
    "attr_df = defaultdict(list)\n",
    "pbar = tqdm(total=len(attrs))\n",
    "for attr, delta, ident in zip(attrs, deltas, idents):\n",
    "    pbar.update(1)\n",
    "    ident = ident.item()\n",
    "    attr = attr.squeeze().numpy()\n",
    "    complex_size = attr.shape[0]\n",
    "    row = df.loc[ident]\n",
    "    ligand_size = row[\"molecule\"].GetNumHeavyAtoms()\n",
    "    \n",
    "    ligand_attr = attr[-ligand_size:].tolist()\n",
    "    pocket_attr = attr[:-ligand_size].tolist()\n",
    "    attr_df[\"ident\"].extend([ident] * complex_size)\n",
    "    \n",
    "    attr_df[\"attr\"].extend(ligand_attr)\n",
    "    attr_df[\"type\"].extend([\"ligand\"] * ligand_size)\n",
    "    for atom in row[\"molecule\"].GetAtoms():\n",
    "        attr_df[\"atom\"].append(atom.GetSymbol())\n",
    "   \n",
    "    attr_df[\"attr\"].extend(pocket_attr) \n",
    "    attr_df[\"type\"].extend([\"pocket\"] * (complex_size - ligand_size))\n",
    "    cplx = complexes[ident]\n",
    "    for atom in cplx.pocket.GetAtoms():\n",
    "        attr_df[\"atom\"].append(atom.GetSymbol())    "
   ]
  },
  {
   "cell_type": "code",
   "execution_count": 11,
   "metadata": {},
   "outputs": [],
   "source": [
    "import pandas as pd\n",
    "attr_df = pd.DataFrame(attr_df)"
   ]
  },
  {
   "cell_type": "code",
   "execution_count": 12,
   "metadata": {},
   "outputs": [],
   "source": [
    "import seaborn as sns\n",
    "from matplotlib import pyplot as plt"
   ]
  },
  {
   "cell_type": "code",
   "execution_count": 13,
   "metadata": {},
   "outputs": [
    {
     "data": {
      "text/plain": [
       "(-0.5, 9.5)"
      ]
     },
     "execution_count": 13,
     "metadata": {},
     "output_type": "execute_result"
    },
    {
     "data": {
      "image/png": "[encoded data removed]",
      "text/plain": [
       "<Figure size 1500x500 with 1 Axes>"
      ]
     },
     "metadata": {},
     "output_type": "display_data"
    }
   ],
   "source": [
    "fig = plt.figure(figsize=(15, 5))\n",
    "# add large axis for box plot\n",
    "ax1 = fig.add_subplot(111)\n",
    "sns.boxenplot(data=attr_df.query(\"type == 'ligand'\"), x=\"atom\", y=\"attr\", ax=ax1)\n",
    "xl = plt.xlim()\n",
    "plt.plot((-1, 15), (0,0), 'r--')\n",
    "plt.xlim(*xl)"
   ]
  },
  {
   "cell_type": "code",
   "execution_count": 14,
   "metadata": {},
   "outputs": [
    {
     "data": {
      "text/plain": [
       "(-0.5, 3.5)"
      ]
     },
     "execution_count": 14,
     "metadata": {},
     "output_type": "execute_result"
    },
    {
     "data": {
      "image/png": "[encoded data removed]",
      "text/plain": [
       "<Figure size 1500x500 with 1 Axes>"
      ]
     },
     "metadata": {},
     "output_type": "display_data"
    }
   ],
   "source": [
    "fig = plt.figure(figsize=(15, 5))\n",
    "# add large axis for box plot\n",
    "ax1 = fig.add_subplot(111)\n",
    "sns.boxenplot(data=attr_df.query(\"type == 'pocket'\"), x=\"atom\", y=\"attr\", ax=ax1)\n",
    "xl = plt.xlim()\n",
    "plt.plot((-1, 15), (0,0), 'r--')\n",
    "plt.xlim(*xl)"
   ]
  },
  {
   "cell_type": "code",
   "execution_count": 15,
   "metadata": {},
   "outputs": [
    {
     "data": {
      "text/plain": [
       "C     1798339\n",
       "N      469837\n",
       "O      462015\n",
       "S       18023\n",
       "F        2774\n",
       "Cl        939\n",
       "Br        183\n",
       "P          10\n",
       "I           7\n",
       "B           4\n",
       "Name: atom, dtype: int64"
      ]
     },
     "execution_count": 15,
     "metadata": {},
     "output_type": "execute_result"
    }
   ],
   "source": [
    "attr_df[\"atom\"].value_counts()"
   ]
  },
  {
   "cell_type": "code",
   "execution_count": 21,
   "metadata": {},
   "outputs": [
    {
     "data": {
      "text/plain": [
       "ident   type  \n",
       "10      ligand    1.754369\n",
       "        pocket    1.776717\n",
       "26      ligand    2.007358\n",
       "        pocket    1.508428\n",
       "27      ligand    1.667351\n",
       "                    ...   \n",
       "119542  pocket    1.456821\n",
       "119590  ligand    2.571836\n",
       "        pocket    1.786083\n",
       "119622  ligand    2.185760\n",
       "        pocket    1.361934\n",
       "Name: attr, Length: 7900, dtype: float64"
      ]
     },
     "execution_count": 21,
     "metadata": {},
     "output_type": "execute_result"
    }
   ],
   "source": [
    "attr_df.groupby([\"ident\", \"type\"])[\"attr\"].agg(\"max\")"
   ]
  }
 ],
 "metadata": {
  "kernelspec": {
   "display_name": "kinodata3d",
   "language": "python",
   "name": "python3"
  },
  "language_info": {
   "codemirror_mode": {
    "name": "ipython",
    "version": 3
   },
   "file_extension": ".py",
   "mimetype": "text/x-python",
   "name": "python",
   "nbconvert_exporter": "python",
   "pygments_lexer": "ipython3",
   "version": "3.10.8"
  }
 },
 "nbformat": 4,
 "nbformat_minor": 2
}
