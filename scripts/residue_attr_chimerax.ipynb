{
 "cells": [
  {
   "cell_type": "code",
   "execution_count": 1,
   "metadata": {},
   "outputs": [],
   "source": [
    "import seaborn as sns\n",
    "import numpy as np\n",
    "import matplotlib.pyplot as plt\n",
    "import pandas as pd\n",
    "from pathlib import Path\n",
    "from torch_geometric.data import download_url, extract_zip\n",
    "import tqdm.notebook as tqdm\n",
    "from rdkit import Chem\n",
    "from rdkit.Chem import AllChem"
   ]
  },
  {
   "cell_type": "code",
   "execution_count": 2,
   "metadata": {},
   "outputs": [],
   "source": [
    "HERE = Path(\".\")\n",
    "ROOT = Path(\"..\")"
   ]
  },
  {
   "cell_type": "markdown",
   "metadata": {},
   "source": [
    "# Load attribution data"
   ]
  },
  {
   "cell_type": "code",
   "execution_count": 3,
   "metadata": {},
   "outputs": [],
   "source": [
    "from dataclasses import dataclass\n",
    "\n",
    "\n",
    "@dataclass(frozen=True)\n",
    "class FileArtifact:\n",
    "    url: str\n",
    "    path: Path\n",
    "    force_download: bool = False\n",
    "\n",
    "    def __post_init__(self):\n",
    "        if self.path.exists() and not self.force_download:\n",
    "            print(f\"Using cached file '{self.path}'\")\n",
    "            return\n",
    "        if not self.path.parent.exists():\n",
    "            print(f\"Creating directory '{self.path.parent}'\")\n",
    "            self.path.parent.mkdir(parents=True)\n",
    "        print(f\"Downloading file from '{self.url}' to '{self.path}'\")\n",
    "        download_url(self.url, self.path.parent, filename=self.file.name, log=False)\n",
    "\n",
    "    def __repr__(self) -> str:\n",
    "        return f\"File from '{self.url}' is at path '{self.path}'\"\n",
    "\n",
    "    def __str__(self) -> str:\n",
    "        return f\"{self.path}\"\n",
    "\n",
    "\n",
    "@dataclass(frozen=True)\n",
    "class ZipArtifact:\n",
    "    url: str\n",
    "    extract_at: Path\n",
    "    expected_content: list[str]\n",
    "    remove_zip: bool = False\n",
    "\n",
    "    def __post_init__(self):\n",
    "        if not self.extract_at.exists():\n",
    "            print(f\"Creating directory '{self.extract_at}'\")\n",
    "            self.extract_at.mkdir(parents=True)\n",
    "        expected_content_exists = all(\n",
    "            (self.extract_at / name).exists() for name in self.expected_content\n",
    "        )\n",
    "        if expected_content_exists:\n",
    "            print(\n",
    "                f\"Using cached files from '{self.url}' extracted to '{self.extract_at}'\"\n",
    "            )\n",
    "            return\n",
    "        print(f\"Downloading zip file from '{self.url}' to '{self.extract_at}'\")\n",
    "        path_to_zip = download_url(self.url, self.extract_at.parent, log=False)\n",
    "        extract_zip(path_to_zip, self.extract_at, log=False)\n",
    "        expected_content = set(self.expected_content)\n",
    "        for new_file in self.extract_at.iterdir():\n",
    "            if new_file.name in expected_content:\n",
    "                expected_content.remove(new_file.name)\n",
    "                continue\n",
    "            print(f\"Warning: got unexpected file '{new_file}'\")\n",
    "        if expected_content:\n",
    "            print(f\"Warning: missing expected files {expected_content}\")\n",
    "        if self.remove_zip:\n",
    "            Path(path_to_zip).unlink()\n",
    "\n",
    "    @property\n",
    "    def path(self):\n",
    "        return self.extract_at\n",
    "\n",
    "    @property\n",
    "    def contents(self) -> list[Path]:\n",
    "        return [self.extract_at / name for name in self.expected_content]"
   ]
  },
  {
   "cell_type": "code",
   "execution_count": 4,
   "metadata": {},
   "outputs": [
    {
     "name": "stdout",
     "output_type": "stream",
     "text": [
      "Using cached files from 'https://www.dropbox.com/scl/fi/cj2801jszmj73cmhklycx/residue_atom_index.zip?rlkey=i5qzddjcb4jcbao19h6jgfx00&st=go9ujwsg&dl=1' extracted to '../data/processed'\n",
      "Using cached files from 'https://www.dropbox.com/scl/fi/2vt532fkofgdth2ae6c19/mask_pl_edges_at_residue.zip?rlkey=1z14ykkh8fn5lvwafc17b2gef&st=zqe0osr0&dl=1' extracted to '../data/crocodoc'\n"
     ]
    }
   ],
   "source": [
    "residue_atom_index_artifact = ZipArtifact(\n",
    "    \"https://www.dropbox.com/scl/fi/cj2801jszmj73cmhklycx/residue_atom_index.zip?rlkey=i5qzddjcb4jcbao19h6jgfx00&st=go9ujwsg&dl=1\",\n",
    "    ROOT / \"data\" / \"processed\",\n",
    "    expected_content=[\"residue_atom_index\"],\n",
    ")\n",
    "\n",
    "mask_pl_edge_residue_results_artifact = ZipArtifact(\n",
    "    \"https://www.dropbox.com/scl/fi/2vt532fkofgdth2ae6c19/mask_pl_edges_at_residue.zip?rlkey=1z14ykkh8fn5lvwafc17b2gef&st=zqe0osr0&dl=1\",\n",
    "    ROOT / \"data\" / \"crocodoc\",\n",
    "    expected_content=[\"mask_pl_edges_at_residue\"],\n",
    ")"
   ]
  },
  {
   "cell_type": "code",
   "execution_count": 5,
   "metadata": {},
   "outputs": [],
   "source": [
    "# TODO\n",
    "# - add PLIP artifact\n",
    "# - add kinodata 3D raw and processed artifact?"
   ]
  },
  {
   "cell_type": "markdown",
   "metadata": {},
   "source": [
    "## Data loading 1: crocodoc output data pl edge masking at residues"
   ]
  },
  {
   "cell_type": "code",
   "execution_count": 6,
   "metadata": {},
   "outputs": [],
   "source": [
    "mask_pl_edge_residue_result = mask_pl_edge_residue_results_artifact.contents[0]"
   ]
  },
  {
   "cell_type": "code",
   "execution_count": 7,
   "metadata": {},
   "outputs": [
    {
     "data": {
      "application/vnd.jupyter.widget-view+json": {
       "model_id": "5730ecc234694921a77183df9bf988ea",
       "version_major": 2,
       "version_minor": 0
      },
      "text/plain": [
       "  0%|          | 0/945 [00:00<?, ?it/s]"
      ]
     },
     "metadata": {},
     "output_type": "display_data"
    }
   ],
   "source": [
    "ref_dfs = []\n",
    "attr_dfs = []\n",
    "all_files = list(mask_pl_edge_residue_result.glob(\"*.csv\"))\n",
    "for csv_file in tqdm.tqdm(all_files):\n",
    "    if \"None\" in csv_file.name:\n",
    "        continue\n",
    "    df = pd.read_csv(csv_file)\n",
    "    if \"cgnn3d\" in csv_file.name:\n",
    "        model = \"CGNN-3D\"\n",
    "    elif \"cgnn\" in csv_file.name:\n",
    "        model = \"CGNN\"\n",
    "    else:\n",
    "        model = None\n",
    "    df[\"model\"] = model\n",
    "    if \"reference\" in csv_file.stem:\n",
    "        ref_dfs.append(df)\n",
    "        continue\n",
    "    attr_dfs.append(df)"
   ]
  },
  {
   "cell_type": "code",
   "execution_count": 8,
   "metadata": {},
   "outputs": [],
   "source": [
    "attr_df = pd.concat(attr_dfs, axis=0)\n",
    "ref = pd.concat(ref_dfs, axis=0)\n",
    "\n",
    "attr_df = pd.merge(\n",
    "    attr_df,\n",
    "    ref[[\"chembl_activity_id\", \"reference_pred\", \"target\", \"model\"]],\n",
    "    on=[\"chembl_activity_id\", \"model\"],\n",
    "    how=\"left\",\n",
    ")\n",
    "\n",
    "attr_df[\"delta\"] = attr_df[\"reference_pred\"] - attr_df[\"masked_pred\"]"
   ]
  },
  {
   "cell_type": "markdown",
   "metadata": {},
   "source": [
    "### Sanity check deltas for cgnn are close to zero"
   ]
  },
  {
   "cell_type": "code",
   "execution_count": 9,
   "metadata": {},
   "outputs": [],
   "source": [
    "cgnn3d_only = attr_df[attr_df[\"model\"] == \"CGNN-3D\"]\n",
    "cgnn_only = attr_df[attr_df[\"model\"] == \"CGNN\"]"
   ]
  },
  {
   "cell_type": "markdown",
   "metadata": {},
   "source": [
    "## Data loading 2\n",
    "- residue atom index (ie Map[ident, Map[residue id, pocket atom index of atoms in that residue]])\n",
    "- Kinodata3D pytorch geometric data objects\n",
    "- Kinodata3D underlying rdkit mols"
   ]
  },
  {
   "cell_type": "code",
   "execution_count": 10,
   "metadata": {},
   "outputs": [],
   "source": [
    "from kinodata.data import KinodataDocked\n",
    "from kinodata.data.dataset import _DATA\n",
    "from pathlib import Path\n",
    "from kinodata.transform import TransformToComplexGraph\n",
    "import multiprocessing as mp\n",
    "import json\n",
    "from rdkit import Chem\n",
    "from rdkit.Chem import Draw\n",
    "import random\n",
    "\n",
    "\n",
    "RESIDUE_ATOM_INDEX = residue_atom_index_artifact.contents[0]\n",
    "\n",
    "to_cplx = TransformToComplexGraph()\n",
    "\n",
    "\n",
    "def get_ident(file: Path):\n",
    "    ident = int(file.stem.split(\"_\")[-1])\n",
    "    return ident\n",
    "\n",
    "\n",
    "def load_single_index(file: Path):\n",
    "    with open(file, \"r\") as f:\n",
    "        try:\n",
    "            dictionary = json.load(f)\n",
    "        except json.decoder.JSONDecodeError:\n",
    "            dictionary = None\n",
    "    ident = int(file.stem.split(\"_\")[-1])\n",
    "    return (ident, dictionary)\n",
    "\n",
    "\n",
    "def load_residue_atom_index(idents, parallelize=False):\n",
    "    files = list(RESIDUE_ATOM_INDEX.iterdir())\n",
    "    files = [file for file in files if get_ident(file) in idents]\n",
    "    assert len(files) == len(idents)\n",
    "    progressing_iterable = tqdm.tqdm(files, desc=\"Loading residue atom index...\")\n",
    "    if parallelize:\n",
    "        with mp.Pool() as pool:\n",
    "            tuples = pool.map(load_single_index, progressing_iterable)\n",
    "    else:\n",
    "        tuples = [load_single_index(f) for f in progressing_iterable]\n",
    "    return dict(tuples)"
   ]
  },
  {
   "cell_type": "code",
   "execution_count": 11,
   "metadata": {},
   "outputs": [],
   "source": [
    "dataset = KinodataDocked()"
   ]
  },
  {
   "cell_type": "code",
   "execution_count": 12,
   "metadata": {},
   "outputs": [],
   "source": [
    "data_by_ident = {data.ident.item(): data for data in dataset}"
   ]
  },
  {
   "cell_type": "code",
   "execution_count": 13,
   "metadata": {},
   "outputs": [
    {
     "name": "stdout",
     "output_type": "stream",
     "text": [
      "Reading data frame from /home/michael/Code/kinodata-3D-affinity-prediction/data/raw/kinodata_docked_v2.sdf.gz...\n",
      "Deduping data frame (current size: 121913)...\n",
      "119713 complexes remain after deduplication.\n",
      "Checking for missing pocket mol2 files...\n"
     ]
    },
    {
     "name": "stderr",
     "output_type": "stream",
     "text": [
      "100%|███████████████████████████████████| 3244/3244 [00:00<00:00, 149457.61it/s]\n"
     ]
    },
    {
     "name": "stdout",
     "output_type": "stream",
     "text": [
      "Adding pocket sequences...\n",
      "(119713, 25)\n"
     ]
    },
    {
     "name": "stderr",
     "output_type": "stream",
     "text": [
      "100%|██████████████████████████████| 119713/119713 [00:00<00:00, 1231193.49it/s]\n"
     ]
    },
    {
     "name": "stdout",
     "output_type": "stream",
     "text": [
      "Exiting with 3552 cached sequences.\n",
      "(119713, 26)\n"
     ]
    }
   ],
   "source": [
    "mol_source_df = dataset.df"
   ]
  },
  {
   "cell_type": "code",
   "execution_count": 14,
   "metadata": {},
   "outputs": [
    {
     "data": {
      "text/plain": [
       "Index(['docking.posit_probability', 'docking.chemgauss_score',\n",
       "       'activities.activity_id', 'assays.chembl_id',\n",
       "       'target_dictionary.chembl_id', 'molecule_dictionary.chembl_id',\n",
       "       'molecule_dictionary.max_phase', 'activities.standard_type',\n",
       "       'activities.standard_units', 'compound_structures.canonical_smiles',\n",
       "       'compound_structures.standard_inchi', 'component_sequences.sequence',\n",
       "       'assays.confidence_score', 'docs.chembl_id', 'docs.year',\n",
       "       'docs.authors', 'UniprotID', 'similar.klifs_structure_id',\n",
       "       'similar.fp_similarity', 'ID', 'activities.standard_value',\n",
       "       'docking.predicted_rmsd', 'molecule', 'pocket_mol2_file', 'ident',\n",
       "       'structure.pocket_sequence'],\n",
       "      dtype='object')"
      ]
     },
     "execution_count": 14,
     "metadata": {},
     "output_type": "execute_result"
    }
   ],
   "source": [
    "mol_source_df.columns"
   ]
  },
  {
   "cell_type": "code",
   "execution_count": 15,
   "metadata": {},
   "outputs": [],
   "source": [
    "mols_by_ident = mol_source_df.set_index(\"ident\")"
   ]
  },
  {
   "cell_type": "code",
   "execution_count": 16,
   "metadata": {},
   "outputs": [],
   "source": [
    "mol_source_df[\"activities.activity_id\"] = mol_source_df[\n",
    "    \"activities.activity_id\"\n",
    "].astype(int)"
   ]
  },
  {
   "cell_type": "code",
   "execution_count": 17,
   "metadata": {},
   "outputs": [],
   "source": [
    "mols_by_chembl_id = mol_source_df.set_index(\"activities.activity_id\")"
   ]
  },
  {
   "cell_type": "markdown",
   "metadata": {},
   "source": [
    "## Data analysis 1: single complex delta analysis"
   ]
  },
  {
   "cell_type": "markdown",
   "metadata": {},
   "source": [
    "Select a single complex and make select the data that corresponds to that complex."
   ]
  },
  {
   "cell_type": "code",
   "execution_count": 56,
   "metadata": {},
   "outputs": [],
   "source": [
    "cgnn3d_only.reset_index(inplace=True)#set_index('chembl_activity_id', inplace=True)"
   ]
  },
  {
   "cell_type": "code",
   "execution_count": 103,
   "metadata": {},
   "outputs": [
    {
     "data": {
      "application/vnd.jupyter.widget-view+json": {
       "model_id": "8ac5a3e9b5654434931e24ef1189cab6",
       "version_major": 2,
       "version_minor": 0
      },
      "text/plain": [
       "Loading residue atom index...:   0%|          | 0/1 [00:00<?, ?it/s]"
      ]
     },
     "metadata": {},
     "output_type": "display_data"
    },
    {
     "name": "stdout",
     "output_type": "stream",
     "text": [
      "idents: chembl=24825048 kinodata=117876 klifs=3649\n"
     ]
    }
   ],
   "source": [
    "import random\n",
    "\n",
    "# set chembl activity id here, ...\n",
    "# choice = 2390222\n",
    "# choice = 3559317\n",
    "# choice = 6178754\n",
    "choice = 19146733 # no saltbridge - neg influence -no hbonds\n",
    "choice = 23309989  # DFG negative\n",
    "# choice = 18153002 # hbonds from salt bridge res\n",
    "choice = 13475075 # DFG in - hbonds at dfg\n",
    "choice = None\n",
    "\n",
    "if choice:\n",
    "    subs = cgnn3d_only.set_index('chembl_activity_id').loc[choice]\n",
    "    ident = subs[\"ident\"].iloc[0]\n",
    "    chembl_activity_id = choice\n",
    "# or pick a random one\n",
    "else:\n",
    "    ident, index = random.choice(list(cgnn3d_only.groupby(\"ident\").groups.items()))\n",
    "    ra = load_residue_atom_index([ident])[ident]\n",
    "    ra = {int(k): v for k, v in ra.items()}\n",
    "    subs = cgnn3d_only.loc[index]\n",
    "    assert subs['chembl_activity_id'].nunique() == 1\n",
    "    chembl_activity_id = subs['chembl_activity_id'].unique()[0]\n",
    "\n",
    "klifs_id = subs[\"klifs_structure_id\"].unique()[0]\n",
    "print(f\"idents: chembl={chembl_activity_id} kinodata={ident} klifs={klifs_id}\")"
   ]
  },
  {
   "cell_type": "code",
   "execution_count": 104,
   "metadata": {},
   "outputs": [],
   "source": [
    "from kinodata.data.io.read_klifs_mol2 import read_klifs_mol2\n",
    "\n",
    "pocket_file = ROOT / Path(f\"data/raw/mol2/pocket/{klifs_id}_pocket.mol2\")\n",
    "pocket_file.exists()\n",
    "mol2_meta = read_klifs_mol2(pocket_file, with_bonds=False)\n",
    "mol2_meta = mol2_meta[[\"residue.subst_id\", \"residue.subst_name\"]].drop_duplicates()\n",
    "mask_to_weird = dict(zip(sorted(subs['masked_residue'].unique()), sorted(mol2_meta['residue.subst_name'].str[3:].astype(int))))\n",
    "subs[\"residue.subst_id\"] = subs[\"masked_residue\"].apply(lambda x: mask_to_weird[x])\n",
    "subs_with_mol2 = pd.merge(subs, mol2_meta, on=\"residue.subst_id\", how=\"left\")"
   ]
  },
  {
   "cell_type": "code",
   "execution_count": 105,
   "metadata": {},
   "outputs": [
    {
     "data": {
      "text/plain": [
       "chembl_activity_id    24825048\n",
       "ident                   117876\n",
       "klifs_structure_id        3649\n",
       "masked_pred           5.717556\n",
       "masked_resname             LEU\n",
       "masked_res_letter            L\n",
       "model                  CGNN-3D\n",
       "reference_pred         5.71755\n",
       "target                5.934794\n",
       "delta                -0.000006\n",
       "residue.subst_id           902\n",
       "residue.subst_name        <NA>\n",
       "Name: 28, dtype: object"
      ]
     },
     "execution_count": 105,
     "metadata": {},
     "output_type": "execute_result"
    }
   ],
   "source": [
    "subs_with_mol2.set_index('masked_residue').loc[28]"
   ]
  },
  {
   "cell_type": "markdown",
   "metadata": {},
   "source": [
    "#### Plot "
   ]
  },
  {
   "cell_type": "code",
   "execution_count": 106,
   "metadata": {},
   "outputs": [
    {
     "data": {
      "image/png": "[encoded data removed]",
      "text/plain": [
       "<Figure size 640x480 with 1 Axes>"
      ]
     },
     "metadata": {},
     "output_type": "display_data"
    }
   ],
   "source": [
    "ax = sns.barplot(subs[subs.delta.abs() > .05], \n",
    "    x=\"masked_residue\",\n",
    "    y=\"delta\",\n",
    "    hue=\"masked_resname\", dodge=False)\n",
    "\n",
    "\n",
    "sns.move_legend(ax, \"upper right\", bbox_to_anchor=(1.3, 1), title=\"Residue name\")"
   ]
  },
  {
   "cell_type": "code",
   "execution_count": 107,
   "metadata": {},
   "outputs": [
    {
     "data": {
      "text/plain": [
       "<AxesSubplot: xlabel='delta', ylabel='Density'>"
      ]
     },
     "execution_count": 107,
     "metadata": {},
     "output_type": "execute_result"
    },
    {
     "data": {
      "image/png": "[encoded data removed]",
      "text/plain": [
       "<Figure size 640x480 with 1 Axes>"
      ]
     },
     "metadata": {},
     "output_type": "display_data"
    }
   ],
   "source": [
    "sns.kdeplot(subs_with_mol2, x='delta')"
   ]
  },
  {
   "cell_type": "code",
   "execution_count": 108,
   "metadata": {},
   "outputs": [],
   "source": [
    "# get diverging color map\n",
    "from matplotlib import cm\n",
    "from matplotlib.colors import Normalize\n",
    "\n",
    "norm = Normalize(vmin=-1, vmax=1)\n",
    "cmap = cm.get_cmap(\"bwr_r\")\n",
    "cmapper = cm.ScalarMappable(norm=norm, cmap=cmap)\n",
    "\n",
    "\n",
    "def map_to_hex(val):\n",
    "    max_val = subs['delta'].abs().max()\n",
    "    rgba = cmapper.to_rgba(val / max_val)\n",
    "    hex_color = f\"#{''.join(f'{int(255 * x):02x}' for x in rgba[:3])}\"\n",
    "    return hex_color\n",
    "\n",
    "subs_with_mol2[\"colorcode\"] = subs_with_mol2[\"delta\"].apply(map_to_hex)"
   ]
  },
  {
   "cell_type": "code",
   "execution_count": 109,
   "metadata": {},
   "outputs": [],
   "source": [
    "import requests as req\n",
    "\n",
    "for struc in 'ligand protein'.split():\n",
    "    resp = req.get(f'https://klifs.net/api/structure_get_{struc}?structure_ID={klifs_id}')   \n",
    "    with open(Path.home() / f\"{struc}.mol2\", 'wb') as f:\n",
    "        f.write(resp.content)"
   ]
  },
  {
   "cell_type": "code",
   "execution_count": 110,
   "metadata": {},
   "outputs": [],
   "source": [
    "!mv ~/ligand.mol2 ~/template_ligand.mol2"
   ]
  },
  {
   "cell_type": "code",
   "execution_count": 111,
   "metadata": {},
   "outputs": [],
   "source": [
    "Chem.MolToMolFile(mols_by_chembl_id.loc[chembl_activity_id, 'molecule'], \"/home/michael/ligand.mol\")"
   ]
  },
  {
   "cell_type": "code",
   "execution_count": 112,
   "metadata": {},
   "outputs": [],
   "source": [
    "mol = mols_by_chembl_id.loc[chembl_activity_id, 'molecule']"
   ]
  },
  {
   "cell_type": "code",
   "execution_count": 113,
   "metadata": {},
   "outputs": [
    {
     "data": {
      "text/plain": [
       "'1.547669'"
      ]
     },
     "execution_count": 113,
     "metadata": {},
     "output_type": "execute_result"
    }
   ],
   "source": [
    "mol.GetProp('docking.predicted_rmsd')"
   ]
  },
  {
   "cell_type": "code",
   "execution_count": 114,
   "metadata": {},
   "outputs": [
    {
     "data": {
      "text/html": [
       "<div>\n",
       "<style scoped>\n",
       "    .dataframe tbody tr th:only-of-type {\n",
       "        vertical-align: middle;\n",
       "    }\n",
       "\n",
       "    .dataframe tbody tr th {\n",
       "        vertical-align: top;\n",
       "    }\n",
       "\n",
       "    .dataframe thead th {\n",
       "        text-align: right;\n",
       "    }\n",
       "</style>\n",
       "<table border=\"1\" class=\"dataframe\">\n",
       "  <thead>\n",
       "    <tr style=\"text-align: right;\">\n",
       "      <th></th>\n",
       "      <th>chembl_activity_id</th>\n",
       "      <th>ident</th>\n",
       "      <th>klifs_structure_id</th>\n",
       "      <th>masked_residue</th>\n",
       "      <th>masked_pred</th>\n",
       "      <th>masked_resname</th>\n",
       "      <th>masked_res_letter</th>\n",
       "      <th>model</th>\n",
       "      <th>reference_pred</th>\n",
       "      <th>target</th>\n",
       "      <th>delta</th>\n",
       "      <th>residue.subst_id</th>\n",
       "      <th>residue.subst_name</th>\n",
       "      <th>colorcode</th>\n",
       "    </tr>\n",
       "  </thead>\n",
       "  <tbody>\n",
       "    <tr>\n",
       "      <th>0</th>\n",
       "      <td>24825048</td>\n",
       "      <td>117876</td>\n",
       "      <td>3649</td>\n",
       "      <td>44</td>\n",
       "      <td>5.717549</td>\n",
       "      <td>ILE</td>\n",
       "      <td>I</td>\n",
       "      <td>CGNN-3D</td>\n",
       "      <td>5.71755</td>\n",
       "      <td>5.934794</td>\n",
       "      <td>7.000000e-07</td>\n",
       "      <td>928</td>\n",
       "      <td>&lt;NA&gt;</td>\n",
       "      <td>#fefeff</td>\n",
       "    </tr>\n",
       "    <tr>\n",
       "      <th>1</th>\n",
       "      <td>24825048</td>\n",
       "      <td>117876</td>\n",
       "      <td>3649</td>\n",
       "      <td>21</td>\n",
       "      <td>5.717550</td>\n",
       "      <td>PHE</td>\n",
       "      <td>F</td>\n",
       "      <td>CGNN-3D</td>\n",
       "      <td>5.71755</td>\n",
       "      <td>5.934794</td>\n",
       "      <td>0.000000e+00</td>\n",
       "      <td>895</td>\n",
       "      <td>&lt;NA&gt;</td>\n",
       "      <td>#fefeff</td>\n",
       "    </tr>\n",
       "    <tr>\n",
       "      <th>2</th>\n",
       "      <td>24825048</td>\n",
       "      <td>117876</td>\n",
       "      <td>3649</td>\n",
       "      <td>20</td>\n",
       "      <td>5.717559</td>\n",
       "      <td>ASP</td>\n",
       "      <td>D</td>\n",
       "      <td>CGNN-3D</td>\n",
       "      <td>5.71755</td>\n",
       "      <td>5.934794</td>\n",
       "      <td>-9.000000e-06</td>\n",
       "      <td>894</td>\n",
       "      <td>&lt;NA&gt;</td>\n",
       "      <td>#fffefe</td>\n",
       "    </tr>\n",
       "    <tr>\n",
       "      <th>3</th>\n",
       "      <td>24825048</td>\n",
       "      <td>117876</td>\n",
       "      <td>3649</td>\n",
       "      <td>68</td>\n",
       "      <td>5.717550</td>\n",
       "      <td>HIS</td>\n",
       "      <td>H</td>\n",
       "      <td>CGNN-3D</td>\n",
       "      <td>5.71755</td>\n",
       "      <td>5.934794</td>\n",
       "      <td>0.000000e+00</td>\n",
       "      <td>974</td>\n",
       "      <td>&lt;NA&gt;</td>\n",
       "      <td>#fefeff</td>\n",
       "    </tr>\n",
       "    <tr>\n",
       "      <th>4</th>\n",
       "      <td>24825048</td>\n",
       "      <td>117876</td>\n",
       "      <td>3649</td>\n",
       "      <td>69</td>\n",
       "      <td>5.717558</td>\n",
       "      <td>ARG</td>\n",
       "      <td>R</td>\n",
       "      <td>CGNN-3D</td>\n",
       "      <td>5.71755</td>\n",
       "      <td>5.934794</td>\n",
       "      <td>-8.000000e-06</td>\n",
       "      <td>975</td>\n",
       "      <td>&lt;NA&gt;</td>\n",
       "      <td>#fffefe</td>\n",
       "    </tr>\n",
       "    <tr>\n",
       "      <th>...</th>\n",
       "      <td>...</td>\n",
       "      <td>...</td>\n",
       "      <td>...</td>\n",
       "      <td>...</td>\n",
       "      <td>...</td>\n",
       "      <td>...</td>\n",
       "      <td>...</td>\n",
       "      <td>...</td>\n",
       "      <td>...</td>\n",
       "      <td>...</td>\n",
       "      <td>...</td>\n",
       "      <td>...</td>\n",
       "      <td>...</td>\n",
       "      <td>...</td>\n",
       "    </tr>\n",
       "    <tr>\n",
       "      <th>80</th>\n",
       "      <td>24825048</td>\n",
       "      <td>117876</td>\n",
       "      <td>3649</td>\n",
       "      <td>14</td>\n",
       "      <td>5.717552</td>\n",
       "      <td>VAL</td>\n",
       "      <td>V</td>\n",
       "      <td>CGNN-3D</td>\n",
       "      <td>5.71755</td>\n",
       "      <td>5.934794</td>\n",
       "      <td>-1.700000e-06</td>\n",
       "      <td>879</td>\n",
       "      <td>&lt;NA&gt;</td>\n",
       "      <td>#fffefe</td>\n",
       "    </tr>\n",
       "    <tr>\n",
       "      <th>81</th>\n",
       "      <td>24825048</td>\n",
       "      <td>117876</td>\n",
       "      <td>3649</td>\n",
       "      <td>84</td>\n",
       "      <td>5.717553</td>\n",
       "      <td>LEU</td>\n",
       "      <td>L</td>\n",
       "      <td>CGNN-3D</td>\n",
       "      <td>5.71755</td>\n",
       "      <td>5.934794</td>\n",
       "      <td>-2.700000e-06</td>\n",
       "      <td>997</td>\n",
       "      <td>&lt;NA&gt;</td>\n",
       "      <td>#fffefe</td>\n",
       "    </tr>\n",
       "    <tr>\n",
       "      <th>82</th>\n",
       "      <td>24825048</td>\n",
       "      <td>117876</td>\n",
       "      <td>3649</td>\n",
       "      <td>41</td>\n",
       "      <td>5.717553</td>\n",
       "      <td>VAL</td>\n",
       "      <td>V</td>\n",
       "      <td>CGNN-3D</td>\n",
       "      <td>5.71755</td>\n",
       "      <td>5.934794</td>\n",
       "      <td>-3.000000e-06</td>\n",
       "      <td>916</td>\n",
       "      <td>&lt;NA&gt;</td>\n",
       "      <td>#fffefe</td>\n",
       "    </tr>\n",
       "    <tr>\n",
       "      <th>83</th>\n",
       "      <td>24825048</td>\n",
       "      <td>117876</td>\n",
       "      <td>3649</td>\n",
       "      <td>67</td>\n",
       "      <td>5.717556</td>\n",
       "      <td>ILE</td>\n",
       "      <td>I</td>\n",
       "      <td>CGNN-3D</td>\n",
       "      <td>5.71755</td>\n",
       "      <td>5.934794</td>\n",
       "      <td>-6.000000e-06</td>\n",
       "      <td>973</td>\n",
       "      <td>&lt;NA&gt;</td>\n",
       "      <td>#fffefe</td>\n",
       "    </tr>\n",
       "    <tr>\n",
       "      <th>84</th>\n",
       "      <td>24825048</td>\n",
       "      <td>117876</td>\n",
       "      <td>3649</td>\n",
       "      <td>75</td>\n",
       "      <td>5.717549</td>\n",
       "      <td>ASN</td>\n",
       "      <td>N</td>\n",
       "      <td>CGNN-3D</td>\n",
       "      <td>5.71755</td>\n",
       "      <td>5.934794</td>\n",
       "      <td>1.000000e-06</td>\n",
       "      <td>981</td>\n",
       "      <td>&lt;NA&gt;</td>\n",
       "      <td>#fefeff</td>\n",
       "    </tr>\n",
       "  </tbody>\n",
       "</table>\n",
       "<p>85 rows × 14 columns</p>\n",
       "</div>"
      ],
      "text/plain": [
       "    chembl_activity_id   ident  klifs_structure_id  masked_residue  \\\n",
       "0             24825048  117876                3649              44   \n",
       "1             24825048  117876                3649              21   \n",
       "2             24825048  117876                3649              20   \n",
       "3             24825048  117876                3649              68   \n",
       "4             24825048  117876                3649              69   \n",
       "..                 ...     ...                 ...             ...   \n",
       "80            24825048  117876                3649              14   \n",
       "81            24825048  117876                3649              84   \n",
       "82            24825048  117876                3649              41   \n",
       "83            24825048  117876                3649              67   \n",
       "84            24825048  117876                3649              75   \n",
       "\n",
       "    masked_pred masked_resname masked_res_letter    model  reference_pred  \\\n",
       "0      5.717549            ILE                 I  CGNN-3D         5.71755   \n",
       "1      5.717550            PHE                 F  CGNN-3D         5.71755   \n",
       "2      5.717559            ASP                 D  CGNN-3D         5.71755   \n",
       "3      5.717550            HIS                 H  CGNN-3D         5.71755   \n",
       "4      5.717558            ARG                 R  CGNN-3D         5.71755   \n",
       "..          ...            ...               ...      ...             ...   \n",
       "80     5.717552            VAL                 V  CGNN-3D         5.71755   \n",
       "81     5.717553            LEU                 L  CGNN-3D         5.71755   \n",
       "82     5.717553            VAL                 V  CGNN-3D         5.71755   \n",
       "83     5.717556            ILE                 I  CGNN-3D         5.71755   \n",
       "84     5.717549            ASN                 N  CGNN-3D         5.71755   \n",
       "\n",
       "      target         delta  residue.subst_id residue.subst_name colorcode  \n",
       "0   5.934794  7.000000e-07               928               <NA>   #fefeff  \n",
       "1   5.934794  0.000000e+00               895               <NA>   #fefeff  \n",
       "2   5.934794 -9.000000e-06               894               <NA>   #fffefe  \n",
       "3   5.934794  0.000000e+00               974               <NA>   #fefeff  \n",
       "4   5.934794 -8.000000e-06               975               <NA>   #fffefe  \n",
       "..       ...           ...               ...                ...       ...  \n",
       "80  5.934794 -1.700000e-06               879               <NA>   #fffefe  \n",
       "81  5.934794 -2.700000e-06               997               <NA>   #fffefe  \n",
       "82  5.934794 -3.000000e-06               916               <NA>   #fffefe  \n",
       "83  5.934794 -6.000000e-06               973               <NA>   #fffefe  \n",
       "84  5.934794  1.000000e-06               981               <NA>   #fefeff  \n",
       "\n",
       "[85 rows x 14 columns]"
      ]
     },
     "execution_count": 114,
     "metadata": {},
     "output_type": "execute_result"
    }
   ],
   "source": [
    "subs_with_mol2"
   ]
  },
  {
   "cell_type": "code",
   "execution_count": 115,
   "metadata": {},
   "outputs": [],
   "source": [
    "with open(Path.home() / 'colors.cxc', 'w') as f:\n",
    "    f.write('\\n'.join([f'color :{ident} {c}' for c, ident in subs_with_mol2[['colorcode', 'residue.subst_id']].values]))\n",
    "\n",
    "with open(Path.home() / 'viz.cxc', 'w') as f:\n",
    "    f.write(\"\"\"close session\n",
    "open ~/protein.mol2\n",
    "show surface\n",
    "color grey\n",
    "transparency 90 target s\n",
    "open colors.cxc\n",
    "open ~/template_ligand.mol2\n",
    "open ~/ligand.mol\n",
    "hb intraModel f reveal t twoColors t radius .15\n",
    "clashes #1 restrict #3 reveal t color magenta\n",
    "hide #2\n",
    "hide surface\n",
    "lighting depthCue t depthCueStart .3 depthCueEnd .9\n",
    "hbonds sidechain restrict both saltOnly true name \"salt bridges\" color yellow radius .18\n",
    "color #3 #ffb570\n",
    "color #3 byhet\n",
    "graphics silhouettes true\n",
    "set bgColor black\"\"\")\n",
    "    \n",
    "# hbonds sidechain restrict both saltOnly true name \"salt bridges\" color yellow radius .18"
   ]
  },
  {
   "cell_type": "code",
   "execution_count": null,
   "metadata": {},
   "outputs": [],
   "source": []
  },
  {
   "cell_type": "code",
   "execution_count": null,
   "metadata": {},
   "outputs": [],
   "source": []
  },
  {
   "cell_type": "code",
   "execution_count": null,
   "metadata": {},
   "outputs": [],
   "source": []
  },
  {
   "cell_type": "code",
   "execution_count": null,
   "metadata": {},
   "outputs": [],
   "source": []
  }
 ],
 "metadata": {
  "kernelspec": {
   "display_name": "Python 3 (ipykernel)",
   "language": "python",
   "name": "python3"
  },
  "language_info": {
   "codemirror_mode": {
    "name": "ipython",
    "version": 3
   },
   "file_extension": ".py",
   "mimetype": "text/x-python",
   "name": "python",
   "nbconvert_exporter": "python",
   "pygments_lexer": "ipython3",
   "version": "3.10.8"
  }
 },
 "nbformat": 4,
 "nbformat_minor": 4
}
