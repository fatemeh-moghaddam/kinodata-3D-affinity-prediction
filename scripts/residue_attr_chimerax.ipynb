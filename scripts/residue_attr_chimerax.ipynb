{
 "cells": [
  {
   "cell_type": "code",
   "execution_count": 38,
   "metadata": {},
   "outputs": [],
   "source": [
    "import seaborn as sns\n",
    "import numpy as np\n",
    "import matplotlib.pyplot as plt\n",
    "import pandas as pd\n",
    "from pathlib import Path\n",
    "from torch_geometric.data import download_url, extract_zip\n",
    "import tqdm.notebook as tqdm\n",
    "from rdkit import Chem\n",
    "from rdkit.Chem import AllChem"
   ]
  },
  {
   "cell_type": "markdown",
   "metadata": {},
   "source": [
    "# Load attribution data"
   ]
  },
  {
   "cell_type": "code",
   "execution_count": 2,
   "metadata": {},
   "outputs": [],
   "source": [
    "from dataclasses import dataclass\n",
    "\n",
    "\n",
    "@dataclass(frozen=True)\n",
    "class FileArtifact:\n",
    "    url: str\n",
    "    path: Path\n",
    "    force_download: bool = False\n",
    "\n",
    "    def __post_init__(self):\n",
    "        if self.path.exists() and not self.force_download:\n",
    "            print(f\"Using cached file '{self.path}'\")\n",
    "            return\n",
    "        if not self.path.parent.exists():\n",
    "            print(f\"Creating directory '{self.path.parent}'\")\n",
    "            self.path.parent.mkdir(parents=True)\n",
    "        print(f\"Downloading file from '{self.url}' to '{self.path}'\")\n",
    "        download_url(self.url, self.path.parent, filename=self.file.name, log=False)\n",
    "\n",
    "    def __repr__(self) -> str:\n",
    "        return f\"File from '{self.url}' is at path '{self.path}'\"\n",
    "\n",
    "    def __str__(self) -> str:\n",
    "        return f\"{self.path}\"\n",
    "\n",
    "\n",
    "@dataclass(frozen=True)\n",
    "class ZipArtifact:\n",
    "    url: str\n",
    "    extract_at: Path\n",
    "    expected_content: list[str]\n",
    "    remove_zip: bool = False\n",
    "\n",
    "    def __post_init__(self):\n",
    "        if not self.extract_at.exists():\n",
    "            print(f\"Creating directory '{self.extract_at}'\")\n",
    "            self.extract_at.mkdir(parents=True)\n",
    "        expected_content_exists = all(\n",
    "            (self.extract_at / name).exists() for name in self.expected_content\n",
    "        )\n",
    "        if expected_content_exists:\n",
    "            print(\n",
    "                f\"Using cached files from '{self.url}' extracted to '{self.extract_at}'\"\n",
    "            )\n",
    "            return\n",
    "        print(f\"Downloading zip file from '{self.url}' to '{self.extract_at}'\")\n",
    "        path_to_zip = download_url(self.url, self.extract_at.parent, log=False)\n",
    "        extract_zip(path_to_zip, self.extract_at, log=False)\n",
    "        expected_content = set(self.expected_content)\n",
    "        for new_file in self.extract_at.iterdir():\n",
    "            if new_file.name in expected_content:\n",
    "                expected_content.remove(new_file.name)\n",
    "                continue\n",
    "            print(f\"Warning: got unexpected file '{new_file}'\")\n",
    "        if expected_content:\n",
    "            print(f\"Warning: missing expected files {expected_content}\")\n",
    "        if self.remove_zip:\n",
    "            Path(path_to_zip).unlink()\n",
    "\n",
    "    @property\n",
    "    def path(self):\n",
    "        return self.extract_at\n",
    "\n",
    "    @property\n",
    "    def contents(self) -> list[Path]:\n",
    "        return [self.extract_at / name for name in self.expected_content]"
   ]
  },
  {
   "cell_type": "code",
   "execution_count": 3,
   "metadata": {},
   "outputs": [
    {
     "name": "stdout",
     "output_type": "stream",
     "text": [
      "Using cached files from 'https://www.dropbox.com/scl/fi/cj2801jszmj73cmhklycx/residue_atom_index.zip?rlkey=i5qzddjcb4jcbao19h6jgfx00&st=go9ujwsg&dl=1' extracted to '../data/processed'\n",
      "Using cached files from 'https://www.dropbox.com/scl/fi/2vt532fkofgdth2ae6c19/mask_pl_edges_at_residue.zip?rlkey=1z14ykkh8fn5lvwafc17b2gef&st=zqe0osr0&dl=1' extracted to '../data/crocodoc'\n"
     ]
    }
   ],
   "source": [
    "HERE = Path(\".\")\n",
    "ROOT = Path(\"..\")\n",
    "\n",
    "\n",
    "residue_atom_index_artifact = ZipArtifact(\n",
    "    \"https://www.dropbox.com/scl/fi/cj2801jszmj73cmhklycx/residue_atom_index.zip?rlkey=i5qzddjcb4jcbao19h6jgfx00&st=go9ujwsg&dl=1\",\n",
    "    ROOT / \"data\" / \"processed\",\n",
    "    expected_content=[\"residue_atom_index\"],\n",
    ")\n",
    "\n",
    "\n",
    "mask_pl_edge_residue_results_artifact = ZipArtifact(\n",
    "    \"https://www.dropbox.com/scl/fi/2vt532fkofgdth2ae6c19/mask_pl_edges_at_residue.zip?rlkey=1z14ykkh8fn5lvwafc17b2gef&st=zqe0osr0&dl=1\",\n",
    "    ROOT / \"data\" / \"crocodoc\",\n",
    "    expected_content=[\"mask_pl_edges_at_residue\"],\n",
    ")"
   ]
  },
  {
   "cell_type": "code",
   "execution_count": 4,
   "metadata": {},
   "outputs": [],
   "source": [
    "# TODO\n",
    "# - add PLIP artifact\n",
    "# - add kinodata 3D raw and processed artifact?"
   ]
  },
  {
   "cell_type": "markdown",
   "metadata": {},
   "source": [
    "## Data loading 1: crocodoc output data pl edge masking at residues"
   ]
  },
  {
   "cell_type": "code",
   "execution_count": 5,
   "metadata": {},
   "outputs": [],
   "source": [
    "mask_pl_edge_residue_result = mask_pl_edge_residue_results_artifact.contents[0]"
   ]
  },
  {
   "cell_type": "code",
   "execution_count": 6,
   "metadata": {},
   "outputs": [
    {
     "data": {
      "application/vnd.jupyter.widget-view+json": {
       "model_id": "aaa9b58f47ee4349a5460526858d33c4",
       "version_major": 2,
       "version_minor": 0
      },
      "text/plain": [
       "  0%|          | 0/945 [00:00<?, ?it/s]"
      ]
     },
     "metadata": {},
     "output_type": "display_data"
    }
   ],
   "source": [
    "ref_dfs = []\n",
    "attr_dfs = []\n",
    "all_files = list(mask_pl_edge_residue_result.glob(\"*.csv\"))\n",
    "for csv_file in tqdm.tqdm(all_files):\n",
    "    if \"None\" in csv_file.name:\n",
    "        continue\n",
    "    df = pd.read_csv(csv_file)\n",
    "    if \"cgnn3d\" in csv_file.name:\n",
    "        model = \"CGNN-3D\"\n",
    "    elif \"cgnn\" in csv_file.name:\n",
    "        model = \"CGNN\"\n",
    "    else:\n",
    "        model = None\n",
    "    df[\"model\"] = model\n",
    "    if \"reference\" in csv_file.stem:\n",
    "        ref_dfs.append(df)\n",
    "        continue\n",
    "    attr_dfs.append(df)"
   ]
  },
  {
   "cell_type": "code",
   "execution_count": 7,
   "metadata": {},
   "outputs": [],
   "source": [
    "attr_df = pd.concat(attr_dfs, axis=0)\n",
    "ref = pd.concat(ref_dfs, axis=0)\n",
    "\n",
    "attr_df = pd.merge(\n",
    "    attr_df,\n",
    "    ref[[\"chembl_activity_id\", \"reference_pred\", \"target\", \"model\"]],\n",
    "    on=[\"chembl_activity_id\", \"model\"],\n",
    "    how=\"left\",\n",
    ")\n",
    "\n",
    "attr_df[\"delta\"] = attr_df[\"reference_pred\"] - attr_df[\"masked_pred\"]"
   ]
  },
  {
   "cell_type": "markdown",
   "metadata": {},
   "source": [
    "### Sanity check deltas for cgnn are close to zero"
   ]
  },
  {
   "cell_type": "code",
   "execution_count": 8,
   "metadata": {},
   "outputs": [],
   "source": [
    "cgnn3d_only = attr_df[attr_df[\"model\"] == \"CGNN-3D\"]\n",
    "cgnn_only = attr_df[attr_df[\"model\"] == \"CGNN\"]"
   ]
  },
  {
   "cell_type": "markdown",
   "metadata": {},
   "source": [
    "## Data loading 2\n",
    "- residue atom index (ie Map[ident, Map[residue id, pocket atom index of atoms in that residue]])\n",
    "- Kinodata3D pytorch geometric data objects\n",
    "- Kinodata3D underlying rdkit mols"
   ]
  },
  {
   "cell_type": "code",
   "execution_count": 56,
   "metadata": {},
   "outputs": [],
   "source": [
    "from kinodata.data import KinodataDocked\n",
    "from kinodata.data.dataset import _DATA\n",
    "from pathlib import Path\n",
    "from kinodata.transform import TransformToComplexGraph\n",
    "import multiprocessing as mp\n",
    "import json\n",
    "from rdkit import Chem\n",
    "from rdkit.Chem import Draw\n",
    "import random\n",
    "\n",
    "\n",
    "RESIDUE_ATOM_INDEX = residue_atom_index_artifact.contents[0]\n",
    "\n",
    "to_cplx = TransformToComplexGraph()\n",
    "\n",
    "\n",
    "def get_ident(file: Path):\n",
    "    ident = int(file.stem.split(\"_\")[-1])\n",
    "    return ident\n",
    "\n",
    "\n",
    "def load_single_index(file: Path):\n",
    "    with open(file, \"r\") as f:\n",
    "        try:\n",
    "            dictionary = json.load(f)\n",
    "        except json.decoder.JSONDecodeError:\n",
    "            dictionary = None\n",
    "    ident = int(file.stem.split(\"_\")[-1])\n",
    "    return (ident, dictionary)\n",
    "\n",
    "\n",
    "def load_residue_atom_index(idents, parallelize=False):\n",
    "    files = list(RESIDUE_ATOM_INDEX.iterdir())\n",
    "    files = [file for file in files if get_ident(file) in idents]\n",
    "    assert len(files) == len(idents)\n",
    "    progressing_iterable = tqdm.tqdm(files, desc=\"Loading residue atom index...\")\n",
    "    if parallelize:\n",
    "        with mp.Pool() as pool:\n",
    "            tuples = pool.map(load_single_index, progressing_iterable)\n",
    "    else:\n",
    "        tuples = [load_single_index(f) for f in progressing_iterable]\n",
    "    return dict(tuples)"
   ]
  },
  {
   "cell_type": "code",
   "execution_count": 10,
   "metadata": {},
   "outputs": [],
   "source": [
    "dataset = KinodataDocked()"
   ]
  },
  {
   "cell_type": "code",
   "execution_count": 11,
   "metadata": {},
   "outputs": [],
   "source": [
    "data_by_ident = {data.ident.item(): data for data in dataset}"
   ]
  },
  {
   "cell_type": "code",
   "execution_count": 12,
   "metadata": {},
   "outputs": [
    {
     "name": "stdout",
     "output_type": "stream",
     "text": [
      "Reading data frame from /home/michael/Code/kinodata-3D-affinity-prediction/data/raw/kinodata_docked_v2.sdf.gz...\n",
      "Deduping data frame (current size: 121913)...\n",
      "119713 complexes remain after deduplication.\n",
      "Checking for missing pocket mol2 files...\n"
     ]
    },
    {
     "name": "stderr",
     "output_type": "stream",
     "text": [
      "100%|████████████████████████████████████████████████████████████████████████████████████████████████| 3244/3244 [00:00<00:00, 35249.72it/s]\n"
     ]
    },
    {
     "name": "stdout",
     "output_type": "stream",
     "text": [
      "Adding pocket sequences...\n",
      "(119713, 25)\n"
     ]
    },
    {
     "name": "stderr",
     "output_type": "stream",
     "text": [
      "100%|██████████████████████████████████████████████████████████████████████████████████████████| 119713/119713 [00:00<00:00, 2862313.25it/s]\n"
     ]
    },
    {
     "name": "stdout",
     "output_type": "stream",
     "text": [
      "Exiting with 3552 cached sequences.\n",
      "(119713, 26)\n"
     ]
    }
   ],
   "source": [
    "mol_source_df = dataset.df"
   ]
  },
  {
   "cell_type": "code",
   "execution_count": 13,
   "metadata": {},
   "outputs": [
    {
     "data": {
      "text/plain": [
       "Index(['docking.posit_probability', 'docking.chemgauss_score',\n",
       "       'activities.activity_id', 'assays.chembl_id',\n",
       "       'target_dictionary.chembl_id', 'molecule_dictionary.chembl_id',\n",
       "       'molecule_dictionary.max_phase', 'activities.standard_type',\n",
       "       'activities.standard_units', 'compound_structures.canonical_smiles',\n",
       "       'compound_structures.standard_inchi', 'component_sequences.sequence',\n",
       "       'assays.confidence_score', 'docs.chembl_id', 'docs.year',\n",
       "       'docs.authors', 'UniprotID', 'similar.klifs_structure_id',\n",
       "       'similar.fp_similarity', 'ID', 'activities.standard_value',\n",
       "       'docking.predicted_rmsd', 'molecule', 'pocket_mol2_file', 'ident',\n",
       "       'structure.pocket_sequence'],\n",
       "      dtype='object')"
      ]
     },
     "execution_count": 13,
     "metadata": {},
     "output_type": "execute_result"
    }
   ],
   "source": [
    "mol_source_df.columns"
   ]
  },
  {
   "cell_type": "code",
   "execution_count": 14,
   "metadata": {},
   "outputs": [],
   "source": [
    "mols_by_ident = mol_source_df.set_index(\"ident\")"
   ]
  },
  {
   "cell_type": "code",
   "execution_count": 15,
   "metadata": {},
   "outputs": [],
   "source": [
    "mol_source_df[\"activities.activity_id\"] = mol_source_df[\n",
    "    \"activities.activity_id\"\n",
    "].astype(int)"
   ]
  },
  {
   "cell_type": "code",
   "execution_count": 16,
   "metadata": {},
   "outputs": [],
   "source": [
    "mols_by_chembl_id = mol_source_df.set_index(\"activities.activity_id\")"
   ]
  },
  {
   "cell_type": "markdown",
   "metadata": {},
   "source": [
    "## Data analysis 1: single complex delta analysis"
   ]
  },
  {
   "cell_type": "markdown",
   "metadata": {},
   "source": [
    "Select a single complex and make select the data that corresponds to that complex."
   ]
  },
  {
   "cell_type": "code",
   "execution_count": 83,
   "metadata": {},
   "outputs": [
    {
     "data": {
      "application/vnd.jupyter.widget-view+json": {
       "model_id": "d2f4a60446534262864366f3361596c1",
       "version_major": 2,
       "version_minor": 0
      },
      "text/plain": [
       "Loading residue atom index...:   0%|          | 0/1 [00:00<?, ?it/s]"
      ]
     },
     "metadata": {},
     "output_type": "display_data"
    },
    {
     "name": "stdout",
     "output_type": "stream",
     "text": [
      "idents: chembl=3201885 kinodata=16613 klifs=5135\n"
     ]
    }
   ],
   "source": [
    "import random\n",
    "\n",
    "# set chembl activity id here, ...\n",
    "# choice = 2390222\n",
    "# choice = 3559317\n",
    "choice = None#626043#None\n",
    "\n",
    "if choice:\n",
    "    subs = cgnn3d_only[cgnn3d_only[\"chembl_activity_id\"] == choice]\n",
    "    ident = subs[\"ident\"].iloc[0]\n",
    "    chembl_activity_id = choice\n",
    "# or pick a random one\n",
    "else:\n",
    "    ident, index = random.choice(list(cgnn3d_only.groupby(\"ident\").groups.items()))\n",
    "    ra = load_residue_atom_index([ident])[ident]\n",
    "    ra = {int(k): v for k, v in ra.items()}\n",
    "    subs = cgnn3d_only.loc[index]\n",
    "    chembl_activity_id = subs[\"chembl_activity_id\"].iloc[0]\n",
    "assert subs[\"chembl_activity_id\"].nunique() == 1\n",
    "assert subs[\"ident\"].nunique() == 1\n",
    "\n",
    "klifs_id = subs[\"klifs_structure_id\"].unique()[0]\n",
    "print(f\"idents: chembl={chembl_activity_id} kinodata={ident} klifs={klifs_id}\")"
   ]
  },
  {
   "cell_type": "code",
   "execution_count": 84,
   "metadata": {},
   "outputs": [],
   "source": [
    "from kinodata.data.io.read_klifs_mol2 import read_klifs_mol2\n",
    "\n",
    "pocket_file = Path(f\"../data/raw/mol2/pocket/{klifs_id}_pocket.mol2\")\n",
    "pocket_file.exists()\n",
    "mol2_meta = read_klifs_mol2(pocket_file, with_bonds=False)\n",
    "mol2_meta = mol2_meta[[\"residue.subst_id\", \"residue.subst_name\"]].drop_duplicates()\n",
    "mask_to_weird = dict(zip(sorted(subs['masked_residue'].unique()), sorted(mol2_meta['residue.subst_name'].str[3:].astype(int))))\n",
    "subs[\"residue.subst_id\"] = subs[\"masked_residue\"].apply(lambda x: mask_to_weird[x])\n",
    "subs_with_mol2 = pd.merge(subs, mol2_meta, on=\"residue.subst_id\", how=\"left\")"
   ]
  },
  {
   "cell_type": "code",
   "execution_count": 85,
   "metadata": {},
   "outputs": [
    {
     "data": {
      "text/plain": [
       "ident                    16613\n",
       "chembl_activity_id     3201885\n",
       "klifs_structure_id        5135\n",
       "masked_pred            8.69956\n",
       "masked_resname             LEU\n",
       "masked_res_letter            L\n",
       "model                  CGNN-3D\n",
       "reference_pred        8.760952\n",
       "target                8.769551\n",
       "delta                 0.061392\n",
       "residue.subst_id            75\n",
       "residue.subst_name      LEU156\n",
       "Name: 28, dtype: object"
      ]
     },
     "execution_count": 85,
     "metadata": {},
     "output_type": "execute_result"
    }
   ],
   "source": [
    "subs_with_mol2.set_index('masked_residue').loc[28]"
   ]
  },
  {
   "cell_type": "markdown",
   "metadata": {},
   "source": [
    "#### Plot "
   ]
  },
  {
   "cell_type": "code",
   "execution_count": 86,
   "metadata": {},
   "outputs": [
    {
     "data": {
      "image/png": "[encoded data removed]",
      "text/plain": [
       "<Figure size 640x480 with 1 Axes>"
      ]
     },
     "metadata": {},
     "output_type": "display_data"
    }
   ],
   "source": [
    "ax = sns.barplot(subs[subs.delta.abs() > .05], \n",
    "    x=\"masked_residue\",\n",
    "    y=\"delta\",\n",
    "    hue=\"masked_resname\", dodge=False)\n",
    "\n",
    "\n",
    "sns.move_legend(ax, \"upper right\", bbox_to_anchor=(1.3, 1), title=\"Residue name\")"
   ]
  },
  {
   "cell_type": "code",
   "execution_count": 87,
   "metadata": {},
   "outputs": [
    {
     "data": {
      "text/plain": [
       "<AxesSubplot: xlabel='delta', ylabel='Density'>"
      ]
     },
     "execution_count": 87,
     "metadata": {},
     "output_type": "execute_result"
    },
    {
     "data": {
      "image/png": "[encoded data removed]",
      "text/plain": [
       "<Figure size 640x480 with 1 Axes>"
      ]
     },
     "metadata": {},
     "output_type": "display_data"
    }
   ],
   "source": [
    "sns.kdeplot(subs_with_mol2, x='delta')"
   ]
  },
  {
   "cell_type": "code",
   "execution_count": 88,
   "metadata": {},
   "outputs": [],
   "source": [
    "# get diverging color map\n",
    "from matplotlib import cm\n",
    "from matplotlib.colors import Normalize\n",
    "\n",
    "norm = Normalize(vmin=-1, vmax=1)\n",
    "cmap = cm.get_cmap(\"bwr\")\n",
    "cmapper = cm.ScalarMappable(norm=norm, cmap=cmap)\n",
    "\n",
    "\n",
    "def map_to_hex(val):\n",
    "    max_val = subs['delta'].abs().max()\n",
    "    rgba = cmapper.to_rgba(val / max_val)\n",
    "    hex_color = f\"#{''.join(f'{int(255 * x):02x}' for x in rgba[:3])}\"\n",
    "    return hex_color\n",
    "\n",
    "subs_with_mol2[\"colorcode\"] = subs_with_mol2[\"delta\"].apply(map_to_hex)"
   ]
  },
  {
   "cell_type": "code",
   "execution_count": 89,
   "metadata": {},
   "outputs": [],
   "source": [
    "import requests as req\n",
    "\n",
    "\n",
    "for struc in 'ligand protein'.split():\n",
    "    resp = req.get(f'https://klifs.net/api/structure_get_{struc}?structure_ID={klifs_id}')   \n",
    "    with open(f\"/home/michael/{struc}.mol2\", 'wb') as f:\n",
    "        f.write(resp.content)"
   ]
  },
  {
   "cell_type": "code",
   "execution_count": 90,
   "metadata": {},
   "outputs": [],
   "source": [
    "!mv ~/ligand.mol2 ~/template_ligand.mol2"
   ]
  },
  {
   "cell_type": "code",
   "execution_count": 91,
   "metadata": {},
   "outputs": [],
   "source": [
    "Chem.MolToMolFile(mols_by_chembl_id.loc[chembl_activity_id, 'molecule'], \"/home/michael/ligand.mol\")"
   ]
  },
  {
   "cell_type": "code",
   "execution_count": 92,
   "metadata": {},
   "outputs": [
    {
     "data": {
      "image/png": "[encoded data removed]",
      "text/html": [
       "<table><tr><td colspan=\"2\" style=\"text-align: center;\"><image src=\"data:image/png;base64,iVBORw0KGgoAAAANSUhEUgAAAcIAAACWCAIAAADCEh9HAAAABmJLR0QA/wD/AP+gvaeTAAAgAElEQVR4nO3dZ1wUV9sG8GsLZekLCyuCiGIDoygSotgeFCWK5UWkaMQkFmyIGqMkeTRo1DzExIhdiFERK5YoEQtETVSwQSQWVBALCEjvbZfdeT8MrsRoQHYB0fv/48PMObNnzhK8cqad4TAMA0IIIY3FbekOEEJI60YxSgghSqEYJYQQpVCMEkKIUihGCSFEKRSjhBCiFIpRQlRPJpPJZLKXVlVUVLz//vuhoaHN3CXSdChGCVG9lStX9u/fPzU19Z9VS5cujY+P37x5s1QqzcrKunnzZvN3j6gWh26/J0S1rl271r9/f5lMFh0dPXTo0LpVV65c6d+/P4fDWb169fXr1/fu3auhoZGVlaWnp9dSvSXKoxglRJXKysrs7OxSUlIWLVq0evXqulU5OTl2dnYZGRl8Pr+mpkZRvmfPnokTJzZ7T4nK0EE9Iao0Z86clJSU3r17r1y5ki0pKiratWuXp6enubl5RkYGALlc3r9//44dOwKYPn06ZWhrR6NRQlTm0KFDHh4eWlpaCQkJbdq0iYyMPHjwYExMTHV1tWKbefPmBQQEHDhwYMGCBW3btr1165ZQKGzBPhPlUYwSohpPnjyxtbUtKCj45JNP8vLyoqOjJRIJAB6P17dvXw8PDysrq3v37i1cuPDRo0c9evQoKys7evTo2LFjW7rjRFkUo4SoQGFh4YABA5KSkjic2n9TfD7fyclp/Pjxbm5uxsbGii0ZhnFxcYmJiZk0aVJ4eHjLdZmoDMUoIY0nl8vPnj27a9euI0eOmJiYPHz4UDH29Pb2FovFL2xfVFTk6uoaFxdnYmKSlJRkZGTUIt0mqsVv6Q4Q0irdvn07LCxsz549mZmZALhcrrW19eLFiz09PQ0NDV/6kV9//dXf3//Ro0c8Hm/58uWUoW8NilFCXkNhYeHBgwd37doVGxvLlnTt2tXb23vy5MnslfeXunz58meffXbp0iUAlpaWfn5+M2fObKYek2bAEELqU1NTExMT4+Hhoa6uzv7D0dfX9/HxiYmJkcvl7DZJSUlfffVVaWlp3Q+mp6f7+PhwOBwAIpEoODi4pqamJb4BaUIUo4T8m1u3bgUEBJiYmLDpyePxnJ2dw8LCysvL2Q0KCwtDQkLYZ5MA7Ny5ky0vKysLDAzU1NQEIBAIAgICiouLW+57kCZEMUrIS2RmZgYHB/fu3Vtx3GZjYxMUFJSVlcVuIJFIIiMj3d3dNTQ0FOPT6dOnJyYmymSysLAw9voSh8Px8PB4+PBhi34b0rQoRgl5rqqqKjIy0sPDg8+vvWwgFAp9fX0vXLig2IYdnyquwnO5XHZ8WlZWxjBMTExMz5492aq+ffvGxsa23LchzYRilBCGYZj4+Hh/f3/F1XN1dfVRo0ZFRERIJBJ2g/z8/JCQEDs7O8X41NraOjAw8NGjR+wGd+7cGTVqFFtlYWERFhamOG1K3m4Uo+Rdd/bs2c6dOyvC0cHBYePGjfn5+WytYnyqpqb2qvFpbm6uv78/O4AVCoVBQUFVVVUt9G1IC6AYJe+65ORkDofTtm1bf3//xMRERTk7PhWJRGx6cjicXr16RUREVFdXK7aprq4ODg5mp7lTU1Pz9fXNzs5uiS9BWhLFKCFMXFycTCZjl588eRIcHKw4v8me/WQXJk2apPiIXC6PiIjo0KEDW+Xs7Hzr1i22qrKycubMmWpqal9//TUd178LKEYJYRiGqaysjIiIGDVqlOLiEnsDExujjo6Oa9euTUtLYzdmZ19ma+3s7M6dO1e3KfY2e5aTk9PNmzdb4PuQZkQxSt5pVVVVR48e/fDDD/v06cMGn6ampre39/fff8/lcvv37x8UFJSamqrYPiEhYfz48eyWZmZmO3bsUAxjFWQymUAg4HA47IwkfD7f19c3Nze3eb8ZaT4Uo+RdVFNTc+HCBV9fX319fTYTtbS0HBwcQkNDi4qKGIaRyWQZGRmK7VNTU4ODgz/44AMul6uvr6+lpRUQEFBSUvKq9m1sbABcvHhRcenJ0NCQHmF6W1GMkneIRMKcPCn79NOpdWdKNjAwAODo6PjP85i3bt0KDAzs3r076rCxsambsC/FziJ66NAhhmHu3Lnj4uLCfrZ37951L/GTtwPFKGllZs5krlx5vrpmDbN7N8MwjJsbs3Hj83JPT+bx49rlmhrmwgXG358xMWEApmfP2WwaBgYGbt68GYC2tvaDBw8Un2XTkx1RKm5yGjZsGIfD0dDQSEpKqreTCxcuBBAUFKQoiYyMtLS0VDzXpDjNSt4CFKOklbGzY6Kinq9Om8asWMEwDGNoyAiFTEpKbXmbNszNm8xvvzG+voxIxAC1P927M8HBd+/cucMwTH5+fps2bQBs2bKFeZae1tbWivQ0NDT08fGJjIwsKChgJ3D67rvvGtJJNp2nTZtWt7C8vFzxlL22tnZgYCDdXvp2oInyyNtj+nTMmYPTp2tXc3MxbBjYeck7dMDo0Zg8GX36AOjKbjB//vynT5/a29tnZWVZW1vfvXuXLRcKhU5OTv379+/cuXNRUdH9+/dXrlz54MGDXr16LViwoCE9Ye/nv3//ft1CLS2tZcuWTZ069b///W94ePjy5cv37t27du1aV1dXlXx90lJo9nvSyvTpgw8/hOKZzK1bMXgwliyBkRHi4zF6NJYsgbc3TE1x8ed7qfM3WNXcM7bS0/tkHCZOBIeDggLk5iIvL+rAgZUbNgzlcIwYRgSIgNOamj/z+VKptO4b6BT4fP7Vq1frTlbyLx49etShQwdzc/P09PSXbnD27Fl/f//bt28DcHZ2Xr9+fd1RMGldKEZJK9OnD9q2hYVF7ervv2PChNoYTUzEgweYMAF37+L/rG7G1DjxPl+A4cORmYkvv8TIkfjhB4hEyM8HsB+YCDwE2j9r+dbAgT0uXAAgEAhEIpGxsbGJiYment6pU6dKSkpmz569YcMGxa34/04ul2tpaUkkkrKyMi0trZduI5VKN2/eHBgYWFxcrKamNmvWrJUrV+rq6ir7CyLNjmKUtDJ9+mDFCowcWbs6fTrat38eo+3aYfJkmJpiwHpPxwntjbZ/X7tdSgp69MCDBxg3DoWFEIkgEn2XnDy4a9cPBg7kGBtDJCoSi4tFIpFIpK2trdhdWVmZSCRix6c6Ojpdu3a1sbHp06dP9+7dP/jgg39Jva5d7ZKTvSIi3D08OgGoqsKyZfjf/xAbi0ePMGlS7WbXrxfOnXvx0qX/k8vlbdu2/d///qeY5pm0Gi18bpaQ1/Qvl5jYq99PnzJiMZPKsXq848zfPmltzZw82ZBdVFRUZGRkxMfHR0ZGhoWFDRs2rFOnTnWzlcXlct3d4zw8mJUrmV9/ZV649u7iMgmQW1oWSaUMwzBFRQzAyGTMunWMp+fzzS5cYDp1YuLj4/v168c2O2jQoLqP9pM3H11iIm8bsRhLlsBwbn6hnvBvFYaGyM1FQQEyM5GXh+xs5OXV/uTmIienXE2t882beXl5Uqm03r1wuVx1dfXHj7vEx+Pgwed7sLWt/TEz6wBU6ujkBAfrf/55Pa316dMnNjY2PDx88eLF58+ft7Oz++ijj9asWVP3zczkjUUxSlqZdevQtevzVX9/CASQyRAWBkXmzJqFirXtTWvSgTpXhNLS0KEDvvwSoaEvbVkgEmXl5QHQ1NQUCoVCobBt27ampqb/XGZXpVLpnTucxETcuIHERPz1F/LycO4czp0DgCVLLAG8915YUNBKT088e1oKAMrL8eBB7XJmZu0Ch8OZPHnymDFjgoKC1q5dGx4efvz48SlTpnz77beKF0CRNxOdGyUqxjBMeXm5jo5Oc+700CF88gmWLkVAwLOihQtx7x5+/RXsecaoKHz8MdLSsHEjdu2CSARjY5iYsCdJIRLBxIQxMckyMhKJRI2OrYwM/PUXbtzA/ftwcfnd09NhyJDRjo5nbt5EWBgMDCCTYeNGfPMNunSp/UhpKaqqkJLyt3Zu3749derUK1euAHB0dFS8hZS8mWg0SlQpKytrypQpFy5cEIvFKSkpDbyurbwff0R5+d9GfFi6FEOHYsgQuLggIwO7d2PnTmhpYfFiLF780kY4QFvlumFmBjOz2stf8fEdANy/f//4cbz33vO7WQEMHYoDB2qXL17Ep5/WLmdnZ58/f/633347efKk4k6pdu3aKdcp0uQoRonK7Ny5c/78+cXFxQAePHiwdu1a9pnIphYbi0uXYGgIH586pQYGuHwZUVG4dw82NrhxA82bR+bm5kD1kydPgMp16wT+/i/frLKysrxcPn/+f2NiYpKSkhTlZmZmzs7OlpaWPn/7VuSN1NLXuMjbICsri52MA8DIkSO3bdvG4XDU1NQuX77cDHt3c2MAZunSZtjVa8jJYTicCgDsdM5jxz6/Uu/hIY+Pjw8KCnJ2dlZTcwJqD+m1tbWdnZ2DgoLi4+NpvudWhGKUKCsiIoJ9E5y+vn5ISAhb6O/vD8DKyqqpX87+4AHD4zEaGsyzNx+/KcrLGWvrnwAcPXqUYZi0NGbx4vytW0OGDv1CR+f5AJPHs7SwCAoICIiJian7ehLSilCMksbLymLc3WVWVqMBuLq61p0+rqqqin1u0rPuTZJNYM4cBmD+PgfIm2L69C+BM7a2B6dMmfLCKc5u3brNnTv32LFjTf2/GdIMKEZJI+3dyxgZMQDzwQfF27dvZwtPnTr1+++/s8spKSnsQz47duxooj4UFDA6OgyHw9y+3UR7UMrixYu5XBHgwEansbGxh4dHSEiI4p3M5O1AMUpeW3Y24+5eO+/c8OG1T+8UFxdPmzaNw+G0b99eMcLauXMne8qvIXN0NsKqVQzAjBzZFG2rQE1NzfXr14cPH/7DDz8kJibS6c63FcUoeaUrV5i7d5+vXrvG5OQwERGMsTEDMHp6TEgIwyZDdHS0hYUFAE1NzaCgoLqvymAvNL/33nsVFRWq7V51tdTcnAGY335TbcOEvB6KUfJKDg6MWMwUFNSuDhzIbNrEcLkMwDg7184tX1LCfP11AjuVxvvvv3/7H0fXpaWlXbt2BTB37lzVdm/79u3t2g2eMOGGapsl5HXRU0zklT74AFwuevfG5s0AMGgQPv8cCQkwNcWMGeBwam8df/AAtrZzhw/XXrFihZqa2j/bSUhI6N+/f3V19S+//PJ///d/quqera3tjRs3du3aRXdWkhbW0jlO3lwODsyxY4yZGRMXxzAMM3Agc+xYbVVZGTNnDsPhMABjZ8fcuPHiS4Zf8OOPPwIQCoWqurpy8uRJAG3btqWbhEiLa6Zn9UgrpauLb7/F7NmoqXleWFUFOzts2gQ+H998g8uX0aNHPX9I8+fPHzNmTGFhoY+Pj0wmU75ja9asAeDv70/TdpAWRzFK6uHjAwMDbN36vERTE25u6NEDly9j6VK87Dj+RRwOZ8eOHRYWFhcuXFixYoWSXbp58+aZM2e0tbWnTZumZFOEKI9ilNSDw8GGDVi5EoWFzwuXL0dCwvMXIjWEoaFheHg4j8dbsWLFmTNnlOnSDz/8wDDM1KlT2aenCGlZFKOkfu+9h0mTcOvW8xINjQYNQl8waNCgr776Si6Xf/zxx3l5eY3rTGZm5v79+3k8nv+rZvsgpHlRjJJXev99GBrWLgcGYtQoKD8X+7Jly5ycnDIyMiZPnsw06i6RDRs2SCSScePGWVlZKdsbQlSBbngi9cjNxcmT0NSEp6dqGnzy5EmvXr3y8/ODg4PnzZtXt6qioqK8vLy0tLS4uLi8vLyioqK4uLi0tLS8vLy8vLyoqKioqCg8PLyioiIuLk7x8iJCWhbFKKnH9euws0PPnvjrL5W1efTo0XHjxvH5fGtr6+rqakVKNuSv0cTERCAQPHr0SGW9IUQ5FKOkHllZaNsWJibIzlaqnfLy8gMHDnh7e7Pvbe/WrVtJSUlWVlbdbQQCgZaWlr6+vq6urra2tra2toGBAbugo6NjYGAgEAiWLVtWVFR0/fr1Xr16KdUhQlSEZr8n9TAxAY+HvDxIpY25rKSwd+9eX1/fiIiIU6dOpaWl3b9/n8vlnj59ul27dtra2rq6uvr6+g156UhKSsqmTZv27dtHMUreEHSJidSDx4OxMeRy5OQo1c7WrVsBTJ48mV2WyWReXl7Dhw+3tra2sLAQCoUNfHHThAkTAOzbt08ulyvVIUJUhGKU1M/UFAD+fvz9ei5duvTnn3+KRKJx48ZJJJLt27cDmDVrVsNb2Lt37+jRowsLCx0dHS0tLdPT0+l9meQNQTFK6temDQA8fdr4FrZs2QJg2rRpmpqahw8fzs7O7tmzp6OjY8NbCAsLO378+OHDhzkcjpeXF4B9+/Y1vkOEqA7FKKmfkqPR/Pz8gwcPcrlcX19fPIvU2bNnv1YjimN5xfLBgwelUmkj+0SI6lCMkvqxMdro0ej27durqqpGjBjRoUOHpKSkixcv6urqslHYcOPGjRMIBL///ntGRoatrW337t3z8vJ+++23RvaJENWhGCX1Yw/qGzcaZRjmp59+wrMzoZs2bWIYZvLkyXp6eq/Vjp6e3ogRI+Ry+cGDBwF4e3vr6bU7d66m3g8S0tQoRkn9lBmNnj59OiUlxcLC4sMPPywrK9u9ezeAGTNmNKKpusf1EyfOl0rTtm4dXVnZmF4RokIUo6R+yoxG2TOhs2bN4vF44eHhJSUlgwYN6tGjRyOaGjVqlL6+/tWrV1NSUjp21OnRA6Wl+PXXxvSKEBWiGCX1a/QlpvT09KioKHV19U8//RRA3aP7RtDU1JwwYfagQXuPHzcAwJ5cpcv1pMVRjJL6KQ7qX/fJ4ZCQEJlMNn78eLFYfPHixevXrxsbG7u5uTW6J2PHfnv+/ITQUGMA3t7g8XDiBAoKGt0eISpAMUrqJxBATw/V1Sgqeo1PSaXSHTt24Nnwkz26nz59uoaGRqN74uwMsRh37yIxEW3a4D//gUSCX35pdHuEqADFKGmQ2bOxZMnrfeTIkSOZmZk2NjYDBgzIy8s7cuQIl8udPn26Mt3g8+HuDjw7lqfjevImoBgl9fjjD/j5YelSrFgBoRCxsX97L9O/YIeffn5+ALZt21ZVVeXq6mppaalkfxTRKZfD3R0aGjh3DhkZSrZKSONRjJJ6JCVhyxasXFm7evcuYmLq/9SdO3fOnz+vo6Pz0UcfyeXy0NBQKHFxqa7+/WFpifR0xMbCwAAjRkAux6FDyjdMSCNRjJL6jRyJ7dtx+/ZrfGTz5s0Mw/j4+Ojp6Z08efLhw4cdO3Z0cXFRvjMcDry8gGfH8rNmYdkyjBqlfMOENBLFKKmfoSGWLsWsWQ29Ul9RUbFnzx4AM2fOxLOj+xkzZjRwKrx6TZgAMzOYmQHAvXsoKEDHjrVVW7fSnaSkudG0zaRBZs7Ezz9j587a1YIC5Oaia9eXb5yTk+Pg4FBeXt6zZ8+0tLRTp05paGh88sknquqMrS3S0sBm8tWriIiAnR0+/hgA4uNRVobRo1W1K0LqRzFKGoTHw+bN8PCvei/ocYkPfG4gNRXc9cKBNSajRsHFBerqzze2tLQ8deqURCIBsGXLFplMNnHiRBMTExX2p+641tcXX3yB0aOfv8eUkOZEMUoaqm9fDBwmu1sjMT/RuU8fJIYi5xH/TgFCQ6Gvj+HD4eHx0MlJVyQSsdurq6tLJJK6t442ke7dASAgAD/91HQ7IeSV6NwoeQ1+fpBLOWr5moEzNNOvaV6O5gcGok8flJTg4EGsXLlGLBbb29svW7YsISGBYZhDhw5lZ2fb2to29cuQv/kGx48jLq5Jd0LIy9FolLxSZia4XPTtCwuL2hI9PeiLZd1n5h7JBYBhvQyX9eEtW4bHjxEVxURFpScnqyckJCQkJCxfvrx9+/bscf3rztDcCEIhvvsO/v7o2bOpd0XIi2g0Sl6ushJjx+L996GmBlfX5+VcPmNiI8mUSDIlkppnV+7bt8fs2ZyoqGMFBQUxMTH+/v5mZmaPHz8uLi4Wi8XsOz+amo8PtLRw/Hgz7IqQv6EYJS/BMJg2DfHx4PMhFv+tSo/P9zMzY3+E/BePZgQCgbOz87p169LT069du2ZgYJCdnR0fH98MfeZwsGXL6z31T4hKUIySl/j2W+zdC11dREbC2BgAJAzzsKqq4S1wOBx7e3v2Cfq9e/c2UT8BTJuGYcNql7t3R3Q03e1EmhuHed25z8jb7tgxjBsHAL/8gjFjAKBKLl+cmnqjvHxxu3YhWVnH3nuvgU3dv3+/c+fOenp6T58+FQgEKu9qTQ06dYKNDfbsgVCo8uYJaRAajZK/SUrC5MmQy/Htt7UZWiqTzUlJiSspUedyzTQ0vnmduUU6depkb29fUlJy4sSJpujtL7/g8WOkpsLAoCmaJ6RBKEbJc/n5GDMGJSXw8MDixQBQIJXOSE7+q6zMVF19W5cutjo6tjo6r9XmxIkT0WTH9Rs2AMC8eeBwmqJ5QhqEDupJLalUOm7ctMzMtYDhhQvQ0kKWRDInOTmtutpSU3NT587iug8qNVhWVla7du34fP7Tp08NVDpoTExE797Q00N6Ol7zNaOEqBKNRkktPz+/48d35eW9f/y4REsLj6qqpt67l1Zdba2l9VPXro3LUACmpqZOTk7V1dVHjhxRbYfXrweAadMoQ0kLoxglALBx48bQ0FBNTc2DB/eZmqonXL8+Lzk5RyLpo6u7tUuXf97Y9Fqa4rg+Lw/794PLRdPf2k9IPShGCc6fP79w4UIOh/Pzzz87ODj8/vvvToMH565ePVRPb32nTto8npLtu7u7CwSCc+fOZahukvrQUFRWwtUVVlaqapKQRqIYfYf5+mLYsMoBAxhn5wESyRdffDFx4sTjx4+PHDmytLS0A8OstLTUUMUMoXp6eiNHjpTL5REREcq3BqCmpvZFJnPnqqQ9QpTDkHfT9OmMjg4DsD8lamo1NTV79uxRU1MDMGvWLJlMpsK9HT58GIC9vb1KWouIYADG2pqRy1XSHiFKodHou+ryZZSVbe/bl33kR0dNLTQ01MfHRyqVBgQEbN68WVUz1bNGjRplaGgYHx9/79495Vtj73OaO5fucyJvBIrRd5RcLgcQfPnyH1wuAKlUOnv2bIZhVq9eHRQUpPLdqauru7m5Adin9NuQExNx4QIMDODjo4qeEaI0itF3DsMwOTk5Dx8+BHADKJHLAUilUh6Pt23btkWLFjXRftnr9bt372aUu1WZvc9pyhS85nMAhDQVuv3+nbNw4cKQkBDX8vI9daabDTE3FwUHu7u7N91+5XK5hYVFRkbGlStXHBwcGtdIXh7atYNEguRkukZP3hQ0Gn23bN68+ccffywvL79sYZH95MmluDhNDQ0OgCVLmjRDAXC5XHbi0QbeQFpWhtRUVFb+rVBdHV9/jWnTKEPJG4RGo++Qo0ePjhs3jmEYc3Pz69evSyQSe3v7rKwsf3//devWNUMHEhIS7O3tTUxMMjIy+Hw+gLt37/7555+5ubm5ublZWVlyueXdu0uzspCbi4oKAIiLQ1YWLl1CUBDYG1gjI1FdDQ+PZugvIQ3TkrcJkGYUHR3NXnwXi8XFxcUVFRUdO3YEMGDAAKlU2mzdsLGxARAdHc2u/ve//63719imTZ9nt2AxWlpMhw7M+fNMQADD4zEbNtS28PXXzIIFzdZfQupH72J6J5w9e3bEiBFyuVwoFN69e1dXV9fBweHBgwcAXF1d+co96/lavLy8AgMD9+7dO2zYMAC9e/f29vY2MTExNjYWi8Vt2piJRBCLIRZDW7v2I1FRmDABK1bA3R2mps3WU0Iaig7q334nTpwYO3ZsTU2NQCC4e/euhYXF8OHDY2JiAHz22Wdr1qxpzs6kpqZ27txZV1e33omc8/ORkwMdHWzaBHV1yGRITcX+/QgMRGkpfvyx2bpMSD1oNPqW279//6RJk2QyGZ/PP3funIWFhbe3N5uhc+bMaeYMBWBlZeXg4HDlypVVq1a5ubllZ2fn5ubm5OQ8ffqUzx9y44Yre2I0NxdSKQDMnQstLQD46ivY2CA6upn7S0j9KEbfZqGhoTNnzmQPOHbt2uXg4DB58uQDBw4A8PLy2rhxY4v0qmPHjmyMrlq1qm65g4P+1avP30FqYACxGEIhqqsBQFsbwcGYNw9ubs3cX0LqQTHauv1VVjYjOVkxCZOXiYnvs9OH69evnz9/PpuhgYGBnp6eEydO3L9/P4D//Oc/7EKLCAoKSktLS0lJadu2rampqUgkMjY2NjU1NTfvpaeHNm0gFkMkgoZG7fZffFG74OaGbdsQHk6X6cmbhWK0dWMAMw2Nw927v1D+3XffffEsftzc3AICAsaPH3/06FEAnTt3bqI3IzWQhYXFxYsXG/fZ9evR4PfpEdJMKEbfFoWFKCwEwDDMF2vXrt60icPhMAxja2u7devWsWPHsudDRSLRuXPnmuIlnU3HzQ2KKU+trBAZSY+BkjcLXalv3RLLyubdvz+Cw7H/4Qfn3bvZwr+AYTxerkxmZGQUExMzZ86cS5cuAdDQ0Dh//nyjH8QkhLwUPQza6mlzua7h4c67d5fp6mZoaFQCtkBvmUxNTS00NPSTTz5hM5TD4Wzfvp0ylBCVoxht9QQ8XndtbQBrKivfEwguPbuXfvny5QEBATdu3ODxeAC+/PJLdo4lQohqUYy+Ddj/itY1NZ4cTjs1NQBDhw7dvHnz/fv3BQKBTCYbMWLEN99807KdJORtRZeY3gY3Hj3qCXgCnoWFbMm5hIQnRUVGRkb5+fnW1tb79u3jKf1mOkLIS1GMtm49dXQCpNJBhw8vAcb26tW5c2cAcicnnbNnjf/4Izc319DQMDIyUl9fv6V7Sshbi2K0dcvNzh4/Zkxxefmtjz/+fOdOtpALVJ04kZuby+FwDhw40KlTpxbtIyFvOTo32opJpVJPT8/09HRHR8eQkBBF+ddff3tDgFAAAAk/SURBVH38+HEAs2fPdnZ2brkOEvJOoBhtxWbPnn3+/HkLC4sjR45oaGgAYBhm4cKFK1as4PF4q1evbqmn5gl5p9BBfWu1Zs2abdu2CQSCw4cPi8ViADKZzNfXd/v27erq6nv37m3ql4IQQlj0FFOrFB0dPXLkSLlcvm/fPvYFRxKJ5KOPPjp06JC2tvaRI0eGDx/e0n0k5F1Bo9HW5969e15eXjKZbNmyZWyGVlRUjBs37vTp0wYGBlFRUY6Oji3dR0LeITQabWVKSkr69euXlJTk5uZ2+PBhDodTVFQ0atSo2NhYsVh8+vRpW1vblu4jIe8WitHWRCaTjRkz5sSJE7a2trGxsdra2jk5OS4uLomJie3bt4+JiWHvGyWENCc6qG9NFi5ceOLECSMjoyNHjmhra6elpQ0bNiw5Oblbt27R0dHt2rVr6Q4S8i6iG55ajbCwsHXr1qmpqR0+fLhjx4737t0bOHBgcnKynZ3d+fPnKUMJaSkUo61DXFzcjBkzAGzcuHHw4MG3b98eMmRIWlragAEDzp49a2xs3NIdJOTdRedGW4G0tDQHB4fs7GyRSPTXX389efJk5MiR+fn5Q4YMOXbsmA7NBU9Ii6IYfdNVVFQMHjw4Pj5eV1e3tLTU3Ny8qKiorKxs7Nix+/fv19TUbOkOEvKuo4P6N1337t1t4uOXisUPvvjiK7G4IDOzrKzMx8fn0KFDlKGEvAloNPqmWyQWL8vJ0X62egj4w89v3bp1XC79L5CQNwLF6JuuQktLq7JyF6ABeAEFRkaGeXkt3SlCyHM0onnTaWlpAVghFC4FABgaGrZsfwghL6AYbR0uOzpeebNnG6moqCh89gqTF9TU1OTm5r7quKesrCw7O/tVtXK5/FVt5uTkvOpTVVVV+fn5Deg1ISpAMfrGs7UFYBQVJYyOVqy+UWJjYx0cHLS1tQ0NDdu0aRMcHKyoysrK8vLy0tLSMjEx0dbWnjVrVmlpqaI2KSlp4MCBenp6bdq0MTMzCw0NrdtsWlra559/LhQKx4wZ80L5mDFjBAKBWCzW0tKaNm1aSUmJojYuLs7BwUFLS0skEhkZGa1atapu1BoaGnLqaN++vep/HeTdQw+DvvGOHsX+/WCzgMfDRx+1dIf+5s8//xw6dOjkyZPXrl3L5XJDQ0MXLFhgZGTk4+NTVVU1ePBgAHv27OnQocPZs2e/+uqroqKiffv2ASguLh42bJhMJjt69KiJicn69etnzJhhYGDg6ekJYPHixWvXru3atauWllZxcXHdPbq5uT19+jQqKqpbt26xsbFTpkypqqravXs3gJycHFdXV2tr66tXrxoZGYWHhy9ZskRfX9/Pzw9AVVVVUVHR/PnzXV1d2aZ0dXWb+ddF3k4MIUp48ODBmjVrFKsymczAwMDLy4thmOLi4iVLljx8+FBR6+npqampWVNTwzDM6tWrAZw5c4atqqmp6dy5s42NDbt66dKllJQUhmGcnJwGDRqkaCEzMxNAYGCgosTb21tfX59d/uWXXwCcOnVKUWtpaeni4sIup6amAjh69Kjqvj0hDMMwdFBPlNKhQ4fPPvtMsVpWVlZeXm5gYABAT09vxYoVlpaWitouXbpUVVXl5uYCOHPmjLm5uZOTE1vF4/G8vLySkpLYoOzbt+9L38SnoaHB5XJv377NPDtUz83NFYlE7LJAIABw69YtdlUikRQXFxsZGbGrWVlZANq2bau6b08IQAf1RCWkUunjx48fPXq0atUqY2PjRYsWvXSze/fu6evrs6mXnp7epUsXDoejqO3SpQuAJ0+e/EvSGRoafvrppz///LOzs/OCBQsyMzNjY2MPHTrE1g4ZMqRXr16LFi26ffv2jBkzduzYoampuWzZMraWjdH9+/evWrVKJpMNGDDAz89PW1v7VfsipKFaejhM3gb3799n/5zU1dXDwsJeuk1qaqq6uvrixYvZVSMjo/Hjx9fdICoqCsCxY8fqFr5wUM8wTHp6eps2bdj7wABMmjSpvLxcUXvu3Dk+n6+oXb16tVwuZ6suXrzo4OAwa9aslStXfvzxx+rq6r169SorK1P+65N3HMUoUQ2JRPL48eNvvvkGwIYNG16oLS0ttbe3b9++fUlJCVvSsWPHDz/8sO42+/fvB/DHH3/ULXwhRnNzc9u3bz98+PCysrJr167NnDmTx+P169dPIpEwDHPlyhWBQLBo0SKJRHLixImRI0cC8PPze2mH2THsxo0blf/u5B1HMUpUbMCAAVZWVnVLCgoKBg4caGpqmpycrCgcOHBgz549627G3imVmppat/CFGP3hhx8A3LlzR1ESEhICIDIykmEYd3d3kUgklUoVtZ9++imHw3n69Ok/+1ldXc3j8aZOndrI70nIM3SJiShLIpHUXRUKhUVFRYrVxMREe3v7rKyss2fP1n3HSe/evW/evJmWlqYoiYqKEolEFhYW/7IvtuW6j3JZW1sDyMvLY2v19PT4fH7dWoZhXvpcQGFhoUwmo6fCiPIoRolSDh061L17d8XF8UuXLv3222+DBg1iV/fs2dO/f/8uXbpcvXq1W7dudT/o6+vL5XJnzZpVXV0N4MiRI2fOnJk+fXrdEPynfv36Afj+++/Zp5ukUunGjRt5PN7AgQPZ2ocPH0ZERLAbFxQUhIWFmZubW1lZAZg/f76/vz8bxKWlpX5+fjwez9vbW6W/D/JOaunhMGndsrKy+vXrx+Vyra2tu3XrxuVybWxs0tPTGYaJZh+7AvT19YV1HD9+nP3sli1b1NTUhEIhG3MuLi6VlZVs1ZUrV9iN+Xw+n88XCoUmJiYMw8jl8nnz5vH5fEtLy6FDh5qZmWloaISGhrKfKi4udnFxAWBrazt48GADAwMTE5MLFy6wtVu3btXV1VVTU7OyshIIBNra2jt37mzu3xd5G9EMT0RZcrn8jz/+SExMlMlk1tbWw4YNU1dXB5CRkREXF/fP7R0dHc3MzNjlx48fR0dHV1RUsMGnuP8pPz//7NmzdT/F5XLd3d3Z5dTU1IsXLz59+tTY2NjFxUXRGuvatWvXr18vLCzs2LGji4uLnp6eoqqoqCgmJoa91j98+HDFDaeEKINilBBClELnRgkhRCkUo4QQohSKUUIIUQrFKCGEKIVilBBClEIxSgghSvl/QPdHGJfGLhoAAAKJelRYdHJka2l0UEtMIHJka2l0IDIwMjQuMDkuMQAAeJyljltIVFEUhvfsM3PmfnWaq+YpG/MyMWmFZU2z18JAEnopDCvwPBQcNeoxKjEllEqyKA26YKKO99IsykidATPo9mJBlwfLAkEYKyUqKqqjU0EPPbng4/sf9l7rfz98ZZzIY5GhJD7JMikylQqeSbI5buEhbS4oF2zyx+JcX/qv5TvzVnDq+Pv/m8wXo4q/QRPfTLVEmNvwW3rCSZQoRQWVqEIrUp3ImUSlWaIqrYxR5DUi75SoWi+qHRLV6GUsotYq6IwS1S0ierdoMEnUYBYNbsHoEUxJxLyYWFwStXgEq1ewJqZRWwKx2UmCndi9xOESnW4RVfJpnijNBhPHK7Qqo46qeI3e7eTVDpdFo+dsCXZnhUKuR+KQ5MRyX3R77Ag8a8nBbw/72MzbXhitcKHXOMAyOvthaCwJ193wR2fHKuGsKxs3G15GqhpqgJbl4vfOIpbl7oDkjx683D29cbA6DL2+FRiN1YRUoycg6E3Hkd1nQmWeRnj1Oh1jgVpmvtQFu8xOXNF/nrlS+6Dy1hJ8MLI0tCFYDxklmZj3tTpyb7pO/puNQb/E1ox3gTNfwINTnyLhLcfAvy2ANvv+yGprHVxsy8G1X3g2cagR8id8uK/lKEsaaIf1VVbU9DSx1Cfd4DygxDdT99mqu2E4PaPEd+VhdmprCzy6qsGComYWC1wH/57lmD35IxTdWwsvgj6cHXs8XDreBI7DK/H5B4HtzGqAHa0p6Cg9OZxXcg4GCwOo9WawyVAHPM1chncG2tltYxvkFZiw0BRkFz63gT1iRgPloj3643DtZzo2b7o51FpcD4XFuej4BWwmwBZZr4AXAAADJXpUWHRNT0wgcmRraXQgMjAyNC4wOS4xAAB4nH1V2Y4UMQx836/IDxDFR+L4kb0QQjsrwcI/8M7/i3LS053wwByajlWxy+VjhAv1Xh9SvL4/f/v9J50veX6Avfzn4+7pl5RSHt5SPKTHly9fb+np4/Pj3fL0/vP28SMJJam4g/eO/fzx/na3UHpKnzjXXq3gVLN7ZTwpnghRlssMaM2V1WFlyt4beCTpmVj6ipSBtEotkJxFOJ7Es9a6IXWGb95rhG+ZSuSWVCPQFr4GlLIVOaCdJ7TlVrSu0AaoZC2RQDAtxAdTk64r0oAsWZtGzlxAJOInlcy9bUw7kPBUlSK6ZdE2dOLM1tqK9IEklaGoZ2vsE6nNNyShVknhaphBFDqFUzFcqlv2RAPapzzQFD0UlxTs2XmD8kiqyZCaOpT0g0CvbBtUpqhFm820emt0139Pi3So2tjsIFtH0cCgWNlUpaNWHokPt2XqDl278M42ivWpZBfxibU6sdGB/9CNcjF6pPuUts8WVcpqe7NSH3oRjSqgst5G30rLYm1n4KNdC9/bRS38JhFcHy1+jUAUDB6K9+nVuPQJZam+QWl4JaM6oUqjHgJSVra0eE5WMdFjXnwqQLlr37qQJd3QXO6kUyzlwRVQob0IrIBCWC1cJgPo1mZticsmAVdgsQVIbbYMxKJZW/xus8VtuuWpIrC90Flb3ROz4bZVO1ZGEeLJtoD4Bu2A1sxKcihbR0sKNo7JzsDTO7x61SOvbsUn1GXvWXxeY7+U0R6hF9zbMYzuG1msy9dIbDTXnJs5FVgw1YVW7Mvteduic68+vt+er72q8b12ZxzrtSAVJrm2YBxpWXUKCNG1zwJB53XDqWJyrt2kwNCygcb5jE4RwpIvyyTOfAGCX8fPshjCwCdFCga+Iuo02DLIFJGoL+OqEWsh0gND6PFl+DTC85kMB1nEv9JlOiwXhsOPrLckLJDx5MOhOFjK2uUUNOUUlkNZ0OQrlgXGVj+DM7Q480ID8rCcgo6CIxVeu2lazlgSnLmsluCM5C7PMjpBFj4SMiOVK9PovbXT4nz/98fzw1+xOI2BO5PPvAAAAa96VFh0U01JTEVTIHJka2l0IDIwMjQuMDkuMQAAeJwtkjmO3FAMRK/iUA2oP7gvEBwJcDg+hPI+wRzexT/uROiHUlWR1P3wc3w98vk8jz7yfD76xuP483rwk3kc9/H77+vrlvsW/OVf34cvSrVTZGmXncarrOqyVaRDiStOo2XScukKyTyFl3r5YEqyS1Z49mBSlvEgkwJmqj65V/FASyBny5NrhTWPQTP5xaub7eREzI9WGb7wcePBagFfWZIRF61A/Ji4dA8ul4SaTXPiMmRjix61hckpeKsxkumSirre4LQxSmJCWywkg5EhY16ESpCXovh7ZoqcLhXBo3dBF/BGGDBp/ZcLbLA422pWyt2lOwdHY3EcSNUfExuKbULtWINjTjx5nJN0a0ugjRVkPgVbdSemT+KIMT34XjaWMj0h91bGxYx4X4ZhorUSNXFdtY59R8GwCq9wUGYsECtpXOfUWIpV4GbtNrSSQJGnGNyXGOvgdOQBe6oDc7IPNsaNFJ5JCUyya1jivqpICr0QQF3bQ6gGi3pDjK3sz6krdml0L+B0jv2lovWpvcy9Xt//AItMm7KtpAUUAAAAAElFTkSuQmCC\"></td></tr>\n",
       "<tr><th style=\"text-align: right\">docking.posit_probability</th><td style=\"text-align: left\">0.91</td></tr>\n",
       "<tr><th style=\"text-align: right\">docking.chemgauss_score</th><td style=\"text-align: left\">-13.705116</td></tr>\n",
       "<tr><th style=\"text-align: right\">activities.activity_id</th><td style=\"text-align: left\">3201885</td></tr>\n",
       "<tr><th style=\"text-align: right\">assays.chembl_id</th><td style=\"text-align: left\">CHEMBL1102672</td></tr>\n",
       "<tr><th style=\"text-align: right\">target_dictionary.chembl_id</th><td style=\"text-align: left\">CHEMBL260</td></tr>\n",
       "<tr><th style=\"text-align: right\">molecule_dictionary.chembl_id</th><td style=\"text-align: left\">CHEMBL1081991</td></tr>\n",
       "<tr><th style=\"text-align: right\">molecule_dictionary.max_phase</th><td style=\"text-align: left\">nan</td></tr>\n",
       "<tr><th style=\"text-align: right\">activities.standard_type</th><td style=\"text-align: left\">pIC50</td></tr>\n",
       "<tr><th style=\"text-align: right\">activities.standard_value</th><td style=\"text-align: left\">8.769551</td></tr>\n",
       "<tr><th style=\"text-align: right\">activities.standard_units</th><td style=\"text-align: left\">nM</td></tr>\n",
       "<tr><td colspan=\"2\" style=\"text-align: center\">Property list truncated.<br />Increase IPythonConsole.ipython_maxProperties (or set it to -1) to see more properties.</td></tr></table>"
      ],
      "text/plain": [
       "<rdkit.Chem.rdchem.Mol at 0x7fdcbc33c9e0>"
      ]
     },
     "execution_count": 92,
     "metadata": {},
     "output_type": "execute_result"
    }
   ],
   "source": [
    "mols_by_chembl_id.loc[chembl_activity_id, 'molecule']"
   ]
  },
  {
   "cell_type": "code",
   "execution_count": 93,
   "metadata": {},
   "outputs": [],
   "source": [
    "with open('/home/michael/amazing.cxc', 'w') as f:\n",
    "    f.write(\"\"\"close session\n",
    "open ~/protein.mol2\n",
    "show surface\n",
    "color :0-2000 grey\n",
    "transparency 90 target s\n",
    "\"\"\")\n",
    "    f.write('\\n'.join([f'color :{ident} {c}' for c, ident in subs_with_mol2[['colorcode', 'residue.subst_id']].values]))\n",
    "    f.write(\"\"\"\n",
    "open ~/template_ligand.mol2\n",
    "open ~/ligand.mol\n",
    "hbonds intraModel False\"\"\")"
   ]
  },
  {
   "cell_type": "code",
   "execution_count": null,
   "metadata": {},
   "outputs": [],
   "source": []
  },
  {
   "cell_type": "code",
   "execution_count": null,
   "metadata": {},
   "outputs": [],
   "source": []
  },
  {
   "cell_type": "code",
   "execution_count": null,
   "metadata": {},
   "outputs": [],
   "source": []
  },
  {
   "cell_type": "code",
   "execution_count": null,
   "metadata": {},
   "outputs": [],
   "source": []
  }
 ],
 "metadata": {
  "kernelspec": {
   "display_name": "Python 3 (ipykernel)",
   "language": "python",
   "name": "python3"
  },
  "language_info": {
   "codemirror_mode": {
    "name": "ipython",
    "version": 3
   },
   "file_extension": ".py",
   "mimetype": "text/x-python",
   "name": "python",
   "nbconvert_exporter": "python",
   "pygments_lexer": "ipython3",
   "version": "3.10.8"
  }
 },
 "nbformat": 4,
 "nbformat_minor": 4
}
