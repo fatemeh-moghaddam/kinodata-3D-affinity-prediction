{
 "cells": [
  {
   "cell_type": "code",
   "execution_count": 1,
   "metadata": {},
   "outputs": [],
   "source": [
    "import seaborn as sns\n",
    "import numpy as np\n",
    "import matplotlib.pyplot as plt\n",
    "import pandas as pd\n",
    "from pathlib import Path\n",
    "from torch_geometric.data import download_url, extract_zip\n",
    "import tqdm.notebook as tqdm\n",
    "from rdkit import Chem\n",
    "from rdkit.Chem import AllChem"
   ]
  },
  {
   "cell_type": "code",
   "execution_count": 2,
   "metadata": {},
   "outputs": [],
   "source": [
    "HERE = Path(\".\")\n",
    "ROOT = Path(\"..\")"
   ]
  },
  {
   "cell_type": "markdown",
   "metadata": {},
   "source": [
    "# Load attribution data"
   ]
  },
  {
   "cell_type": "code",
   "execution_count": 3,
   "metadata": {},
   "outputs": [],
   "source": [
    "from dataclasses import dataclass\n",
    "\n",
    "\n",
    "@dataclass(frozen=True)\n",
    "class FileArtifact:\n",
    "    url: str\n",
    "    path: Path\n",
    "    force_download: bool = False\n",
    "\n",
    "    def __post_init__(self):\n",
    "        if self.path.exists() and not self.force_download:\n",
    "            print(f\"Using cached file '{self.path}'\")\n",
    "            return\n",
    "        if not self.path.parent.exists():\n",
    "            print(f\"Creating directory '{self.path.parent}'\")\n",
    "            self.path.parent.mkdir(parents=True)\n",
    "        print(f\"Downloading file from '{self.url}' to '{self.path}'\")\n",
    "        download_url(self.url, self.path.parent, filename=self.file.name, log=False)\n",
    "\n",
    "    def __repr__(self) -> str:\n",
    "        return f\"File from '{self.url}' is at path '{self.path}'\"\n",
    "\n",
    "    def __str__(self) -> str:\n",
    "        return f\"{self.path}\"\n",
    "\n",
    "\n",
    "@dataclass(frozen=True)\n",
    "class ZipArtifact:\n",
    "    url: str\n",
    "    extract_at: Path\n",
    "    expected_content: list[str]\n",
    "    remove_zip: bool = False\n",
    "\n",
    "    def __post_init__(self):\n",
    "        if not self.extract_at.exists():\n",
    "            print(f\"Creating directory '{self.extract_at}'\")\n",
    "            self.extract_at.mkdir(parents=True)\n",
    "        expected_content_exists = all(\n",
    "            (self.extract_at / name).exists() for name in self.expected_content\n",
    "        )\n",
    "        if expected_content_exists:\n",
    "            print(\n",
    "                f\"Using cached files from '{self.url}' extracted to '{self.extract_at}'\"\n",
    "            )\n",
    "            return\n",
    "        print(f\"Downloading zip file from '{self.url}' to '{self.extract_at}'\")\n",
    "        path_to_zip = download_url(self.url, self.extract_at.parent, log=False)\n",
    "        extract_zip(path_to_zip, self.extract_at, log=False)\n",
    "        expected_content = set(self.expected_content)\n",
    "        for new_file in self.extract_at.iterdir():\n",
    "            if new_file.name in expected_content:\n",
    "                expected_content.remove(new_file.name)\n",
    "                continue\n",
    "            print(f\"Warning: got unexpected file '{new_file}'\")\n",
    "        if expected_content:\n",
    "            print(f\"Warning: missing expected files {expected_content}\")\n",
    "        if self.remove_zip:\n",
    "            Path(path_to_zip).unlink()\n",
    "\n",
    "    @property\n",
    "    def path(self):\n",
    "        return self.extract_at\n",
    "\n",
    "    @property\n",
    "    def contents(self) -> list[Path]:\n",
    "        return [self.extract_at / name for name in self.expected_content]"
   ]
  },
  {
   "cell_type": "code",
   "execution_count": 4,
   "metadata": {},
   "outputs": [
    {
     "name": "stdout",
     "output_type": "stream",
     "text": [
      "Using cached files from 'https://www.dropbox.com/scl/fi/cj2801jszmj73cmhklycx/residue_atom_index.zip?rlkey=i5qzddjcb4jcbao19h6jgfx00&st=go9ujwsg&dl=1' extracted to '../data/processed'\n",
      "Using cached files from 'https://www.dropbox.com/scl/fi/2vt532fkofgdth2ae6c19/mask_pl_edges_at_residue.zip?rlkey=1z14ykkh8fn5lvwafc17b2gef&st=zqe0osr0&dl=1' extracted to '../data/crocodoc'\n"
     ]
    }
   ],
   "source": [
    "residue_atom_index_artifact = ZipArtifact(\n",
    "    \"https://www.dropbox.com/scl/fi/cj2801jszmj73cmhklycx/residue_atom_index.zip?rlkey=i5qzddjcb4jcbao19h6jgfx00&st=go9ujwsg&dl=1\",\n",
    "    ROOT / \"data\" / \"processed\",\n",
    "    expected_content=[\"residue_atom_index\"],\n",
    ")\n",
    "\n",
    "mask_pl_edge_residue_results_artifact = ZipArtifact(\n",
    "    \"https://www.dropbox.com/scl/fi/2vt532fkofgdth2ae6c19/mask_pl_edges_at_residue.zip?rlkey=1z14ykkh8fn5lvwafc17b2gef&st=zqe0osr0&dl=1\",\n",
    "    ROOT / \"data\" / \"crocodoc\",\n",
    "    expected_content=[\"mask_pl_edges_at_residue\"],\n",
    ")"
   ]
  },
  {
   "cell_type": "code",
   "execution_count": 5,
   "metadata": {},
   "outputs": [],
   "source": [
    "# TODO\n",
    "# - add PLIP artifact\n",
    "# - add kinodata 3D raw and processed artifact?"
   ]
  },
  {
   "cell_type": "markdown",
   "metadata": {},
   "source": [
    "## Data loading 1: crocodoc output data pl edge masking at residues"
   ]
  },
  {
   "cell_type": "code",
   "execution_count": 6,
   "metadata": {},
   "outputs": [],
   "source": [
    "mask_pl_edge_residue_result = mask_pl_edge_residue_results_artifact.contents[0]"
   ]
  },
  {
   "cell_type": "code",
   "execution_count": 7,
   "metadata": {},
   "outputs": [
    {
     "data": {
      "application/vnd.jupyter.widget-view+json": {
       "model_id": "b70bafb200ee4cdfbac8d16c9dbb80a3",
       "version_major": 2,
       "version_minor": 0
      },
      "text/plain": [
       "  0%|          | 0/945 [00:00<?, ?it/s]"
      ]
     },
     "metadata": {},
     "output_type": "display_data"
    }
   ],
   "source": [
    "ref_dfs = []\n",
    "attr_dfs = []\n",
    "all_files = list(mask_pl_edge_residue_result.glob(\"*.csv\"))\n",
    "for csv_file in tqdm.tqdm(all_files):\n",
    "    if \"None\" in csv_file.name:\n",
    "        continue\n",
    "    df = pd.read_csv(csv_file)\n",
    "    if \"cgnn3d\" in csv_file.name:\n",
    "        model = \"CGNN-3D\"\n",
    "    elif \"cgnn\" in csv_file.name:\n",
    "        model = \"CGNN\"\n",
    "    else:\n",
    "        model = None\n",
    "    df[\"model\"] = model\n",
    "    if \"reference\" in csv_file.stem:\n",
    "        ref_dfs.append(df)\n",
    "        continue\n",
    "    attr_dfs.append(df)"
   ]
  },
  {
   "cell_type": "code",
   "execution_count": 8,
   "metadata": {},
   "outputs": [],
   "source": [
    "attr_df = pd.concat(attr_dfs, axis=0)\n",
    "ref = pd.concat(ref_dfs, axis=0)\n",
    "\n",
    "attr_df = pd.merge(\n",
    "    attr_df,\n",
    "    ref[[\"chembl_activity_id\", \"reference_pred\", \"target\", \"model\"]],\n",
    "    on=[\"chembl_activity_id\", \"model\"],\n",
    "    how=\"left\",\n",
    ")\n",
    "\n",
    "attr_df[\"delta\"] = attr_df[\"reference_pred\"] - attr_df[\"masked_pred\"]"
   ]
  },
  {
   "cell_type": "markdown",
   "metadata": {},
   "source": [
    "### Sanity check deltas for cgnn are close to zero"
   ]
  },
  {
   "cell_type": "code",
   "execution_count": 9,
   "metadata": {},
   "outputs": [],
   "source": [
    "cgnn3d_only = attr_df[attr_df[\"model\"] == \"CGNN-3D\"]\n",
    "cgnn_only = attr_df[attr_df[\"model\"] == \"CGNN\"]"
   ]
  },
  {
   "cell_type": "markdown",
   "metadata": {},
   "source": [
    "## Data loading 2\n",
    "- residue atom index (ie Map[ident, Map[residue id, pocket atom index of atoms in that residue]])\n",
    "- Kinodata3D pytorch geometric data objects\n",
    "- Kinodata3D underlying rdkit mols"
   ]
  },
  {
   "cell_type": "code",
   "execution_count": 10,
   "metadata": {},
   "outputs": [],
   "source": [
    "from kinodata.data import KinodataDocked\n",
    "from kinodata.data.dataset import _DATA\n",
    "from pathlib import Path\n",
    "from kinodata.transform import TransformToComplexGraph\n",
    "import multiprocessing as mp\n",
    "import json\n",
    "from rdkit import Chem\n",
    "from rdkit.Chem import Draw\n",
    "import random\n",
    "\n",
    "\n",
    "RESIDUE_ATOM_INDEX = residue_atom_index_artifact.contents[0]\n",
    "\n",
    "to_cplx = TransformToComplexGraph()\n",
    "\n",
    "\n",
    "def get_ident(file: Path):\n",
    "    ident = int(file.stem.split(\"_\")[-1])\n",
    "    return ident\n",
    "\n",
    "\n",
    "def load_single_index(file: Path):\n",
    "    with open(file, \"r\") as f:\n",
    "        try:\n",
    "            dictionary = json.load(f)\n",
    "        except json.decoder.JSONDecodeError:\n",
    "            dictionary = None\n",
    "    ident = int(file.stem.split(\"_\")[-1])\n",
    "    return (ident, dictionary)\n",
    "\n",
    "\n",
    "def load_residue_atom_index(idents, parallelize=False):\n",
    "    files = list(RESIDUE_ATOM_INDEX.iterdir())\n",
    "    files = [file for file in files if get_ident(file) in idents]\n",
    "    assert len(files) == len(idents)\n",
    "    progressing_iterable = tqdm.tqdm(files, desc=\"Loading residue atom index...\")\n",
    "    if parallelize:\n",
    "        with mp.Pool() as pool:\n",
    "            tuples = pool.map(load_single_index, progressing_iterable)\n",
    "    else:\n",
    "        tuples = [load_single_index(f) for f in progressing_iterable]\n",
    "    return dict(tuples)"
   ]
  },
  {
   "cell_type": "code",
   "execution_count": 11,
   "metadata": {},
   "outputs": [],
   "source": [
    "dataset = KinodataDocked()"
   ]
  },
  {
   "cell_type": "code",
   "execution_count": 12,
   "metadata": {},
   "outputs": [],
   "source": [
    "data_by_ident = {data.ident.item(): data for data in dataset}"
   ]
  },
  {
   "cell_type": "code",
   "execution_count": 13,
   "metadata": {},
   "outputs": [
    {
     "name": "stdout",
     "output_type": "stream",
     "text": [
      "Reading data frame from /home/michael/Code/kinodata-3D-affinity-prediction/data/raw/kinodata_docked_v2.sdf.gz...\n",
      "Deduping data frame (current size: 121913)...\n",
      "119713 complexes remain after deduplication.\n",
      "Checking for missing pocket mol2 files...\n"
     ]
    },
    {
     "name": "stderr",
     "output_type": "stream",
     "text": [
      "100%|██████████████████████████████████████████████████████████████████████████████████████████████████████████████████████████████████████████████████████████████████████████████████████████████████████████████████████████████████████████████| 3244/3244 [00:00<00:00, 33609.22it/s]\n"
     ]
    },
    {
     "name": "stdout",
     "output_type": "stream",
     "text": [
      "Adding pocket sequences...\n",
      "(119713, 25)\n"
     ]
    },
    {
     "name": "stderr",
     "output_type": "stream",
     "text": [
      "100%|████████████████████████████████████████████████████████████████████████████████████████████████████████████████████████████████████████████████████████████████████████████████████████████████████████████████████████████████████████| 119713/119713 [00:00<00:00, 2982782.84it/s]\n"
     ]
    },
    {
     "name": "stdout",
     "output_type": "stream",
     "text": [
      "Exiting with 3552 cached sequences.\n",
      "(119713, 26)\n"
     ]
    }
   ],
   "source": [
    "mol_source_df = dataset.df"
   ]
  },
  {
   "cell_type": "code",
   "execution_count": 14,
   "metadata": {},
   "outputs": [
    {
     "data": {
      "text/plain": [
       "Index(['docking.posit_probability', 'docking.chemgauss_score',\n",
       "       'activities.activity_id', 'assays.chembl_id',\n",
       "       'target_dictionary.chembl_id', 'molecule_dictionary.chembl_id',\n",
       "       'molecule_dictionary.max_phase', 'activities.standard_type',\n",
       "       'activities.standard_units', 'compound_structures.canonical_smiles',\n",
       "       'compound_structures.standard_inchi', 'component_sequences.sequence',\n",
       "       'assays.confidence_score', 'docs.chembl_id', 'docs.year',\n",
       "       'docs.authors', 'UniprotID', 'similar.klifs_structure_id',\n",
       "       'similar.fp_similarity', 'ID', 'activities.standard_value',\n",
       "       'docking.predicted_rmsd', 'molecule', 'pocket_mol2_file', 'ident',\n",
       "       'structure.pocket_sequence'],\n",
       "      dtype='object')"
      ]
     },
     "execution_count": 14,
     "metadata": {},
     "output_type": "execute_result"
    }
   ],
   "source": [
    "mol_source_df.columns"
   ]
  },
  {
   "cell_type": "code",
   "execution_count": 15,
   "metadata": {},
   "outputs": [],
   "source": [
    "mols_by_ident = mol_source_df.set_index(\"ident\")"
   ]
  },
  {
   "cell_type": "code",
   "execution_count": 16,
   "metadata": {},
   "outputs": [],
   "source": [
    "mol_source_df[\"activities.activity_id\"] = mol_source_df[\n",
    "    \"activities.activity_id\"\n",
    "].astype(int)"
   ]
  },
  {
   "cell_type": "code",
   "execution_count": 17,
   "metadata": {},
   "outputs": [],
   "source": [
    "mols_by_chembl_id = mol_source_df.set_index(\"activities.activity_id\")"
   ]
  },
  {
   "cell_type": "markdown",
   "metadata": {},
   "source": [
    "## Data analysis 1: single complex delta analysis"
   ]
  },
  {
   "cell_type": "markdown",
   "metadata": {},
   "source": [
    "Select a single complex and make select the data that corresponds to that complex."
   ]
  },
  {
   "cell_type": "code",
   "execution_count": 204,
   "metadata": {},
   "outputs": [
    {
     "data": {
      "application/vnd.jupyter.widget-view+json": {
       "model_id": "82090c7f31cd41069dd9f705cc73753c",
       "version_major": 2,
       "version_minor": 0
      },
      "text/plain": [
       "Loading residue atom index...:   0%|          | 0/1 [00:00<?, ?it/s]"
      ]
     },
     "metadata": {},
     "output_type": "display_data"
    },
    {
     "name": "stdout",
     "output_type": "stream",
     "text": [
      "idents: chembl=6295132 kinodata=23661 klifs=648\n"
     ]
    }
   ],
   "source": [
    "import random\n",
    "\n",
    "# set chembl activity id here, ...\n",
    "# choice = 2390222\n",
    "# choice = 3559317\n",
    "choice = None#626043#None\n",
    "\n",
    "if choice:\n",
    "    subs = cgnn3d_only[cgnn3d_only[\"chembl_activity_id\"] == choice]\n",
    "    ident = subs[\"ident\"].iloc[0]\n",
    "    chembl_activity_id = choice\n",
    "# or pick a random one\n",
    "else:\n",
    "    ident, index = random.choice(list(cgnn3d_only.groupby(\"ident\").groups.items()))\n",
    "    ra = load_residue_atom_index([ident])[ident]\n",
    "    ra = {int(k): v for k, v in ra.items()}\n",
    "    subs = cgnn3d_only.loc[index]\n",
    "    chembl_activity_id = subs[\"chembl_activity_id\"].iloc[0]\n",
    "assert subs[\"chembl_activity_id\"].nunique() == 1\n",
    "assert subs[\"ident\"].nunique() == 1\n",
    "\n",
    "klifs_id = subs[\"klifs_structure_id\"].unique()[0]\n",
    "print(f\"idents: chembl={chembl_activity_id} kinodata={ident} klifs={klifs_id}\")"
   ]
  },
  {
   "cell_type": "code",
   "execution_count": 205,
   "metadata": {},
   "outputs": [],
   "source": [
    "from kinodata.data.io.read_klifs_mol2 import read_klifs_mol2\n",
    "\n",
    "pocket_file = ROOT / Path(f\"data/raw/mol2/pocket/{klifs_id}_pocket.mol2\")\n",
    "pocket_file.exists()\n",
    "mol2_meta = read_klifs_mol2(pocket_file, with_bonds=False)\n",
    "mol2_meta = mol2_meta[[\"residue.subst_id\", \"residue.subst_name\"]].drop_duplicates()\n",
    "mask_to_weird = dict(zip(sorted(subs['masked_residue'].unique()), sorted(mol2_meta['residue.subst_name'].str[3:].astype(int))))\n",
    "subs[\"residue.subst_id\"] = subs[\"masked_residue\"].apply(lambda x: mask_to_weird[x])\n",
    "subs_with_mol2 = pd.merge(subs, mol2_meta, on=\"residue.subst_id\", how=\"left\")"
   ]
  },
  {
   "cell_type": "code",
   "execution_count": 206,
   "metadata": {},
   "outputs": [
    {
     "data": {
      "text/plain": [
       "ident                    23661\n",
       "chembl_activity_id     6295132\n",
       "klifs_structure_id         648\n",
       "masked_pred           6.726007\n",
       "masked_resname             MET\n",
       "masked_res_letter            M\n",
       "model                  CGNN-3D\n",
       "reference_pred         6.72602\n",
       "target                6.799998\n",
       "delta                 0.000013\n",
       "residue.subst_id           101\n",
       "residue.subst_name        <NA>\n",
       "Name: 28, dtype: object"
      ]
     },
     "execution_count": 206,
     "metadata": {},
     "output_type": "execute_result"
    }
   ],
   "source": [
    "subs_with_mol2.set_index('masked_residue').loc[28]"
   ]
  },
  {
   "cell_type": "markdown",
   "metadata": {},
   "source": [
    "#### Plot "
   ]
  },
  {
   "cell_type": "code",
   "execution_count": 207,
   "metadata": {},
   "outputs": [
    {
     "data": {
      "image/png": "[encoded data removed]",
      "text/plain": [
       "<Figure size 640x480 with 1 Axes>"
      ]
     },
     "metadata": {},
     "output_type": "display_data"
    }
   ],
   "source": [
    "ax = sns.barplot(subs[subs.delta.abs() > .05], \n",
    "    x=\"masked_residue\",\n",
    "    y=\"delta\",\n",
    "    hue=\"masked_resname\", dodge=False)\n",
    "\n",
    "\n",
    "sns.move_legend(ax, \"upper right\", bbox_to_anchor=(1.3, 1), title=\"Residue name\")"
   ]
  },
  {
   "cell_type": "code",
   "execution_count": 208,
   "metadata": {},
   "outputs": [
    {
     "data": {
      "text/plain": [
       "<AxesSubplot: xlabel='delta', ylabel='Density'>"
      ]
     },
     "execution_count": 208,
     "metadata": {},
     "output_type": "execute_result"
    },
    {
     "data": {
      "image/png": "[encoded data removed]",
      "text/plain": [
       "<Figure size 640x480 with 1 Axes>"
      ]
     },
     "metadata": {},
     "output_type": "display_data"
    }
   ],
   "source": [
    "sns.kdeplot(subs_with_mol2, x='delta')"
   ]
  },
  {
   "cell_type": "code",
   "execution_count": 209,
   "metadata": {},
   "outputs": [],
   "source": [
    "# get diverging color map\n",
    "from matplotlib import cm\n",
    "from matplotlib.colors import Normalize\n",
    "\n",
    "norm = Normalize(vmin=-1, vmax=1)\n",
    "cmap = cm.get_cmap(\"bwr\")\n",
    "cmapper = cm.ScalarMappable(norm=norm, cmap=cmap)\n",
    "\n",
    "\n",
    "def map_to_hex(val):\n",
    "    max_val = subs['delta'].abs().max()\n",
    "    rgba = cmapper.to_rgba(val / max_val)\n",
    "    hex_color = f\"#{''.join(f'{int(255 * x):02x}' for x in rgba[:3])}\"\n",
    "    return hex_color\n",
    "\n",
    "subs_with_mol2[\"colorcode\"] = subs_with_mol2[\"delta\"].apply(map_to_hex)"
   ]
  },
  {
   "cell_type": "code",
   "execution_count": 210,
   "metadata": {},
   "outputs": [],
   "source": [
    "import requests as req\n",
    "\n",
    "\n",
    "for struc in 'ligand protein'.split():\n",
    "    resp = req.get(f'https://klifs.net/api/structure_get_{struc}?structure_ID={klifs_id}')   \n",
    "    with open(Path.home() / f\"{struc}.mol2\", 'wb') as f:\n",
    "        f.write(resp.content)"
   ]
  },
  {
   "cell_type": "code",
   "execution_count": 211,
   "metadata": {},
   "outputs": [],
   "source": [
    "!mv ~/ligand.mol2 ~/template_ligand.mol2"
   ]
  },
  {
   "cell_type": "code",
   "execution_count": 212,
   "metadata": {},
   "outputs": [],
   "source": [
    "Chem.MolToMolFile(mols_by_chembl_id.loc[chembl_activity_id, 'molecule'], \"/home/michael/ligand.mol\")"
   ]
  },
  {
   "cell_type": "code",
   "execution_count": 213,
   "metadata": {},
   "outputs": [
    {
     "data": {
      "image/png": "[encoded data removed]",
      "text/html": [
       "<table><tr><td colspan=\"2\" style=\"text-align: center;\"><image src=\"data:image/png;base64,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\"></td></tr>\n",
       "<tr><th style=\"text-align: right\">docking.posit_probability</th><td style=\"text-align: left\">0.91</td></tr>\n",
       "<tr><th style=\"text-align: right\">docking.chemgauss_score</th><td style=\"text-align: left\">-8.974657</td></tr>\n",
       "<tr><th style=\"text-align: right\">activities.activity_id</th><td style=\"text-align: left\">6295132</td></tr>\n",
       "<tr><th style=\"text-align: right\">assays.chembl_id</th><td style=\"text-align: left\">CHEMBL1809805</td></tr>\n",
       "<tr><th style=\"text-align: right\">target_dictionary.chembl_id</th><td style=\"text-align: left\">CHEMBL262</td></tr>\n",
       "<tr><th style=\"text-align: right\">molecule_dictionary.chembl_id</th><td style=\"text-align: left\">CHEMBL1809120</td></tr>\n",
       "<tr><th style=\"text-align: right\">molecule_dictionary.max_phase</th><td style=\"text-align: left\">nan</td></tr>\n",
       "<tr><th style=\"text-align: right\">activities.standard_type</th><td style=\"text-align: left\">pIC50</td></tr>\n",
       "<tr><th style=\"text-align: right\">activities.standard_value</th><td style=\"text-align: left\">6.799998</td></tr>\n",
       "<tr><th style=\"text-align: right\">activities.standard_units</th><td style=\"text-align: left\">nM</td></tr>\n",
       "<tr><td colspan=\"2\" style=\"text-align: center\">Property list truncated.<br />Increase IPythonConsole.ipython_maxProperties (or set it to -1) to see more properties.</td></tr></table>"
      ],
      "text/plain": [
       "<rdkit.Chem.rdchem.Mol at 0x7fa08e198660>"
      ]
     },
     "execution_count": 213,
     "metadata": {},
     "output_type": "execute_result"
    }
   ],
   "source": [
    "mols_by_chembl_id.loc[chembl_activity_id, 'molecule']"
   ]
  },
  {
   "cell_type": "code",
   "execution_count": 214,
   "metadata": {},
   "outputs": [
    {
     "data": {
      "text/html": [
       "<div>\n",
       "<style scoped>\n",
       "    .dataframe tbody tr th:only-of-type {\n",
       "        vertical-align: middle;\n",
       "    }\n",
       "\n",
       "    .dataframe tbody tr th {\n",
       "        vertical-align: top;\n",
       "    }\n",
       "\n",
       "    .dataframe thead th {\n",
       "        text-align: right;\n",
       "    }\n",
       "</style>\n",
       "<table border=\"1\" class=\"dataframe\">\n",
       "  <thead>\n",
       "    <tr style=\"text-align: right;\">\n",
       "      <th></th>\n",
       "      <th>ident</th>\n",
       "      <th>chembl_activity_id</th>\n",
       "      <th>klifs_structure_id</th>\n",
       "      <th>masked_residue</th>\n",
       "      <th>masked_pred</th>\n",
       "      <th>masked_resname</th>\n",
       "      <th>masked_res_letter</th>\n",
       "      <th>model</th>\n",
       "      <th>reference_pred</th>\n",
       "      <th>target</th>\n",
       "      <th>delta</th>\n",
       "      <th>residue.subst_id</th>\n",
       "      <th>residue.subst_name</th>\n",
       "      <th>colorcode</th>\n",
       "    </tr>\n",
       "  </thead>\n",
       "  <tbody>\n",
       "    <tr>\n",
       "      <th>0</th>\n",
       "      <td>23661</td>\n",
       "      <td>6295132</td>\n",
       "      <td>648</td>\n",
       "      <td>40</td>\n",
       "      <td>6.726017</td>\n",
       "      <td>TYR</td>\n",
       "      <td>Y</td>\n",
       "      <td>CGNN-3D</td>\n",
       "      <td>6.72602</td>\n",
       "      <td>6.799998</td>\n",
       "      <td>0.000003</td>\n",
       "      <td>114</td>\n",
       "      <td>&lt;NA&gt;</td>\n",
       "      <td>#fffefe</td>\n",
       "    </tr>\n",
       "    <tr>\n",
       "      <th>1</th>\n",
       "      <td>23661</td>\n",
       "      <td>6295132</td>\n",
       "      <td>648</td>\n",
       "      <td>25</td>\n",
       "      <td>6.726016</td>\n",
       "      <td>LEU</td>\n",
       "      <td>L</td>\n",
       "      <td>CGNN-3D</td>\n",
       "      <td>6.72602</td>\n",
       "      <td>6.799998</td>\n",
       "      <td>0.000004</td>\n",
       "      <td>98</td>\n",
       "      <td>&lt;NA&gt;</td>\n",
       "      <td>#fffefe</td>\n",
       "    </tr>\n",
       "    <tr>\n",
       "      <th>2</th>\n",
       "      <td>23661</td>\n",
       "      <td>6295132</td>\n",
       "      <td>648</td>\n",
       "      <td>54</td>\n",
       "      <td>6.726017</td>\n",
       "      <td>TYR</td>\n",
       "      <td>Y</td>\n",
       "      <td>CGNN-3D</td>\n",
       "      <td>6.72602</td>\n",
       "      <td>6.799998</td>\n",
       "      <td>0.000003</td>\n",
       "      <td>140</td>\n",
       "      <td>&lt;NA&gt;</td>\n",
       "      <td>#fffefe</td>\n",
       "    </tr>\n",
       "    <tr>\n",
       "      <th>3</th>\n",
       "      <td>23661</td>\n",
       "      <td>6295132</td>\n",
       "      <td>648</td>\n",
       "      <td>3</td>\n",
       "      <td>6.802936</td>\n",
       "      <td>ILE</td>\n",
       "      <td>I</td>\n",
       "      <td>CGNN-3D</td>\n",
       "      <td>6.72602</td>\n",
       "      <td>6.799998</td>\n",
       "      <td>-0.076916</td>\n",
       "      <td>62</td>\n",
       "      <td>SER174</td>\n",
       "      <td>#d8d8ff</td>\n",
       "    </tr>\n",
       "    <tr>\n",
       "      <th>4</th>\n",
       "      <td>23661</td>\n",
       "      <td>6295132</td>\n",
       "      <td>648</td>\n",
       "      <td>7</td>\n",
       "      <td>6.726016</td>\n",
       "      <td>SER</td>\n",
       "      <td>S</td>\n",
       "      <td>CGNN-3D</td>\n",
       "      <td>6.72602</td>\n",
       "      <td>6.799998</td>\n",
       "      <td>0.000004</td>\n",
       "      <td>66</td>\n",
       "      <td>CYS178</td>\n",
       "      <td>#fffefe</td>\n",
       "    </tr>\n",
       "    <tr>\n",
       "      <th>...</th>\n",
       "      <td>...</td>\n",
       "      <td>...</td>\n",
       "      <td>...</td>\n",
       "      <td>...</td>\n",
       "      <td>...</td>\n",
       "      <td>...</td>\n",
       "      <td>...</td>\n",
       "      <td>...</td>\n",
       "      <td>...</td>\n",
       "      <td>...</td>\n",
       "      <td>...</td>\n",
       "      <td>...</td>\n",
       "      <td>...</td>\n",
       "      <td>...</td>\n",
       "    </tr>\n",
       "    <tr>\n",
       "      <th>79</th>\n",
       "      <td>23661</td>\n",
       "      <td>6295132</td>\n",
       "      <td>648</td>\n",
       "      <td>16</td>\n",
       "      <td>6.726023</td>\n",
       "      <td>ILE</td>\n",
       "      <td>I</td>\n",
       "      <td>CGNN-3D</td>\n",
       "      <td>6.72602</td>\n",
       "      <td>6.799998</td>\n",
       "      <td>-0.000003</td>\n",
       "      <td>84</td>\n",
       "      <td>ALA204</td>\n",
       "      <td>#fefeff</td>\n",
       "    </tr>\n",
       "    <tr>\n",
       "      <th>80</th>\n",
       "      <td>23661</td>\n",
       "      <td>6295132</td>\n",
       "      <td>648</td>\n",
       "      <td>14</td>\n",
       "      <td>6.726022</td>\n",
       "      <td>VAL</td>\n",
       "      <td>V</td>\n",
       "      <td>CGNN-3D</td>\n",
       "      <td>6.72602</td>\n",
       "      <td>6.799998</td>\n",
       "      <td>-0.000002</td>\n",
       "      <td>82</td>\n",
       "      <td>GLY202</td>\n",
       "      <td>#fefeff</td>\n",
       "    </tr>\n",
       "    <tr>\n",
       "      <th>81</th>\n",
       "      <td>23661</td>\n",
       "      <td>6295132</td>\n",
       "      <td>648</td>\n",
       "      <td>46</td>\n",
       "      <td>6.672234</td>\n",
       "      <td>ASP</td>\n",
       "      <td>D</td>\n",
       "      <td>CGNN-3D</td>\n",
       "      <td>6.72602</td>\n",
       "      <td>6.799998</td>\n",
       "      <td>0.053786</td>\n",
       "      <td>133</td>\n",
       "      <td>&lt;NA&gt;</td>\n",
       "      <td>#ffe4e4</td>\n",
       "    </tr>\n",
       "    <tr>\n",
       "      <th>82</th>\n",
       "      <td>23661</td>\n",
       "      <td>6295132</td>\n",
       "      <td>648</td>\n",
       "      <td>34</td>\n",
       "      <td>6.726011</td>\n",
       "      <td>ASN</td>\n",
       "      <td>N</td>\n",
       "      <td>CGNN-3D</td>\n",
       "      <td>6.72602</td>\n",
       "      <td>6.799998</td>\n",
       "      <td>0.000009</td>\n",
       "      <td>108</td>\n",
       "      <td>&lt;NA&gt;</td>\n",
       "      <td>#fffefe</td>\n",
       "    </tr>\n",
       "    <tr>\n",
       "      <th>83</th>\n",
       "      <td>23661</td>\n",
       "      <td>6295132</td>\n",
       "      <td>648</td>\n",
       "      <td>5</td>\n",
       "      <td>6.816074</td>\n",
       "      <td>ASN</td>\n",
       "      <td>N</td>\n",
       "      <td>CGNN-3D</td>\n",
       "      <td>6.72602</td>\n",
       "      <td>6.799998</td>\n",
       "      <td>-0.090054</td>\n",
       "      <td>64</td>\n",
       "      <td>GLY176</td>\n",
       "      <td>#d0d0ff</td>\n",
       "    </tr>\n",
       "  </tbody>\n",
       "</table>\n",
       "<p>84 rows × 14 columns</p>\n",
       "</div>"
      ],
      "text/plain": [
       "    ident  chembl_activity_id  klifs_structure_id  masked_residue  \\\n",
       "0   23661             6295132                 648              40   \n",
       "1   23661             6295132                 648              25   \n",
       "2   23661             6295132                 648              54   \n",
       "3   23661             6295132                 648               3   \n",
       "4   23661             6295132                 648               7   \n",
       "..    ...                 ...                 ...             ...   \n",
       "79  23661             6295132                 648              16   \n",
       "80  23661             6295132                 648              14   \n",
       "81  23661             6295132                 648              46   \n",
       "82  23661             6295132                 648              34   \n",
       "83  23661             6295132                 648               5   \n",
       "\n",
       "    masked_pred masked_resname masked_res_letter    model  reference_pred  \\\n",
       "0      6.726017            TYR                 Y  CGNN-3D         6.72602   \n",
       "1      6.726016            LEU                 L  CGNN-3D         6.72602   \n",
       "2      6.726017            TYR                 Y  CGNN-3D         6.72602   \n",
       "3      6.802936            ILE                 I  CGNN-3D         6.72602   \n",
       "4      6.726016            SER                 S  CGNN-3D         6.72602   \n",
       "..          ...            ...               ...      ...             ...   \n",
       "79     6.726023            ILE                 I  CGNN-3D         6.72602   \n",
       "80     6.726022            VAL                 V  CGNN-3D         6.72602   \n",
       "81     6.672234            ASP                 D  CGNN-3D         6.72602   \n",
       "82     6.726011            ASN                 N  CGNN-3D         6.72602   \n",
       "83     6.816074            ASN                 N  CGNN-3D         6.72602   \n",
       "\n",
       "      target     delta  residue.subst_id residue.subst_name colorcode  \n",
       "0   6.799998  0.000003               114               <NA>   #fffefe  \n",
       "1   6.799998  0.000004                98               <NA>   #fffefe  \n",
       "2   6.799998  0.000003               140               <NA>   #fffefe  \n",
       "3   6.799998 -0.076916                62             SER174   #d8d8ff  \n",
       "4   6.799998  0.000004                66             CYS178   #fffefe  \n",
       "..       ...       ...               ...                ...       ...  \n",
       "79  6.799998 -0.000003                84             ALA204   #fefeff  \n",
       "80  6.799998 -0.000002                82             GLY202   #fefeff  \n",
       "81  6.799998  0.053786               133               <NA>   #ffe4e4  \n",
       "82  6.799998  0.000009               108               <NA>   #fffefe  \n",
       "83  6.799998 -0.090054                64             GLY176   #d0d0ff  \n",
       "\n",
       "[84 rows x 14 columns]"
      ]
     },
     "execution_count": 214,
     "metadata": {},
     "output_type": "execute_result"
    }
   ],
   "source": [
    "subs_with_mol2"
   ]
  },
  {
   "cell_type": "code",
   "execution_count": 215,
   "metadata": {},
   "outputs": [],
   "source": [
    "with open(Path.home() / 'colors.cxc', 'w') as f:\n",
    "    f.write('\\n'.join([f'color :{ident} {c}' for c, ident in subs_with_mol2[['colorcode', 'residue.subst_id']].values]))\n",
    "\n",
    "with open(Path.home() / 'viz.cxc', 'w') as f:\n",
    "    f.write(\"\"\"close session\n",
    "open ~/protein.mol2\n",
    "show surface\n",
    "color grey\n",
    "transparency 90 target s\n",
    "open colors.cxc\n",
    "open ~/template_ligand.mol2\n",
    "open ~/ligand.mol\n",
    "hb intraModel f reveal t twoColors t\n",
    "clashes #1 restrict #3 reveal t color magenta\n",
    "contacts #1 restrict #3 reveal f color white radius .04\n",
    "hide #2\n",
    "hide surface\n",
    "lighting depthCue t depthCueStart .3 depthCueEnd .9\n",
    "graphics silhouettes true\n",
    "set bgColor black\"\"\")"
   ]
  },
  {
   "cell_type": "code",
   "execution_count": null,
   "metadata": {},
   "outputs": [],
   "source": []
  },
  {
   "cell_type": "code",
   "execution_count": null,
   "metadata": {},
   "outputs": [],
   "source": []
  },
  {
   "cell_type": "code",
   "execution_count": null,
   "metadata": {},
   "outputs": [],
   "source": []
  },
  {
   "cell_type": "code",
   "execution_count": null,
   "metadata": {},
   "outputs": [],
   "source": []
  }
 ],
 "metadata": {
  "kernelspec": {
   "display_name": "Python 3 (ipykernel)",
   "language": "python",
   "name": "python3"
  },
  "language_info": {
   "codemirror_mode": {
    "name": "ipython",
    "version": 3
   },
   "file_extension": ".py",
   "mimetype": "text/x-python",
   "name": "python",
   "nbconvert_exporter": "python",
   "pygments_lexer": "ipython3",
   "version": "3.10.8"
  }
 },
 "nbformat": 4,
 "nbformat_minor": 4
}
