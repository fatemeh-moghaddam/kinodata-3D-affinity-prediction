{
 "cells": [
  {
   "cell_type": "code",
   "execution_count": 1,
   "metadata": {},
   "outputs": [],
   "source": [
    "import seaborn as sns\n",
    "import numpy as np\n",
    "import matplotlib.pyplot as plt\n",
    "import pandas as pd\n",
    "from pathlib import Path\n",
    "from torch_geometric.data import download_url, extract_zip\n",
    "import tqdm.notebook as tqdm\n",
    "from rdkit import Chem\n",
    "from rdkit.Chem import AllChem"
   ]
  },
  {
   "cell_type": "code",
   "execution_count": 155,
   "metadata": {},
   "outputs": [],
   "source": [
    "HERE = Path(\".\")\n",
    "ROOT = Path(\"..\")"
   ]
  },
  {
   "cell_type": "markdown",
   "metadata": {},
   "source": [
    "# Load attribution data"
   ]
  },
  {
   "cell_type": "code",
   "execution_count": 2,
   "metadata": {},
   "outputs": [],
   "source": [
    "from dataclasses import dataclass\n",
    "\n",
    "\n",
    "@dataclass(frozen=True)\n",
    "class FileArtifact:\n",
    "    url: str\n",
    "    path: Path\n",
    "    force_download: bool = False\n",
    "\n",
    "    def __post_init__(self):\n",
    "        if self.path.exists() and not self.force_download:\n",
    "            print(f\"Using cached file '{self.path}'\")\n",
    "            return\n",
    "        if not self.path.parent.exists():\n",
    "            print(f\"Creating directory '{self.path.parent}'\")\n",
    "            self.path.parent.mkdir(parents=True)\n",
    "        print(f\"Downloading file from '{self.url}' to '{self.path}'\")\n",
    "        download_url(self.url, self.path.parent, filename=self.file.name, log=False)\n",
    "\n",
    "    def __repr__(self) -> str:\n",
    "        return f\"File from '{self.url}' is at path '{self.path}'\"\n",
    "\n",
    "    def __str__(self) -> str:\n",
    "        return f\"{self.path}\"\n",
    "\n",
    "\n",
    "@dataclass(frozen=True)\n",
    "class ZipArtifact:\n",
    "    url: str\n",
    "    extract_at: Path\n",
    "    expected_content: list[str]\n",
    "    remove_zip: bool = False\n",
    "\n",
    "    def __post_init__(self):\n",
    "        if not self.extract_at.exists():\n",
    "            print(f\"Creating directory '{self.extract_at}'\")\n",
    "            self.extract_at.mkdir(parents=True)\n",
    "        expected_content_exists = all(\n",
    "            (self.extract_at / name).exists() for name in self.expected_content\n",
    "        )\n",
    "        if expected_content_exists:\n",
    "            print(\n",
    "                f\"Using cached files from '{self.url}' extracted to '{self.extract_at}'\"\n",
    "            )\n",
    "            return\n",
    "        print(f\"Downloading zip file from '{self.url}' to '{self.extract_at}'\")\n",
    "        path_to_zip = download_url(self.url, self.extract_at.parent, log=False)\n",
    "        extract_zip(path_to_zip, self.extract_at, log=False)\n",
    "        expected_content = set(self.expected_content)\n",
    "        for new_file in self.extract_at.iterdir():\n",
    "            if new_file.name in expected_content:\n",
    "                expected_content.remove(new_file.name)\n",
    "                continue\n",
    "            print(f\"Warning: got unexpected file '{new_file}'\")\n",
    "        if expected_content:\n",
    "            print(f\"Warning: missing expected files {expected_content}\")\n",
    "        if self.remove_zip:\n",
    "            Path(path_to_zip).unlink()\n",
    "\n",
    "    @property\n",
    "    def path(self):\n",
    "        return self.extract_at\n",
    "\n",
    "    @property\n",
    "    def contents(self) -> list[Path]:\n",
    "        return [self.extract_at / name for name in self.expected_content]"
   ]
  },
  {
   "cell_type": "code",
   "execution_count": 3,
   "metadata": {},
   "outputs": [
    {
     "name": "stdout",
     "output_type": "stream",
     "text": [
      "Using cached files from 'https://www.dropbox.com/scl/fi/cj2801jszmj73cmhklycx/residue_atom_index.zip?rlkey=i5qzddjcb4jcbao19h6jgfx00&st=go9ujwsg&dl=1' extracted to '../data/processed'\n",
      "Using cached files from 'https://www.dropbox.com/scl/fi/2vt532fkofgdth2ae6c19/mask_pl_edges_at_residue.zip?rlkey=1z14ykkh8fn5lvwafc17b2gef&st=zqe0osr0&dl=1' extracted to '../data/crocodoc'\n"
     ]
    }
   ],
   "source": [
    "residue_atom_index_artifact = ZipArtifact(\n",
    "    \"https://www.dropbox.com/scl/fi/cj2801jszmj73cmhklycx/residue_atom_index.zip?rlkey=i5qzddjcb4jcbao19h6jgfx00&st=go9ujwsg&dl=1\",\n",
    "    ROOT / \"data\" / \"processed\",\n",
    "    expected_content=[\"residue_atom_index\"],\n",
    ")\n",
    "\n",
    "mask_pl_edge_residue_results_artifact = ZipArtifact(\n",
    "    \"https://www.dropbox.com/scl/fi/2vt532fkofgdth2ae6c19/mask_pl_edges_at_residue.zip?rlkey=1z14ykkh8fn5lvwafc17b2gef&st=zqe0osr0&dl=1\",\n",
    "    ROOT / \"data\" / \"crocodoc\",\n",
    "    expected_content=[\"mask_pl_edges_at_residue\"],\n",
    ")"
   ]
  },
  {
   "cell_type": "code",
   "execution_count": 4,
   "metadata": {},
   "outputs": [],
   "source": [
    "# TODO\n",
    "# - add PLIP artifact\n",
    "# - add kinodata 3D raw and processed artifact?"
   ]
  },
  {
   "cell_type": "markdown",
   "metadata": {},
   "source": [
    "## Data loading 1: crocodoc output data pl edge masking at residues"
   ]
  },
  {
   "cell_type": "code",
   "execution_count": 5,
   "metadata": {},
   "outputs": [],
   "source": [
    "mask_pl_edge_residue_result = mask_pl_edge_residue_results_artifact.contents[0]"
   ]
  },
  {
   "cell_type": "code",
   "execution_count": 6,
   "metadata": {},
   "outputs": [
    {
     "data": {
      "application/vnd.jupyter.widget-view+json": {
       "model_id": "ba5415ffcfc246a7af9f31ac1c8a0cd9",
       "version_major": 2,
       "version_minor": 0
      },
      "text/plain": [
       "  0%|          | 0/945 [00:00<?, ?it/s]"
      ]
     },
     "metadata": {},
     "output_type": "display_data"
    }
   ],
   "source": [
    "ref_dfs = []\n",
    "attr_dfs = []\n",
    "all_files = list(mask_pl_edge_residue_result.glob(\"*.csv\"))\n",
    "for csv_file in tqdm.tqdm(all_files):\n",
    "    if \"None\" in csv_file.name:\n",
    "        continue\n",
    "    df = pd.read_csv(csv_file)\n",
    "    if \"cgnn3d\" in csv_file.name:\n",
    "        model = \"CGNN-3D\"\n",
    "    elif \"cgnn\" in csv_file.name:\n",
    "        model = \"CGNN\"\n",
    "    else:\n",
    "        model = None\n",
    "    df[\"model\"] = model\n",
    "    if \"reference\" in csv_file.stem:\n",
    "        ref_dfs.append(df)\n",
    "        continue\n",
    "    attr_dfs.append(df)"
   ]
  },
  {
   "cell_type": "code",
   "execution_count": 7,
   "metadata": {},
   "outputs": [],
   "source": [
    "attr_df = pd.concat(attr_dfs, axis=0)\n",
    "ref = pd.concat(ref_dfs, axis=0)\n",
    "\n",
    "attr_df = pd.merge(\n",
    "    attr_df,\n",
    "    ref[[\"chembl_activity_id\", \"reference_pred\", \"target\", \"model\"]],\n",
    "    on=[\"chembl_activity_id\", \"model\"],\n",
    "    how=\"left\",\n",
    ")\n",
    "\n",
    "attr_df[\"delta\"] = attr_df[\"reference_pred\"] - attr_df[\"masked_pred\"]"
   ]
  },
  {
   "cell_type": "markdown",
   "metadata": {},
   "source": [
    "### Sanity check deltas for cgnn are close to zero"
   ]
  },
  {
   "cell_type": "code",
   "execution_count": 8,
   "metadata": {},
   "outputs": [],
   "source": [
    "cgnn3d_only = attr_df[attr_df[\"model\"] == \"CGNN-3D\"]\n",
    "cgnn_only = attr_df[attr_df[\"model\"] == \"CGNN\"]"
   ]
  },
  {
   "cell_type": "markdown",
   "metadata": {},
   "source": [
    "## Data loading 2\n",
    "- residue atom index (ie Map[ident, Map[residue id, pocket atom index of atoms in that residue]])\n",
    "- Kinodata3D pytorch geometric data objects\n",
    "- Kinodata3D underlying rdkit mols"
   ]
  },
  {
   "cell_type": "code",
   "execution_count": 9,
   "metadata": {},
   "outputs": [],
   "source": [
    "from kinodata.data import KinodataDocked\n",
    "from kinodata.data.dataset import _DATA\n",
    "from pathlib import Path\n",
    "from kinodata.transform import TransformToComplexGraph\n",
    "import multiprocessing as mp\n",
    "import json\n",
    "from rdkit import Chem\n",
    "from rdkit.Chem import Draw\n",
    "import random\n",
    "\n",
    "\n",
    "RESIDUE_ATOM_INDEX = residue_atom_index_artifact.contents[0]\n",
    "\n",
    "to_cplx = TransformToComplexGraph()\n",
    "\n",
    "\n",
    "def get_ident(file: Path):\n",
    "    ident = int(file.stem.split(\"_\")[-1])\n",
    "    return ident\n",
    "\n",
    "\n",
    "def load_single_index(file: Path):\n",
    "    with open(file, \"r\") as f:\n",
    "        try:\n",
    "            dictionary = json.load(f)\n",
    "        except json.decoder.JSONDecodeError:\n",
    "            dictionary = None\n",
    "    ident = int(file.stem.split(\"_\")[-1])\n",
    "    return (ident, dictionary)\n",
    "\n",
    "\n",
    "def load_residue_atom_index(idents, parallelize=False):\n",
    "    files = list(RESIDUE_ATOM_INDEX.iterdir())\n",
    "    files = [file for file in files if get_ident(file) in idents]\n",
    "    assert len(files) == len(idents)\n",
    "    progressing_iterable = tqdm.tqdm(files, desc=\"Loading residue atom index...\")\n",
    "    if parallelize:\n",
    "        with mp.Pool() as pool:\n",
    "            tuples = pool.map(load_single_index, progressing_iterable)\n",
    "    else:\n",
    "        tuples = [load_single_index(f) for f in progressing_iterable]\n",
    "    return dict(tuples)"
   ]
  },
  {
   "cell_type": "code",
   "execution_count": 10,
   "metadata": {},
   "outputs": [],
   "source": [
    "dataset = KinodataDocked()"
   ]
  },
  {
   "cell_type": "code",
   "execution_count": 11,
   "metadata": {},
   "outputs": [],
   "source": [
    "data_by_ident = {data.ident.item(): data for data in dataset}"
   ]
  },
  {
   "cell_type": "code",
   "execution_count": 12,
   "metadata": {},
   "outputs": [
    {
     "name": "stdout",
     "output_type": "stream",
     "text": [
      "Reading data frame from /home/michael/Code/kinodata-3D-affinity-prediction/data/raw/kinodata_docked_v2.sdf.gz...\n",
      "Deduping data frame (current size: 121913)...\n",
      "119713 complexes remain after deduplication.\n",
      "Checking for missing pocket mol2 files...\n"
     ]
    },
    {
     "name": "stderr",
     "output_type": "stream",
     "text": [
      "100%|██████████████████████████████████████████████████████████████████████████████████████████████████████████████████████████████████████████████████████████████████████████████████████████████████████████████████████████████████████████████| 3244/3244 [00:00<00:00, 45056.14it/s]\n"
     ]
    },
    {
     "name": "stdout",
     "output_type": "stream",
     "text": [
      "Adding pocket sequences...\n",
      "(119713, 25)\n"
     ]
    },
    {
     "name": "stderr",
     "output_type": "stream",
     "text": [
      "100%|████████████████████████████████████████████████████████████████████████████████████████████████████████████████████████████████████████████████████████████████████████████████████████████████████████████████████████████████████████| 119713/119713 [00:00<00:00, 2923696.51it/s]\n"
     ]
    },
    {
     "name": "stdout",
     "output_type": "stream",
     "text": [
      "Exiting with 3552 cached sequences.\n",
      "(119713, 26)\n"
     ]
    }
   ],
   "source": [
    "mol_source_df = dataset.df"
   ]
  },
  {
   "cell_type": "code",
   "execution_count": 13,
   "metadata": {},
   "outputs": [
    {
     "data": {
      "text/plain": [
       "Index(['docking.posit_probability', 'docking.chemgauss_score',\n",
       "       'activities.activity_id', 'assays.chembl_id',\n",
       "       'target_dictionary.chembl_id', 'molecule_dictionary.chembl_id',\n",
       "       'molecule_dictionary.max_phase', 'activities.standard_type',\n",
       "       'activities.standard_units', 'compound_structures.canonical_smiles',\n",
       "       'compound_structures.standard_inchi', 'component_sequences.sequence',\n",
       "       'assays.confidence_score', 'docs.chembl_id', 'docs.year',\n",
       "       'docs.authors', 'UniprotID', 'similar.klifs_structure_id',\n",
       "       'similar.fp_similarity', 'ID', 'activities.standard_value',\n",
       "       'docking.predicted_rmsd', 'molecule', 'pocket_mol2_file', 'ident',\n",
       "       'structure.pocket_sequence'],\n",
       "      dtype='object')"
      ]
     },
     "execution_count": 13,
     "metadata": {},
     "output_type": "execute_result"
    }
   ],
   "source": [
    "mol_source_df.columns"
   ]
  },
  {
   "cell_type": "code",
   "execution_count": 14,
   "metadata": {},
   "outputs": [],
   "source": [
    "mols_by_ident = mol_source_df.set_index(\"ident\")"
   ]
  },
  {
   "cell_type": "code",
   "execution_count": 15,
   "metadata": {},
   "outputs": [],
   "source": [
    "mol_source_df[\"activities.activity_id\"] = mol_source_df[\n",
    "    \"activities.activity_id\"\n",
    "].astype(int)"
   ]
  },
  {
   "cell_type": "code",
   "execution_count": 16,
   "metadata": {},
   "outputs": [],
   "source": [
    "mols_by_chembl_id = mol_source_df.set_index(\"activities.activity_id\")"
   ]
  },
  {
   "cell_type": "markdown",
   "metadata": {},
   "source": [
    "## Data analysis 1: single complex delta analysis"
   ]
  },
  {
   "cell_type": "markdown",
   "metadata": {},
   "source": [
    "Select a single complex and make select the data that corresponds to that complex."
   ]
  },
  {
   "cell_type": "code",
   "execution_count": 153,
   "metadata": {},
   "outputs": [
    {
     "data": {
      "application/vnd.jupyter.widget-view+json": {
       "model_id": "7c42cd43606f4b42ab2b44b153fe6246",
       "version_major": 2,
       "version_minor": 0
      },
      "text/plain": [
       "Loading residue atom index...:   0%|          | 0/1 [00:00<?, ?it/s]"
      ]
     },
     "metadata": {},
     "output_type": "display_data"
    },
    {
     "name": "stdout",
     "output_type": "stream",
     "text": [
      "idents: chembl=3442657 kinodata=19283 klifs=983\n"
     ]
    }
   ],
   "source": [
    "import random\n",
    "\n",
    "# set chembl activity id here, ...\n",
    "# choice = 2390222\n",
    "# choice = 3559317\n",
    "choice = None#626043#None\n",
    "\n",
    "if choice:\n",
    "    subs = cgnn3d_only[cgnn3d_only[\"chembl_activity_id\"] == choice]\n",
    "    ident = subs[\"ident\"].iloc[0]\n",
    "    chembl_activity_id = choice\n",
    "# or pick a random one\n",
    "else:\n",
    "    ident, index = random.choice(list(cgnn3d_only.groupby(\"ident\").groups.items()))\n",
    "    ra = load_residue_atom_index([ident])[ident]\n",
    "    ra = {int(k): v for k, v in ra.items()}\n",
    "    subs = cgnn3d_only.loc[index]\n",
    "    chembl_activity_id = subs[\"chembl_activity_id\"].iloc[0]\n",
    "assert subs[\"chembl_activity_id\"].nunique() == 1\n",
    "assert subs[\"ident\"].nunique() == 1\n",
    "\n",
    "klifs_id = subs[\"klifs_structure_id\"].unique()[0]\n",
    "print(f\"idents: chembl={chembl_activity_id} kinodata={ident} klifs={klifs_id}\")"
   ]
  },
  {
   "cell_type": "code",
   "execution_count": 157,
   "metadata": {},
   "outputs": [],
   "source": [
    "from kinodata.data.io.read_klifs_mol2 import read_klifs_mol2\n",
    "\n",
    "pocket_file = ROOT / Path(f\"data/raw/mol2/pocket/{klifs_id}_pocket.mol2\")\n",
    "pocket_file.exists()\n",
    "mol2_meta = read_klifs_mol2(pocket_file, with_bonds=False)\n",
    "mol2_meta = mol2_meta[[\"residue.subst_id\", \"residue.subst_name\"]].drop_duplicates()\n",
    "mask_to_weird = dict(zip(sorted(subs['masked_residue'].unique()), sorted(mol2_meta['residue.subst_name'].str[3:].astype(int))))\n",
    "subs[\"residue.subst_id\"] = subs[\"masked_residue\"].apply(lambda x: mask_to_weird[x])\n",
    "subs_with_mol2 = pd.merge(subs, mol2_meta, on=\"residue.subst_id\", how=\"left\")"
   ]
  },
  {
   "cell_type": "code",
   "execution_count": 158,
   "metadata": {},
   "outputs": [
    {
     "data": {
      "text/plain": [
       "ident                    19283\n",
       "chembl_activity_id     3442657\n",
       "klifs_structure_id         983\n",
       "masked_pred            7.37287\n",
       "masked_resname             MET\n",
       "masked_res_letter            M\n",
       "model                  CGNN-3D\n",
       "reference_pred         7.37287\n",
       "target                6.309804\n",
       "delta                      0.0\n",
       "residue.subst_id           314\n",
       "residue.subst_name        <NA>\n",
       "Name: 28, dtype: object"
      ]
     },
     "execution_count": 158,
     "metadata": {},
     "output_type": "execute_result"
    }
   ],
   "source": [
    "subs_with_mol2.set_index('masked_residue').loc[28]"
   ]
  },
  {
   "cell_type": "markdown",
   "metadata": {},
   "source": [
    "#### Plot "
   ]
  },
  {
   "cell_type": "code",
   "execution_count": 159,
   "metadata": {},
   "outputs": [
    {
     "data": {
      "image/png": "[encoded data removed]",
      "text/plain": [
       "<Figure size 640x480 with 1 Axes>"
      ]
     },
     "metadata": {},
     "output_type": "display_data"
    }
   ],
   "source": [
    "ax = sns.barplot(subs[subs.delta.abs() > .05], \n",
    "    x=\"masked_residue\",\n",
    "    y=\"delta\",\n",
    "    hue=\"masked_resname\", dodge=False)\n",
    "\n",
    "\n",
    "sns.move_legend(ax, \"upper right\", bbox_to_anchor=(1.3, 1), title=\"Residue name\")"
   ]
  },
  {
   "cell_type": "code",
   "execution_count": 160,
   "metadata": {},
   "outputs": [
    {
     "data": {
      "text/plain": [
       "<AxesSubplot: xlabel='delta', ylabel='Density'>"
      ]
     },
     "execution_count": 160,
     "metadata": {},
     "output_type": "execute_result"
    },
    {
     "data": {
      "image/png": "[encoded data removed]",
      "text/plain": [
       "<Figure size 640x480 with 1 Axes>"
      ]
     },
     "metadata": {},
     "output_type": "display_data"
    }
   ],
   "source": [
    "sns.kdeplot(subs_with_mol2, x='delta')"
   ]
  },
  {
   "cell_type": "code",
   "execution_count": 161,
   "metadata": {},
   "outputs": [],
   "source": [
    "# get diverging color map\n",
    "from matplotlib import cm\n",
    "from matplotlib.colors import Normalize\n",
    "\n",
    "norm = Normalize(vmin=-1, vmax=1)\n",
    "cmap = cm.get_cmap(\"bwr\")\n",
    "cmapper = cm.ScalarMappable(norm=norm, cmap=cmap)\n",
    "\n",
    "\n",
    "def map_to_hex(val):\n",
    "    max_val = subs['delta'].abs().max()\n",
    "    rgba = cmapper.to_rgba(val / max_val)\n",
    "    hex_color = f\"#{''.join(f'{int(255 * x):02x}' for x in rgba[:3])}\"\n",
    "    return hex_color\n",
    "\n",
    "subs_with_mol2[\"colorcode\"] = subs_with_mol2[\"delta\"].apply(map_to_hex)"
   ]
  },
  {
   "cell_type": "code",
   "execution_count": 162,
   "metadata": {},
   "outputs": [],
   "source": [
    "import requests as req\n",
    "\n",
    "\n",
    "for struc in 'ligand protein'.split():\n",
    "    resp = req.get(f'https://klifs.net/api/structure_get_{struc}?structure_ID={klifs_id}')   \n",
    "    with open(Path.home() / f\"{struc}.mol2\", 'wb') as f:\n",
    "        f.write(resp.content)"
   ]
  },
  {
   "cell_type": "code",
   "execution_count": 163,
   "metadata": {},
   "outputs": [],
   "source": [
    "!mv ~/ligand.mol2 ~/template_ligand.mol2"
   ]
  },
  {
   "cell_type": "code",
   "execution_count": 164,
   "metadata": {},
   "outputs": [],
   "source": [
    "Chem.MolToMolFile(mols_by_chembl_id.loc[chembl_activity_id, 'molecule'], \"/home/michael/ligand.mol\")"
   ]
  },
  {
   "cell_type": "code",
   "execution_count": 165,
   "metadata": {},
   "outputs": [
    {
     "data": {
      "image/png": "[encoded data removed]",
      "text/html": [
       "<table><tr><td colspan=\"2\" style=\"text-align: center;\"><image src=\"data:image/png;base64,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\"></td></tr>\n",
       "<tr><th style=\"text-align: right\">docking.posit_probability</th><td style=\"text-align: left\">0.91</td></tr>\n",
       "<tr><th style=\"text-align: right\">docking.chemgauss_score</th><td style=\"text-align: left\">-13.181339</td></tr>\n",
       "<tr><th style=\"text-align: right\">activities.activity_id</th><td style=\"text-align: left\">3442657</td></tr>\n",
       "<tr><th style=\"text-align: right\">assays.chembl_id</th><td style=\"text-align: left\">CHEMBL1243974</td></tr>\n",
       "<tr><th style=\"text-align: right\">target_dictionary.chembl_id</th><td style=\"text-align: left\">CHEMBL267</td></tr>\n",
       "<tr><th style=\"text-align: right\">molecule_dictionary.chembl_id</th><td style=\"text-align: left\">CHEMBL1241860</td></tr>\n",
       "<tr><th style=\"text-align: right\">molecule_dictionary.max_phase</th><td style=\"text-align: left\">nan</td></tr>\n",
       "<tr><th style=\"text-align: right\">activities.standard_type</th><td style=\"text-align: left\">pIC50</td></tr>\n",
       "<tr><th style=\"text-align: right\">activities.standard_value</th><td style=\"text-align: left\">6.309804</td></tr>\n",
       "<tr><th style=\"text-align: right\">activities.standard_units</th><td style=\"text-align: left\">nM</td></tr>\n",
       "<tr><td colspan=\"2\" style=\"text-align: center\">Property list truncated.<br />Increase IPythonConsole.ipython_maxProperties (or set it to -1) to see more properties.</td></tr></table>"
      ],
      "text/plain": [
       "<rdkit.Chem.rdchem.Mol at 0x7ff1c729ae30>"
      ]
     },
     "execution_count": 165,
     "metadata": {},
     "output_type": "execute_result"
    }
   ],
   "source": [
    "mols_by_chembl_id.loc[chembl_activity_id, 'molecule']"
   ]
  },
  {
   "cell_type": "code",
   "execution_count": 166,
   "metadata": {},
   "outputs": [
    {
     "data": {
      "text/html": [
       "<div>\n",
       "<style scoped>\n",
       "    .dataframe tbody tr th:only-of-type {\n",
       "        vertical-align: middle;\n",
       "    }\n",
       "\n",
       "    .dataframe tbody tr th {\n",
       "        vertical-align: top;\n",
       "    }\n",
       "\n",
       "    .dataframe thead th {\n",
       "        text-align: right;\n",
       "    }\n",
       "</style>\n",
       "<table border=\"1\" class=\"dataframe\">\n",
       "  <thead>\n",
       "    <tr style=\"text-align: right;\">\n",
       "      <th></th>\n",
       "      <th>ident</th>\n",
       "      <th>chembl_activity_id</th>\n",
       "      <th>klifs_structure_id</th>\n",
       "      <th>masked_residue</th>\n",
       "      <th>masked_pred</th>\n",
       "      <th>masked_resname</th>\n",
       "      <th>masked_res_letter</th>\n",
       "      <th>model</th>\n",
       "      <th>reference_pred</th>\n",
       "      <th>target</th>\n",
       "      <th>delta</th>\n",
       "      <th>residue.subst_id</th>\n",
       "      <th>residue.subst_name</th>\n",
       "      <th>colorcode</th>\n",
       "    </tr>\n",
       "  </thead>\n",
       "  <tbody>\n",
       "    <tr>\n",
       "      <th>0</th>\n",
       "      <td>19283</td>\n",
       "      <td>3442657</td>\n",
       "      <td>983</td>\n",
       "      <td>31</td>\n",
       "      <td>7.372864</td>\n",
       "      <td>LEU</td>\n",
       "      <td>L</td>\n",
       "      <td>CGNN-3D</td>\n",
       "      <td>7.37287</td>\n",
       "      <td>6.309804</td>\n",
       "      <td>0.000006</td>\n",
       "      <td>317</td>\n",
       "      <td>&lt;NA&gt;</td>\n",
       "      <td>#fffefe</td>\n",
       "    </tr>\n",
       "    <tr>\n",
       "      <th>1</th>\n",
       "      <td>19283</td>\n",
       "      <td>3442657</td>\n",
       "      <td>983</td>\n",
       "      <td>29</td>\n",
       "      <td>7.372868</td>\n",
       "      <td>LYS</td>\n",
       "      <td>K</td>\n",
       "      <td>CGNN-3D</td>\n",
       "      <td>7.37287</td>\n",
       "      <td>6.309804</td>\n",
       "      <td>0.000002</td>\n",
       "      <td>315</td>\n",
       "      <td>&lt;NA&gt;</td>\n",
       "      <td>#fffefe</td>\n",
       "    </tr>\n",
       "    <tr>\n",
       "      <th>2</th>\n",
       "      <td>19283</td>\n",
       "      <td>3442657</td>\n",
       "      <td>983</td>\n",
       "      <td>82</td>\n",
       "      <td>7.372869</td>\n",
       "      <td>PHE</td>\n",
       "      <td>F</td>\n",
       "      <td>CGNN-3D</td>\n",
       "      <td>7.37287</td>\n",
       "      <td>6.309804</td>\n",
       "      <td>0.000001</td>\n",
       "      <td>405</td>\n",
       "      <td>&lt;NA&gt;</td>\n",
       "      <td>#fffefe</td>\n",
       "    </tr>\n",
       "    <tr>\n",
       "      <th>3</th>\n",
       "      <td>19283</td>\n",
       "      <td>3442657</td>\n",
       "      <td>983</td>\n",
       "      <td>76</td>\n",
       "      <td>7.372864</td>\n",
       "      <td>ILE</td>\n",
       "      <td>I</td>\n",
       "      <td>CGNN-3D</td>\n",
       "      <td>7.37287</td>\n",
       "      <td>6.309804</td>\n",
       "      <td>0.000006</td>\n",
       "      <td>392</td>\n",
       "      <td>&lt;NA&gt;</td>\n",
       "      <td>#fffefe</td>\n",
       "    </tr>\n",
       "    <tr>\n",
       "      <th>4</th>\n",
       "      <td>19283</td>\n",
       "      <td>3442657</td>\n",
       "      <td>983</td>\n",
       "      <td>50</td>\n",
       "      <td>7.372864</td>\n",
       "      <td>LYS</td>\n",
       "      <td>K</td>\n",
       "      <td>CGNN-3D</td>\n",
       "      <td>7.37287</td>\n",
       "      <td>6.309804</td>\n",
       "      <td>0.000006</td>\n",
       "      <td>343</td>\n",
       "      <td>&lt;NA&gt;</td>\n",
       "      <td>#fffefe</td>\n",
       "    </tr>\n",
       "    <tr>\n",
       "      <th>...</th>\n",
       "      <td>...</td>\n",
       "      <td>...</td>\n",
       "      <td>...</td>\n",
       "      <td>...</td>\n",
       "      <td>...</td>\n",
       "      <td>...</td>\n",
       "      <td>...</td>\n",
       "      <td>...</td>\n",
       "      <td>...</td>\n",
       "      <td>...</td>\n",
       "      <td>...</td>\n",
       "      <td>...</td>\n",
       "      <td>...</td>\n",
       "      <td>...</td>\n",
       "    </tr>\n",
       "    <tr>\n",
       "      <th>80</th>\n",
       "      <td>19283</td>\n",
       "      <td>3442657</td>\n",
       "      <td>983</td>\n",
       "      <td>75</td>\n",
       "      <td>7.372865</td>\n",
       "      <td>ASN</td>\n",
       "      <td>N</td>\n",
       "      <td>CGNN-3D</td>\n",
       "      <td>7.37287</td>\n",
       "      <td>6.309804</td>\n",
       "      <td>0.000005</td>\n",
       "      <td>391</td>\n",
       "      <td>&lt;NA&gt;</td>\n",
       "      <td>#fffefe</td>\n",
       "    </tr>\n",
       "    <tr>\n",
       "      <th>81</th>\n",
       "      <td>19283</td>\n",
       "      <td>3442657</td>\n",
       "      <td>983</td>\n",
       "      <td>41</td>\n",
       "      <td>7.372868</td>\n",
       "      <td>VAL</td>\n",
       "      <td>V</td>\n",
       "      <td>CGNN-3D</td>\n",
       "      <td>7.37287</td>\n",
       "      <td>6.309804</td>\n",
       "      <td>0.000002</td>\n",
       "      <td>328</td>\n",
       "      <td>&lt;NA&gt;</td>\n",
       "      <td>#fffefe</td>\n",
       "    </tr>\n",
       "    <tr>\n",
       "      <th>82</th>\n",
       "      <td>19283</td>\n",
       "      <td>3442657</td>\n",
       "      <td>983</td>\n",
       "      <td>70</td>\n",
       "      <td>7.372864</td>\n",
       "      <td>ASP</td>\n",
       "      <td>D</td>\n",
       "      <td>CGNN-3D</td>\n",
       "      <td>7.37287</td>\n",
       "      <td>6.309804</td>\n",
       "      <td>0.000006</td>\n",
       "      <td>386</td>\n",
       "      <td>&lt;NA&gt;</td>\n",
       "      <td>#fffefe</td>\n",
       "    </tr>\n",
       "    <tr>\n",
       "      <th>83</th>\n",
       "      <td>19283</td>\n",
       "      <td>3442657</td>\n",
       "      <td>983</td>\n",
       "      <td>37</td>\n",
       "      <td>7.372867</td>\n",
       "      <td>GLN</td>\n",
       "      <td>Q</td>\n",
       "      <td>CGNN-3D</td>\n",
       "      <td>7.37287</td>\n",
       "      <td>6.309804</td>\n",
       "      <td>0.000003</td>\n",
       "      <td>324</td>\n",
       "      <td>&lt;NA&gt;</td>\n",
       "      <td>#fffefe</td>\n",
       "    </tr>\n",
       "    <tr>\n",
       "      <th>84</th>\n",
       "      <td>19283</td>\n",
       "      <td>3442657</td>\n",
       "      <td>983</td>\n",
       "      <td>30</td>\n",
       "      <td>7.372867</td>\n",
       "      <td>LYS</td>\n",
       "      <td>K</td>\n",
       "      <td>CGNN-3D</td>\n",
       "      <td>7.37287</td>\n",
       "      <td>6.309804</td>\n",
       "      <td>0.000003</td>\n",
       "      <td>316</td>\n",
       "      <td>&lt;NA&gt;</td>\n",
       "      <td>#fffefe</td>\n",
       "    </tr>\n",
       "  </tbody>\n",
       "</table>\n",
       "<p>85 rows × 14 columns</p>\n",
       "</div>"
      ],
      "text/plain": [
       "    ident  chembl_activity_id  klifs_structure_id  masked_residue  \\\n",
       "0   19283             3442657                 983              31   \n",
       "1   19283             3442657                 983              29   \n",
       "2   19283             3442657                 983              82   \n",
       "3   19283             3442657                 983              76   \n",
       "4   19283             3442657                 983              50   \n",
       "..    ...                 ...                 ...             ...   \n",
       "80  19283             3442657                 983              75   \n",
       "81  19283             3442657                 983              41   \n",
       "82  19283             3442657                 983              70   \n",
       "83  19283             3442657                 983              37   \n",
       "84  19283             3442657                 983              30   \n",
       "\n",
       "    masked_pred masked_resname masked_res_letter    model  reference_pred  \\\n",
       "0      7.372864            LEU                 L  CGNN-3D         7.37287   \n",
       "1      7.372868            LYS                 K  CGNN-3D         7.37287   \n",
       "2      7.372869            PHE                 F  CGNN-3D         7.37287   \n",
       "3      7.372864            ILE                 I  CGNN-3D         7.37287   \n",
       "4      7.372864            LYS                 K  CGNN-3D         7.37287   \n",
       "..          ...            ...               ...      ...             ...   \n",
       "80     7.372865            ASN                 N  CGNN-3D         7.37287   \n",
       "81     7.372868            VAL                 V  CGNN-3D         7.37287   \n",
       "82     7.372864            ASP                 D  CGNN-3D         7.37287   \n",
       "83     7.372867            GLN                 Q  CGNN-3D         7.37287   \n",
       "84     7.372867            LYS                 K  CGNN-3D         7.37287   \n",
       "\n",
       "      target     delta  residue.subst_id residue.subst_name colorcode  \n",
       "0   6.309804  0.000006               317               <NA>   #fffefe  \n",
       "1   6.309804  0.000002               315               <NA>   #fffefe  \n",
       "2   6.309804  0.000001               405               <NA>   #fffefe  \n",
       "3   6.309804  0.000006               392               <NA>   #fffefe  \n",
       "4   6.309804  0.000006               343               <NA>   #fffefe  \n",
       "..       ...       ...               ...                ...       ...  \n",
       "80  6.309804  0.000005               391               <NA>   #fffefe  \n",
       "81  6.309804  0.000002               328               <NA>   #fffefe  \n",
       "82  6.309804  0.000006               386               <NA>   #fffefe  \n",
       "83  6.309804  0.000003               324               <NA>   #fffefe  \n",
       "84  6.309804  0.000003               316               <NA>   #fffefe  \n",
       "\n",
       "[85 rows x 14 columns]"
      ]
     },
     "execution_count": 166,
     "metadata": {},
     "output_type": "execute_result"
    }
   ],
   "source": [
    "subs_with_mol2"
   ]
  },
  {
   "cell_type": "code",
   "execution_count": 167,
   "metadata": {},
   "outputs": [],
   "source": [
    "with open(Path.home() / 'colors.cxc', 'w') as f:\n",
    "    f.write('\\n'.join([f'color :{ident} {c}' for c, ident in subs_with_mol2[['colorcode', 'residue.subst_id']].values]))\n",
    "\n",
    "with open(Path.home() / 'viz.cxc', 'w') as f:\n",
    "    f.write(\"\"\"close session\n",
    "open ~/protein.mol2\n",
    "show surface\n",
    "color grey\n",
    "transparency 90 target s\n",
    "open colors.cxc\n",
    "open ~/template_ligand.mol2\n",
    "open ~/ligand.mol\n",
    "hb intraModel f reveal t twoColors t showDist t\n",
    "hide surface\n",
    "lighting depthCue t depthCueStart .3 depthCueEnd .9\n",
    "graphics silhouettes true\n",
    "set bgColor black\"\"\")"
   ]
  },
  {
   "cell_type": "code",
   "execution_count": null,
   "metadata": {},
   "outputs": [],
   "source": []
  },
  {
   "cell_type": "code",
   "execution_count": null,
   "metadata": {},
   "outputs": [],
   "source": []
  },
  {
   "cell_type": "code",
   "execution_count": null,
   "metadata": {},
   "outputs": [],
   "source": []
  },
  {
   "cell_type": "code",
   "execution_count": null,
   "metadata": {},
   "outputs": [],
   "source": []
  }
 ],
 "metadata": {
  "kernelspec": {
   "display_name": "Python 3 (ipykernel)",
   "language": "python",
   "name": "python3"
  },
  "language_info": {
   "codemirror_mode": {
    "name": "ipython",
    "version": 3
   },
   "file_extension": ".py",
   "mimetype": "text/x-python",
   "name": "python",
   "nbconvert_exporter": "python",
   "pygments_lexer": "ipython3",
   "version": "3.10.8"
  }
 },
 "nbformat": 4,
 "nbformat_minor": 4
}
