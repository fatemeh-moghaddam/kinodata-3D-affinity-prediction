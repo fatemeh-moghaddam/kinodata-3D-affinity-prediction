{
 "cells": [
  {
   "cell_type": "code",
   "execution_count": 1,
   "id": "1878a795-1e1f-46ee-93ce-e96186484ccf",
   "metadata": {},
   "outputs": [],
   "source": [
    "import pandas as pd\n",
    "import tqdm\n",
    "import functools\n",
    "import numpy as np"
   ]
  },
  {
   "cell_type": "code",
   "execution_count": 2,
   "id": "d4ecb084-a1a7-4551-a325-aab3df0b5e0d",
   "metadata": {},
   "outputs": [],
   "source": [
    "from rdkit.Chem import PandasTools"
   ]
  },
  {
   "cell_type": "code",
   "execution_count": 3,
   "id": "f5e8ca4c-58bd-4cde-8512-c80249bf752d",
   "metadata": {},
   "outputs": [],
   "source": [
    "# from kinodata.data.io.read_klifs_mol2 import read_klifs_mol2\n",
    "from pathlib import Path\n",
    "from typing import Union\n",
    "import pandas as pd\n",
    "import numpy as np\n",
    "import re\n",
    "\n",
    "try:\n",
    "    from biopandas.mol2 import PandasMol2\n",
    "\n",
    "    pmol = PandasMol2()\n",
    "except:\n",
    "    print(\"i am so tired of rebuilding my entire docker image every single time\")\n",
    "\n",
    "klifs_mol2_columns = {\n",
    "    0: (\"atom.id\", \"int32\"),\n",
    "    1: (\"atom.name\", \"string\"),\n",
    "    2: (\"atom.x\", \"float32\"),\n",
    "    3: (\"atom.y\", \"float32\"),\n",
    "    4: (\"atom.z\", \"float32\"),\n",
    "    5: (\"atom.type\", \"string\"),\n",
    "    6: (\"residue.subst_id\", \"int32\"),\n",
    "    7: (\"residue.subst_name\", \"string\"),\n",
    "    8: (\"atom.charge\", \"float32\"),\n",
    "    9: (\"atom.status_bit\", \"string\"),\n",
    "}\n",
    "\n",
    "@functools.cache\n",
    "def read_klifs_mol2(path: Union[str, Path], with_bonds: bool = True) -> pd.DataFrame:\n",
    "    path = Path(path)\n",
    "    atom_df = pmol.read_mol2(str(path), columns=klifs_mol2_columns).df\n",
    "    if with_bonds:\n",
    "        raw = path.read_text()\n",
    "        bond_start = raw.find(\"@<TRIPOS>BOND\")\n",
    "        bond_len = raw[bond_start + 1 :].find(\"@\")\n",
    "        rows = raw[bond_start : bond_start + bond_len].split(\"\\n\")[1:]\n",
    "        rows = [row.rstrip().split()[:4] for row in rows]\n",
    "        bond_df = pd.DataFrame(\n",
    "            rows, columns=[\"bond_id\", \"source_atom_id\", \"target_atom_id\", \"bond_type\"]\n",
    "        )\n",
    "        bond_df[\"bond_id\"] = bond_df[\"bond_id\"].astype(int)\n",
    "        bond_df[\"source_atom_id\"] = bond_df[\"source_atom_id\"].astype(int)\n",
    "        bond_df[\"target_atom_id\"] = bond_df[\"target_atom_id\"].astype(int)\n",
    "        return atom_df, bond_df\n",
    "    return atom_df"
   ]
  },
  {
   "cell_type": "code",
   "execution_count": 4,
   "id": "750fdf21-44cc-44a5-98ff-21cdb68107a0",
   "metadata": {
    "scrolled": true
   },
   "outputs": [
    {
     "data": {
      "text/html": [
       "<div>\n",
       "<style scoped>\n",
       "    .dataframe tbody tr th:only-of-type {\n",
       "        vertical-align: middle;\n",
       "    }\n",
       "\n",
       "    .dataframe tbody tr th {\n",
       "        vertical-align: top;\n",
       "    }\n",
       "\n",
       "    .dataframe thead th {\n",
       "        text-align: right;\n",
       "    }\n",
       "</style>\n",
       "<table border=\"1\" class=\"dataframe\">\n",
       "  <thead>\n",
       "    <tr style=\"text-align: right;\">\n",
       "      <th></th>\n",
       "      <th>ident</th>\n",
       "      <th>masked_residue</th>\n",
       "      <th>masked_pred</th>\n",
       "      <th>compound_structures.canonical_smiles</th>\n",
       "      <th>docking.chemgauss_score</th>\n",
       "      <th>similar.klifs_structure_id</th>\n",
       "      <th>similar.fp_similarity</th>\n",
       "      <th>activities.activity_id</th>\n",
       "      <th>UniprotID</th>\n",
       "      <th>docking.posit_probability</th>\n",
       "      <th>docking.predicted_rmsd</th>\n",
       "      <th>index</th>\n",
       "      <th>reference_pred</th>\n",
       "      <th>target</th>\n",
       "      <th>delta</th>\n",
       "    </tr>\n",
       "  </thead>\n",
       "  <tbody>\n",
       "    <tr>\n",
       "      <th>0</th>\n",
       "      <td>44494</td>\n",
       "      <td>72</td>\n",
       "      <td>5.676785</td>\n",
       "      <td>Nc1n[nH]c2nc(-c3ccc(NS(=O)(=O)c4cc(Cl)ccc4Cl)c...</td>\n",
       "      <td>-11.868353</td>\n",
       "      <td>14012</td>\n",
       "      <td>0.271318</td>\n",
       "      <td>13852678</td>\n",
       "      <td>O00141</td>\n",
       "      <td>0.78</td>\n",
       "      <td>1.382647</td>\n",
       "      <td>0</td>\n",
       "      <td>5.666315</td>\n",
       "      <td>4.376751</td>\n",
       "      <td>-0.010470</td>\n",
       "    </tr>\n",
       "    <tr>\n",
       "      <th>1</th>\n",
       "      <td>44494</td>\n",
       "      <td>71</td>\n",
       "      <td>5.657371</td>\n",
       "      <td>Nc1n[nH]c2nc(-c3ccc(NS(=O)(=O)c4cc(Cl)ccc4Cl)c...</td>\n",
       "      <td>-11.868353</td>\n",
       "      <td>14012</td>\n",
       "      <td>0.271318</td>\n",
       "      <td>13852678</td>\n",
       "      <td>O00141</td>\n",
       "      <td>0.78</td>\n",
       "      <td>1.382647</td>\n",
       "      <td>0</td>\n",
       "      <td>5.666315</td>\n",
       "      <td>4.376751</td>\n",
       "      <td>0.008944</td>\n",
       "    </tr>\n",
       "    <tr>\n",
       "      <th>2</th>\n",
       "      <td>44494</td>\n",
       "      <td>60</td>\n",
       "      <td>5.628484</td>\n",
       "      <td>Nc1n[nH]c2nc(-c3ccc(NS(=O)(=O)c4cc(Cl)ccc4Cl)c...</td>\n",
       "      <td>-11.868353</td>\n",
       "      <td>14012</td>\n",
       "      <td>0.271318</td>\n",
       "      <td>13852678</td>\n",
       "      <td>O00141</td>\n",
       "      <td>0.78</td>\n",
       "      <td>1.382647</td>\n",
       "      <td>0</td>\n",
       "      <td>5.666315</td>\n",
       "      <td>4.376751</td>\n",
       "      <td>0.037831</td>\n",
       "    </tr>\n",
       "    <tr>\n",
       "      <th>3</th>\n",
       "      <td>44494</td>\n",
       "      <td>61</td>\n",
       "      <td>5.688464</td>\n",
       "      <td>Nc1n[nH]c2nc(-c3ccc(NS(=O)(=O)c4cc(Cl)ccc4Cl)c...</td>\n",
       "      <td>-11.868353</td>\n",
       "      <td>14012</td>\n",
       "      <td>0.271318</td>\n",
       "      <td>13852678</td>\n",
       "      <td>O00141</td>\n",
       "      <td>0.78</td>\n",
       "      <td>1.382647</td>\n",
       "      <td>0</td>\n",
       "      <td>5.666315</td>\n",
       "      <td>4.376751</td>\n",
       "      <td>-0.022149</td>\n",
       "    </tr>\n",
       "    <tr>\n",
       "      <th>4</th>\n",
       "      <td>44494</td>\n",
       "      <td>25</td>\n",
       "      <td>5.675944</td>\n",
       "      <td>Nc1n[nH]c2nc(-c3ccc(NS(=O)(=O)c4cc(Cl)ccc4Cl)c...</td>\n",
       "      <td>-11.868353</td>\n",
       "      <td>14012</td>\n",
       "      <td>0.271318</td>\n",
       "      <td>13852678</td>\n",
       "      <td>O00141</td>\n",
       "      <td>0.78</td>\n",
       "      <td>1.382647</td>\n",
       "      <td>0</td>\n",
       "      <td>5.666315</td>\n",
       "      <td>4.376751</td>\n",
       "      <td>-0.009629</td>\n",
       "    </tr>\n",
       "  </tbody>\n",
       "</table>\n",
       "</div>"
      ],
      "text/plain": [
       "   ident  masked_residue  masked_pred  \\\n",
       "0  44494              72     5.676785   \n",
       "1  44494              71     5.657371   \n",
       "2  44494              60     5.628484   \n",
       "3  44494              61     5.688464   \n",
       "4  44494              25     5.675944   \n",
       "\n",
       "                compound_structures.canonical_smiles  docking.chemgauss_score  \\\n",
       "0  Nc1n[nH]c2nc(-c3ccc(NS(=O)(=O)c4cc(Cl)ccc4Cl)c...               -11.868353   \n",
       "1  Nc1n[nH]c2nc(-c3ccc(NS(=O)(=O)c4cc(Cl)ccc4Cl)c...               -11.868353   \n",
       "2  Nc1n[nH]c2nc(-c3ccc(NS(=O)(=O)c4cc(Cl)ccc4Cl)c...               -11.868353   \n",
       "3  Nc1n[nH]c2nc(-c3ccc(NS(=O)(=O)c4cc(Cl)ccc4Cl)c...               -11.868353   \n",
       "4  Nc1n[nH]c2nc(-c3ccc(NS(=O)(=O)c4cc(Cl)ccc4Cl)c...               -11.868353   \n",
       "\n",
       "   similar.klifs_structure_id  similar.fp_similarity  activities.activity_id  \\\n",
       "0                       14012               0.271318                13852678   \n",
       "1                       14012               0.271318                13852678   \n",
       "2                       14012               0.271318                13852678   \n",
       "3                       14012               0.271318                13852678   \n",
       "4                       14012               0.271318                13852678   \n",
       "\n",
       "  UniprotID  docking.posit_probability  docking.predicted_rmsd  index  \\\n",
       "0    O00141                       0.78                1.382647      0   \n",
       "1    O00141                       0.78                1.382647      0   \n",
       "2    O00141                       0.78                1.382647      0   \n",
       "3    O00141                       0.78                1.382647      0   \n",
       "4    O00141                       0.78                1.382647      0   \n",
       "\n",
       "   reference_pred    target     delta  \n",
       "0        5.666315  4.376751 -0.010470  \n",
       "1        5.666315  4.376751  0.008944  \n",
       "2        5.666315  4.376751  0.037831  \n",
       "3        5.666315  4.376751 -0.022149  \n",
       "4        5.666315  4.376751 -0.009629  "
      ]
     },
     "execution_count": 4,
     "metadata": {},
     "output_type": "execute_result"
    }
   ],
   "source": [
    "res_elim = pd.read_csv('../data/snack_box.csv', index_col=0)\n",
    "res_elim['delta'] = res_elim['reference_pred'] - res_elim['masked_pred']\n",
    "res_elim.head()"
   ]
  },
  {
   "cell_type": "code",
   "execution_count": 5,
   "id": "7daa3714-8993-4180-9de9-3c2284964a89",
   "metadata": {},
   "outputs": [
    {
     "name": "stderr",
     "output_type": "stream",
     "text": [
      "100%|███████████████████████████████████████| 2232/2232 [00:23<00:00, 95.31it/s]\n"
     ]
    }
   ],
   "source": [
    "pocketfile = lambda ident: f'../data/raw/mol2/pocket/{df.loc[ident][\"similar.klifs_structure_id\"]}_pocket.mol2'\n",
    "pockets = []\n",
    "for ident in tqdm.tqdm(res_elim['similar.klifs_structure_id'].unique()):\n",
    "    # struc_id = res_elim.set_index('ident').loc[ident].iloc[0][\"similar.klifs_structure_id\"]\n",
    "    pocket_df = read_klifs_mol2(f'../data/raw/mol2/pocket/{ident}_pocket.mol2', with_bonds=False)\n",
    "    non_hydrogen = pocket_df[\"atom.type\"] != \"H\"\n",
    "    pocket_df = pocket_df[non_hydrogen].reset_index()\n",
    "    pocket_df[\"atom_id\"] = pocket_df.index\n",
    "    pocket_df[\"similar.klifs_structure_id\"] = ident\n",
    "    pockets.append(pocket_df)\n",
    "pockets = pd.concat(pockets)"
   ]
  },
  {
   "cell_type": "code",
   "execution_count": 6,
   "id": "7d1e726f-b3f1-43d4-8bd0-44c0051df9f9",
   "metadata": {},
   "outputs": [],
   "source": [
    "# pockets.to_csv('pockets.csv', index=False\n",
    "pockets = pd.read_csv('pockets.csv', index_col=False)"
   ]
  },
  {
   "cell_type": "code",
   "execution_count": 7,
   "id": "4971bf8e-b2b7-44e5-96af-224357e3b998",
   "metadata": {},
   "outputs": [],
   "source": [
    "kd = PandasTools.LoadSDF('../data/raw/kinodata_docked_v2.sdf.gz')"
   ]
  },
  {
   "cell_type": "code",
   "execution_count": 8,
   "id": "df22d23b-6570-4c6d-99e4-a9f7835b176d",
   "metadata": {},
   "outputs": [],
   "source": [
    "kd = kd.astype({'activities.activity_id': int})\n",
    "kd.set_index('activities.activity_id', inplace=True)"
   ]
  },
  {
   "cell_type": "code",
   "execution_count": 9,
   "id": "2479027a-0767-47ae-8663-96bfcb12d8d5",
   "metadata": {},
   "outputs": [],
   "source": [
    "# res_elim['pl_com_dist'] = np.inf\n",
    "res_elim['pl_min_dist'] = np.nan\n",
    "res_elim['ca_min_dist'] = np.nan"
   ]
  },
  {
   "cell_type": "code",
   "execution_count": 10,
   "id": "2d768680-fb10-4e50-8265-baf71703d7c4",
   "metadata": {},
   "outputs": [
    {
     "data": {
      "text/plain": [
       "<AxesSubplot: >"
      ]
     },
     "execution_count": 10,
     "metadata": {},
     "output_type": "execute_result"
    },
    {
     "data": {
      "image/png": "[encoded data removed]",
      "text/plain": [
       "<Figure size 640x480 with 1 Axes>"
      ]
     },
     "metadata": {},
     "output_type": "display_data"
    }
   ],
   "source": [
    "res_elim['masked_residue'].hist(bins=85)"
   ]
  },
  {
   "cell_type": "code",
   "execution_count": 11,
   "id": "b2e8e365-f096-4926-908c-fd4f306a8075",
   "metadata": {},
   "outputs": [],
   "source": [
    "pockets.set_index('similar.klifs_structure_id', inplace=True)"
   ]
  },
  {
   "cell_type": "code",
   "execution_count": 12,
   "id": "a6a124e6-e702-4ca9-b0db-cc5c77d285b9",
   "metadata": {},
   "outputs": [],
   "source": [
    "def atom_positions(mol):\n",
    "    conf = mol.GetConformer()\n",
    "    positions = np.array([np.array(conf.GetAtomPosition(i)) for i in range(mol.GetNumAtoms())])\n",
    "    return positions"
   ]
  },
  {
   "cell_type": "code",
   "execution_count": 13,
   "id": "52ef7847-7fe3-4214-824d-ddd426dc4445",
   "metadata": {},
   "outputs": [],
   "source": [
    "def min_dist(A, B):\n",
    "    diff = A[:, np.newaxis, :] - B[np.newaxis, :, :]\n",
    "    sq_dists = np.sum(diff ** 2, axis=2)\n",
    "    min_sq_dist = np.min(sq_dists)\n",
    "    return np.sqrt(min_sq_dist)"
   ]
  },
  {
   "cell_type": "code",
   "execution_count": 14,
   "id": "0d3da634-3883-477b-a61d-44ef422dc7c3",
   "metadata": {},
   "outputs": [],
   "source": [
    "res_elim.reset_index(inplace=True)\n",
    "res_elim.set_index(['activities.activity_id', 'masked_residue'], inplace=True)\n",
    "res_elim.sort_index(inplace=True)"
   ]
  },
  {
   "cell_type": "code",
   "execution_count": 15,
   "id": "350bb814-fbea-4b49-9a4c-245429534e90",
   "metadata": {},
   "outputs": [],
   "source": [
    "res_elim['resname'] = ''\n",
    "res_elim['rescode'] = ''"
   ]
  },
  {
   "cell_type": "code",
   "execution_count": 16,
   "id": "02d21039-5cbf-4c54-8a5f-3e17f50e9865",
   "metadata": {},
   "outputs": [],
   "source": [
    "protein_letters_3to1 = {\n",
    "  \"ALA\": \"A\",\n",
    "  \"CYS\": \"C\",\n",
    "  \"ASP\": \"D\",\n",
    "  \"GLU\": \"E\",\n",
    "  \"PHE\": \"F\",\n",
    "  \"GLY\": \"G\",\n",
    "  \"HIS\": \"H\",\n",
    "  \"ILE\": \"I\",\n",
    "  \"LYS\": \"K\",\n",
    "  \"LEU\": \"L\",\n",
    "  \"MET\": \"M\",\n",
    "  \"ASN\": \"N\",\n",
    "  \"PRO\": \"P\",\n",
    "  \"GLN\": \"Q\",\n",
    "  \"ARG\": \"R\",\n",
    "  \"SER\": \"S\",\n",
    "  \"THR\": \"T\",\n",
    "  \"VAL\": \"V\",\n",
    "  \"TRP\": \"W\",\n",
    "  \"TYR\": \"Y\",\n",
    "}"
   ]
  },
  {
   "cell_type": "code",
   "execution_count": 17,
   "id": "97870db1-5478-42db-9ffd-d45ac92ead41",
   "metadata": {},
   "outputs": [],
   "source": [
    "resnames = []"
   ]
  },
  {
   "cell_type": "code",
   "execution_count": 18,
   "id": "26bd3563-e4a6-4c8e-b8db-cb4feb49515e",
   "metadata": {},
   "outputs": [],
   "source": [
    "res_elim['resname'] = -1"
   ]
  },
  {
   "cell_type": "code",
   "execution_count": 19,
   "id": "fd5ff1e0-b46d-4430-809f-680c358af492",
   "metadata": {},
   "outputs": [
    {
     "name": "stderr",
     "output_type": "stream",
     "text": [
      "100%|███████████████████████████████████| 20620/20620 [1:02:23<00:00,  5.51it/s]\n"
     ]
    }
   ],
   "source": [
    "for ident, group in tqdm.tqdm(res_elim.groupby('activities.activity_id'), total=20620):\n",
    "    try:\n",
    "        mol = kd.loc[ident, 'ROMol']\n",
    "    except:\n",
    "        continue\n",
    "\n",
    "    # ligand atom positions\n",
    "    apos = atom_positions(mol)\n",
    "    residues = group.index.get_level_values(1).values\n",
    "    klifs_id = group['similar.klifs_structure_id'].unique()[0]\n",
    "    for resnum, (resid, res_grp) in zip(residues, pockets.loc[klifs_id].groupby('residue.subst_id')):\n",
    "        # residue atom positions\n",
    "        ppos = res_grp[['atom.x', 'atom.y', 'atom.z']].values\n",
    "        capos = res_grp[res_grp['atom.name'] == 'CA'][['atom.x', 'atom.y', 'atom.z']].values\n",
    "        \n",
    "        res_elim.loc[(ident, resnum), 'pl_min_dist'] = min_dist(ppos, apos)\n",
    "        res_elim.loc[(ident, resnum), 'ca_min_dist'] = np.nan if len(capos) == 0 else min_dist(capos, apos)\n",
    "\n",
    "        resname = res_grp.iloc[0]['residue.subst_name'][:3]\n",
    "        if resname not in resnames:\n",
    "            resnames.append(resname)\n",
    "        res_elim.loc[(ident, resnum), 'resname'] = resnames.index(resname)\n",
    "        # res_elim.loc[(ident, resnum), 'resname'] = resname\n",
    "        # res_elim.loc[(ident, resnum), 'rescode'] = protein_letters_3to1.get(resname, 'X')"
   ]
  },
  {
   "cell_type": "code",
   "execution_count": 23,
   "id": "2b40358d-4cb0-4c17-a154-cb48383a5603",
   "metadata": {},
   "outputs": [
    {
     "data": {
      "text/plain": [
       "array(['Nc1ncnc2c1c(-c1cccc(Oc3ccccc3)c1)cn2C1CCCC1',\n",
       "       'Nc1ncnc2c1c(-c1cccc(Oc3ccccc3)c1)cn2C1CCCC1',\n",
       "       'CN(c1ccccc1)c1ncnc2ccc(N/N=N/Cc3ccccn3)cc12',\n",
       "       'CC(=C(C#N)C#N)c1ccc(NC(=O)CCC(=O)O)cc1', 'O=C(O)/C=C/c1ccc(O)cc1',\n",
       "       'N#CC(C#N)=Cc1cc(O)ccc1[N+](=O)[O-]',\n",
       "       'c1ccc(-c2cnc(Nc3ccccn3)o2)cc1',\n",
       "       'COc1cc(/C=C(\\\\C#N)C(=O)O)cc(OC)c1O', 'N#CC(C#N)=Cc1ccc(O)c(O)c1',\n",
       "       'Cc1ccc(Nc2ncc(-c3ccccc3)s2)nc1'], dtype=object)"
      ]
     },
     "execution_count": 23,
     "metadata": {},
     "output_type": "execute_result"
    }
   ],
   "source": [
    "kd['compound_structures.canonical_smiles'].values[:10]"
   ]
  },
  {
   "cell_type": "code",
   "execution_count": 26,
   "id": "5f09cf8b-06f1-472d-b5a6-0fa880ffaccd",
   "metadata": {},
   "outputs": [
    {
     "data": {
      "text/plain": [
       "array([[<AxesSubplot: title={'center': 'pl_min_dist'}>,\n",
       "        <AxesSubplot: title={'center': 'ca_min_dist'}>]], dtype=object)"
      ]
     },
     "execution_count": 26,
     "metadata": {},
     "output_type": "execute_result"
    },
    {
     "data": {
      "image/png": "[encoded data removed]",
      "text/plain": [
       "<Figure size 1400x400 with 2 Axes>"
      ]
     },
     "metadata": {},
     "output_type": "display_data"
    }
   ],
   "source": [
    "res_elim[['pl_min_dist', 'ca_min_dist']].hist(bins=100, figsize=(14,4))"
   ]
  },
  {
   "cell_type": "code",
   "execution_count": 28,
   "id": "4795b360-b497-485b-ae72-73d0f0f373fc",
   "metadata": {},
   "outputs": [
    {
     "data": {
      "text/plain": [
       "['LYS',\n",
       " 'VAL',\n",
       " 'LEU',\n",
       " 'GLY',\n",
       " 'SER',\n",
       " 'ALA',\n",
       " 'PHE',\n",
       " 'THR',\n",
       " 'TYR',\n",
       " 'ILE',\n",
       " 'GLU',\n",
       " 'ASP',\n",
       " 'MET',\n",
       " 'PRO',\n",
       " 'HIS',\n",
       " 'CYS',\n",
       " 'ARG',\n",
       " 'GLN',\n",
       " 'ASN',\n",
       " 'TRP',\n",
       " 'PTR',\n",
       " 'CME',\n",
       " 'CSO',\n",
       " 'MSE',\n",
       " 'PHD',\n",
       " 'CSS',\n",
       " 'CAF',\n",
       " 'SEP',\n",
       " 'CSD']"
      ]
     },
     "execution_count": 28,
     "metadata": {},
     "output_type": "execute_result"
    }
   ],
   "source": [
    "resnames"
   ]
  },
  {
   "cell_type": "code",
   "execution_count": 30,
   "id": "1921e9f5-4968-4385-b26f-d54a4c2b813e",
   "metadata": {},
   "outputs": [],
   "source": [
    "res_elim['resname'] = res_elim['resname'].apply(lambda idx: resnames[idx])"
   ]
  },
  {
   "cell_type": "code",
   "execution_count": 32,
   "id": "788f6478-36f8-42c0-8974-f7f5b69eea7b",
   "metadata": {},
   "outputs": [],
   "source": [
    "res_elim['rescode'] = res_elim['resname'].apply(lambda r: protein_letters_3to1.get(r, 'X'))"
   ]
  },
  {
   "cell_type": "code",
   "execution_count": 35,
   "id": "e5399b6a-b368-4acb-a39c-27aad6bd7d9b",
   "metadata": {},
   "outputs": [],
   "source": [
    "res_elim.reset_index().to_csv('res_elim_new.csv', index=False)"
   ]
  },
  {
   "cell_type": "code",
   "execution_count": null,
   "id": "1a6f3255-585e-4734-9196-61d53c7cf927",
   "metadata": {},
   "outputs": [],
   "source": []
  }
 ],
 "metadata": {
  "kernelspec": {
   "display_name": "Python 3 (ipykernel)",
   "language": "python",
   "name": "python3"
  },
  "language_info": {
   "codemirror_mode": {
    "name": "ipython",
    "version": 3
   },
   "file_extension": ".py",
   "mimetype": "text/x-python",
   "name": "python",
   "nbconvert_exporter": "python",
   "pygments_lexer": "ipython3",
   "version": "3.10.8"
  }
 },
 "nbformat": 4,
 "nbformat_minor": 5
}
