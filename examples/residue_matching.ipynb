{
 "cells": [
  {
   "cell_type": "code",
   "execution_count": 1,
   "metadata": {},
   "outputs": [
    {
     "name": "stderr",
     "output_type": "stream",
     "text": [
      "/Users/joschka/mambaforge/envs/kinodata/lib/python3.10/site-packages/tqdm/auto.py:22: TqdmWarning: IProgress not found. Please update jupyter and ipywidgets. See https://ipywidgets.readthedocs.io/en/stable/user_install.html\n",
      "  from .autonotebook import tqdm as notebook_tqdm\n"
     ]
    },
    {
     "name": "stdout",
     "output_type": "stream",
     "text": [
      "W&B disabled.\n"
     ]
    }
   ],
   "source": [
    "import kinodata\n",
    "from kinodata.data import KinodataDocked, Filtered\n",
    "from kinodata.data.data_module import create_dataset\n",
    "from kinodata.data.grouped_split import KinodataKFoldSplit\n",
    "from kinodata.transform import TransformToComplexGraph, FilterDockingRMSD\n",
    "from kinodata.types import *\n",
    "\n",
    "\n",
    "import json\n",
    "from pathlib import Path\n",
    "from typing import Any\n",
    "\n",
    "import torch\n",
    "\n",
    "import kinodata.configuration as cfg\n",
    "from kinodata.model import ComplexTransformer, DTIModel, RegressionModel\n",
    "from kinodata.model.complex_transformer import make_model as make_complex_transformer\n",
    "from kinodata.model.dti import make_model as make_dti_baseline\n",
    "from kinodata.data.data_module import make_kinodata_module\n",
    "from kinodata.transform import TransformToComplexGraph\n",
    "\n",
    "import matplotlib.pyplot as plt\n",
    "import seaborn as sns\n",
    "\n",
    "import pandas as pd\n",
    "import tqdm\n",
    "\n",
    "!wandb disabled"
   ]
  },
  {
   "cell_type": "code",
   "execution_count": 2,
   "metadata": {},
   "outputs": [],
   "source": [
    "data = KinodataDocked()"
   ]
  },
  {
   "cell_type": "code",
   "execution_count": 3,
   "metadata": {},
   "outputs": [
    {
     "data": {
      "text/plain": [
       "HeteroData(\n",
       "  y=[1],\n",
       "  docking_score=[1],\n",
       "  posit_prob=[1],\n",
       "  predicted_rmsd=[1],\n",
       "  pocket_sequence='KPLGRGAFGQVIEVAVKMLALMSELKILIHIGLNVVNLLGAMVIVEFCKFGNLSTYLRSFLASRKCIHRDLAARNILLICDFGLA',\n",
       "  scaffold='C1CCC(CC2CCCC(C3CC(C4CCCC4)C4CCCCC34)C2)CC1',\n",
       "  activity_type='pIC50',\n",
       "  ident=[1],\n",
       "  smiles='Nc1ncnc2c1c(-c1cccc(Oc3ccccc3)c1)cn2C1CCCC1',\n",
       "  \u001b[1mligand\u001b[0m={\n",
       "    z=[28],\n",
       "    x=[28, 12],\n",
       "    pos=[28, 3]\n",
       "  },\n",
       "  \u001b[1mpocket\u001b[0m={\n",
       "    z=[652],\n",
       "    x=[652, 12],\n",
       "    pos=[652, 3]\n",
       "  },\n",
       "  \u001b[1mpocket_residue\u001b[0m={ x=[85, 23] },\n",
       "  \u001b[1m(ligand, bond, ligand)\u001b[0m={\n",
       "    edge_index=[2, 64],\n",
       "    edge_attr=[64, 4]\n",
       "  },\n",
       "  \u001b[1m(pocket, bond, pocket)\u001b[0m={\n",
       "    edge_index=[2, 1308],\n",
       "    edge_attr=[1308, 4]\n",
       "  }\n",
       ")"
      ]
     },
     "execution_count": 3,
     "metadata": {},
     "output_type": "execute_result"
    }
   ],
   "source": [
    "data[0]"
   ]
  },
  {
   "cell_type": "code",
   "execution_count": 4,
   "metadata": {},
   "outputs": [
    {
     "name": "stdout",
     "output_type": "stream",
     "text": [
      "Reading data frame from /Users/joschka/projects/kinodata-3D-affinity-prediction/data/raw/kinodata_docked_v2.sdf.gz...\n",
      "Deduping data frame (current size: 121913)...\n",
      "119713 complexes remain after deduplication.\n",
      "Checking for missing pocket mol2 files...\n"
     ]
    },
    {
     "name": "stderr",
     "output_type": "stream",
     "text": [
      "100%|██████████| 3244/3244 [00:00<00:00, 17458.87it/s]\n"
     ]
    },
    {
     "name": "stdout",
     "output_type": "stream",
     "text": [
      "Adding pocket sequences...\n",
      "(119713, 25)\n"
     ]
    },
    {
     "name": "stderr",
     "output_type": "stream",
     "text": [
      "100%|██████████| 119713/119713 [00:00<00:00, 2088064.59it/s]\n"
     ]
    },
    {
     "name": "stdout",
     "output_type": "stream",
     "text": [
      "Exiting with 3552 cached sequences.\n",
      "(119713, 26)\n"
     ]
    }
   ],
   "source": [
    "df = data.df"
   ]
  },
  {
   "cell_type": "code",
   "execution_count": 6,
   "metadata": {},
   "outputs": [],
   "source": [
    "from kinodata.data.io.read_klifs_mol2 import read_klifs_mol2"
   ]
  },
  {
   "cell_type": "code",
   "execution_count": 11,
   "metadata": {},
   "outputs": [],
   "source": [
    "pocket = df[df[\"ident\"] == data[0].ident.item()][\"pocket_mol2_file\"].values[0]"
   ]
  },
  {
   "cell_type": "code",
   "execution_count": 15,
   "metadata": {},
   "outputs": [
    {
     "data": {
      "text/plain": [
       "HeteroData(\n",
       "  y=[1],\n",
       "  docking_score=[1],\n",
       "  posit_prob=[1],\n",
       "  predicted_rmsd=[1],\n",
       "  pocket_sequence='KPLGRGAFGQVIEVAVKMLALMSELKILIHIGLNVVNLLGAMVIVEFCKFGNLSTYLRSFLASRKCIHRDLAARNILLICDFGLA',\n",
       "  scaffold='C1CCC(CC2CCCC(C3CC(C4CCCC4)C4CCCCC34)C2)CC1',\n",
       "  activity_type='pIC50',\n",
       "  ident=[1],\n",
       "  smiles='Nc1ncnc2c1c(-c1cccc(Oc3ccccc3)c1)cn2C1CCCC1',\n",
       "  \u001b[1mligand\u001b[0m={\n",
       "    z=[28],\n",
       "    x=[28, 12],\n",
       "    pos=[28, 3]\n",
       "  },\n",
       "  \u001b[1mpocket\u001b[0m={\n",
       "    z=[652],\n",
       "    x=[652, 12],\n",
       "    pos=[652, 3]\n",
       "  },\n",
       "  \u001b[1mpocket_residue\u001b[0m={ x=[85, 23] },\n",
       "  \u001b[1m(ligand, bond, ligand)\u001b[0m={\n",
       "    edge_index=[2, 64],\n",
       "    edge_attr=[64, 4]\n",
       "  },\n",
       "  \u001b[1m(pocket, bond, pocket)\u001b[0m={\n",
       "    edge_index=[2, 1308],\n",
       "    edge_attr=[1308, 4]\n",
       "  }\n",
       ")"
      ]
     },
     "execution_count": 15,
     "metadata": {},
     "output_type": "execute_result"
    }
   ],
   "source": [
    "data[0]"
   ]
  },
  {
   "cell_type": "code",
   "execution_count": 18,
   "metadata": {},
   "outputs": [
    {
     "data": {
      "text/html": [
       "<div>\n",
       "<style scoped>\n",
       "    .dataframe tbody tr th:only-of-type {\n",
       "        vertical-align: middle;\n",
       "    }\n",
       "\n",
       "    .dataframe tbody tr th {\n",
       "        vertical-align: top;\n",
       "    }\n",
       "\n",
       "    .dataframe thead th {\n",
       "        text-align: right;\n",
       "    }\n",
       "</style>\n",
       "<table border=\"1\" class=\"dataframe\">\n",
       "  <thead>\n",
       "    <tr style=\"text-align: right;\">\n",
       "      <th></th>\n",
       "      <th>atom.id</th>\n",
       "      <th>atom.name</th>\n",
       "      <th>atom.x</th>\n",
       "      <th>atom.y</th>\n",
       "      <th>atom.z</th>\n",
       "      <th>atom.type</th>\n",
       "      <th>residue.subst_id</th>\n",
       "      <th>residue.subst_name</th>\n",
       "      <th>atom.charge</th>\n",
       "      <th>atom.status_bit</th>\n",
       "    </tr>\n",
       "  </thead>\n",
       "  <tbody>\n",
       "    <tr>\n",
       "      <th>0</th>\n",
       "      <td>1</td>\n",
       "      <td>N</td>\n",
       "      <td>9.5601</td>\n",
       "      <td>17.745001</td>\n",
       "      <td>49.130402</td>\n",
       "      <td>N.3</td>\n",
       "      <td>1</td>\n",
       "      <td>LYS838</td>\n",
       "      <td>0.00</td>\n",
       "      <td>BACKBONE</td>\n",
       "    </tr>\n",
       "    <tr>\n",
       "      <th>1</th>\n",
       "      <td>2</td>\n",
       "      <td>H</td>\n",
       "      <td>8.8146</td>\n",
       "      <td>18.065201</td>\n",
       "      <td>49.731800</td>\n",
       "      <td>H</td>\n",
       "      <td>1</td>\n",
       "      <td>LYS838</td>\n",
       "      <td>0.00</td>\n",
       "      <td>BACKBONE</td>\n",
       "    </tr>\n",
       "    <tr>\n",
       "      <th>2</th>\n",
       "      <td>3</td>\n",
       "      <td>CA</td>\n",
       "      <td>9.4738</td>\n",
       "      <td>16.413900</td>\n",
       "      <td>48.548000</td>\n",
       "      <td>C.3</td>\n",
       "      <td>1</td>\n",
       "      <td>LYS838</td>\n",
       "      <td>0.00</td>\n",
       "      <td>BACKBONE</td>\n",
       "    </tr>\n",
       "    <tr>\n",
       "      <th>3</th>\n",
       "      <td>4</td>\n",
       "      <td>HA</td>\n",
       "      <td>10.4599</td>\n",
       "      <td>15.951400</td>\n",
       "      <td>48.590099</td>\n",
       "      <td>H</td>\n",
       "      <td>1</td>\n",
       "      <td>LYS838</td>\n",
       "      <td>0.00</td>\n",
       "      <td>BACKBONE</td>\n",
       "    </tr>\n",
       "    <tr>\n",
       "      <th>4</th>\n",
       "      <td>5</td>\n",
       "      <td>C</td>\n",
       "      <td>9.0894</td>\n",
       "      <td>16.442699</td>\n",
       "      <td>47.070202</td>\n",
       "      <td>C.2</td>\n",
       "      <td>1</td>\n",
       "      <td>LYS838</td>\n",
       "      <td>0.00</td>\n",
       "      <td>BACKBONE</td>\n",
       "    </tr>\n",
       "    <tr>\n",
       "      <th>...</th>\n",
       "      <td>...</td>\n",
       "      <td>...</td>\n",
       "      <td>...</td>\n",
       "      <td>...</td>\n",
       "      <td>...</td>\n",
       "      <td>...</td>\n",
       "      <td>...</td>\n",
       "      <td>...</td>\n",
       "      <td>...</td>\n",
       "      <td>...</td>\n",
       "    </tr>\n",
       "    <tr>\n",
       "      <th>1358</th>\n",
       "      <td>1359</td>\n",
       "      <td>O</td>\n",
       "      <td>5.8970</td>\n",
       "      <td>23.331900</td>\n",
       "      <td>25.846500</td>\n",
       "      <td>O.2</td>\n",
       "      <td>85</td>\n",
       "      <td>ALA1050</td>\n",
       "      <td>-0.57</td>\n",
       "      <td>BACKBONE</td>\n",
       "    </tr>\n",
       "    <tr>\n",
       "      <th>1359</th>\n",
       "      <td>1360</td>\n",
       "      <td>CB</td>\n",
       "      <td>4.0712</td>\n",
       "      <td>22.360201</td>\n",
       "      <td>27.595400</td>\n",
       "      <td>C.3</td>\n",
       "      <td>85</td>\n",
       "      <td>ALA1050</td>\n",
       "      <td>-0.24</td>\n",
       "      <td>&lt;NA&gt;</td>\n",
       "    </tr>\n",
       "    <tr>\n",
       "      <th>1360</th>\n",
       "      <td>1361</td>\n",
       "      <td>HB1</td>\n",
       "      <td>4.4936</td>\n",
       "      <td>23.259001</td>\n",
       "      <td>28.044600</td>\n",
       "      <td>H</td>\n",
       "      <td>85</td>\n",
       "      <td>ALA1050</td>\n",
       "      <td>0.08</td>\n",
       "      <td>&lt;NA&gt;</td>\n",
       "    </tr>\n",
       "    <tr>\n",
       "      <th>1361</th>\n",
       "      <td>1362</td>\n",
       "      <td>HB2</td>\n",
       "      <td>3.4488</td>\n",
       "      <td>21.846100</td>\n",
       "      <td>28.327801</td>\n",
       "      <td>H</td>\n",
       "      <td>85</td>\n",
       "      <td>ALA1050</td>\n",
       "      <td>0.08</td>\n",
       "      <td>&lt;NA&gt;</td>\n",
       "    </tr>\n",
       "    <tr>\n",
       "      <th>1362</th>\n",
       "      <td>1363</td>\n",
       "      <td>HB3</td>\n",
       "      <td>3.4646</td>\n",
       "      <td>22.635799</td>\n",
       "      <td>26.732800</td>\n",
       "      <td>H</td>\n",
       "      <td>85</td>\n",
       "      <td>ALA1050</td>\n",
       "      <td>0.08</td>\n",
       "      <td>&lt;NA&gt;</td>\n",
       "    </tr>\n",
       "  </tbody>\n",
       "</table>\n",
       "<p>1363 rows × 10 columns</p>\n",
       "</div>"
      ],
      "text/plain": [
       "      atom.id atom.name   atom.x     atom.y     atom.z atom.type  \\\n",
       "0           1         N   9.5601  17.745001  49.130402       N.3   \n",
       "1           2         H   8.8146  18.065201  49.731800         H   \n",
       "2           3        CA   9.4738  16.413900  48.548000       C.3   \n",
       "3           4        HA  10.4599  15.951400  48.590099         H   \n",
       "4           5         C   9.0894  16.442699  47.070202       C.2   \n",
       "...       ...       ...      ...        ...        ...       ...   \n",
       "1358     1359         O   5.8970  23.331900  25.846500       O.2   \n",
       "1359     1360        CB   4.0712  22.360201  27.595400       C.3   \n",
       "1360     1361       HB1   4.4936  23.259001  28.044600         H   \n",
       "1361     1362       HB2   3.4488  21.846100  28.327801         H   \n",
       "1362     1363       HB3   3.4646  22.635799  26.732800         H   \n",
       "\n",
       "      residue.subst_id residue.subst_name  atom.charge atom.status_bit  \n",
       "0                    1             LYS838         0.00        BACKBONE  \n",
       "1                    1             LYS838         0.00        BACKBONE  \n",
       "2                    1             LYS838         0.00        BACKBONE  \n",
       "3                    1             LYS838         0.00        BACKBONE  \n",
       "4                    1             LYS838         0.00        BACKBONE  \n",
       "...                ...                ...          ...             ...  \n",
       "1358                85            ALA1050        -0.57        BACKBONE  \n",
       "1359                85            ALA1050        -0.24            <NA>  \n",
       "1360                85            ALA1050         0.08            <NA>  \n",
       "1361                85            ALA1050         0.08            <NA>  \n",
       "1362                85            ALA1050         0.08            <NA>  \n",
       "\n",
       "[1363 rows x 10 columns]"
      ]
     },
     "execution_count": 18,
     "metadata": {},
     "output_type": "execute_result"
    }
   ],
   "source": [
    "pocket_df = read_klifs_mol2(pocket, with_bonds=False)\n",
    "pocket_df"
   ]
  },
  {
   "cell_type": "code",
   "execution_count": 21,
   "metadata": {},
   "outputs": [],
   "source": [
    "non_hydrogen = pocket_df[\"atom.type\"] != \"H\""
   ]
  },
  {
   "cell_type": "code",
   "execution_count": 28,
   "metadata": {},
   "outputs": [
    {
     "data": {
      "text/html": [
       "<div>\n",
       "<style scoped>\n",
       "    .dataframe tbody tr th:only-of-type {\n",
       "        vertical-align: middle;\n",
       "    }\n",
       "\n",
       "    .dataframe tbody tr th {\n",
       "        vertical-align: top;\n",
       "    }\n",
       "\n",
       "    .dataframe thead th {\n",
       "        text-align: right;\n",
       "    }\n",
       "</style>\n",
       "<table border=\"1\" class=\"dataframe\">\n",
       "  <thead>\n",
       "    <tr style=\"text-align: right;\">\n",
       "      <th></th>\n",
       "      <th>atom.x</th>\n",
       "      <th>atom.y</th>\n",
       "      <th>atom.z</th>\n",
       "    </tr>\n",
       "  </thead>\n",
       "  <tbody>\n",
       "    <tr>\n",
       "      <th>0</th>\n",
       "      <td>9.5601</td>\n",
       "      <td>17.745001</td>\n",
       "      <td>49.130402</td>\n",
       "    </tr>\n",
       "    <tr>\n",
       "      <th>2</th>\n",
       "      <td>9.4738</td>\n",
       "      <td>16.413900</td>\n",
       "      <td>48.548000</td>\n",
       "    </tr>\n",
       "    <tr>\n",
       "      <th>4</th>\n",
       "      <td>9.0894</td>\n",
       "      <td>16.442699</td>\n",
       "      <td>47.070202</td>\n",
       "    </tr>\n",
       "    <tr>\n",
       "      <th>5</th>\n",
       "      <td>8.3816</td>\n",
       "      <td>17.337900</td>\n",
       "      <td>46.612099</td>\n",
       "    </tr>\n",
       "    <tr>\n",
       "      <th>6</th>\n",
       "      <td>8.4672</td>\n",
       "      <td>15.594100</td>\n",
       "      <td>49.362000</td>\n",
       "    </tr>\n",
       "    <tr>\n",
       "      <th>...</th>\n",
       "      <td>...</td>\n",
       "      <td>...</td>\n",
       "      <td>...</td>\n",
       "    </tr>\n",
       "    <tr>\n",
       "      <th>1352</th>\n",
       "      <td>5.9957</td>\n",
       "      <td>21.020500</td>\n",
       "      <td>28.309299</td>\n",
       "    </tr>\n",
       "    <tr>\n",
       "      <th>1354</th>\n",
       "      <td>5.2053</td>\n",
       "      <td>21.431801</td>\n",
       "      <td>27.146999</td>\n",
       "    </tr>\n",
       "    <tr>\n",
       "      <th>1356</th>\n",
       "      <td>6.0524</td>\n",
       "      <td>22.129400</td>\n",
       "      <td>26.084000</td>\n",
       "    </tr>\n",
       "    <tr>\n",
       "      <th>1358</th>\n",
       "      <td>5.8970</td>\n",
       "      <td>23.331900</td>\n",
       "      <td>25.846500</td>\n",
       "    </tr>\n",
       "    <tr>\n",
       "      <th>1359</th>\n",
       "      <td>4.0712</td>\n",
       "      <td>22.360201</td>\n",
       "      <td>27.595400</td>\n",
       "    </tr>\n",
       "  </tbody>\n",
       "</table>\n",
       "<p>652 rows × 3 columns</p>\n",
       "</div>"
      ],
      "text/plain": [
       "      atom.x     atom.y     atom.z\n",
       "0     9.5601  17.745001  49.130402\n",
       "2     9.4738  16.413900  48.548000\n",
       "4     9.0894  16.442699  47.070202\n",
       "5     8.3816  17.337900  46.612099\n",
       "6     8.4672  15.594100  49.362000\n",
       "...      ...        ...        ...\n",
       "1352  5.9957  21.020500  28.309299\n",
       "1354  5.2053  21.431801  27.146999\n",
       "1356  6.0524  22.129400  26.084000\n",
       "1358  5.8970  23.331900  25.846500\n",
       "1359  4.0712  22.360201  27.595400\n",
       "\n",
       "[652 rows x 3 columns]"
      ]
     },
     "execution_count": 28,
     "metadata": {},
     "output_type": "execute_result"
    }
   ],
   "source": [
    "pocket_df[non_hydrogen][[\"atom.x\", \"atom.y\", \"atom.z\"]]"
   ]
  },
  {
   "cell_type": "code",
   "execution_count": 30,
   "metadata": {},
   "outputs": [
    {
     "data": {
      "text/plain": [
       "torch.Size([652, 3])"
      ]
     },
     "execution_count": 30,
     "metadata": {},
     "output_type": "execute_result"
    }
   ],
   "source": [
    "data[0][\"pocket\"].pos.shape"
   ]
  },
  {
   "cell_type": "code",
   "execution_count": 29,
   "metadata": {},
   "outputs": [
    {
     "data": {
      "text/plain": [
       "tensor([[ 9.5601, 17.7450, 49.1304],\n",
       "        [ 9.4738, 16.4139, 48.5480],\n",
       "        [ 9.0894, 16.4427, 47.0702],\n",
       "        ...,\n",
       "        [ 6.0524, 22.1294, 26.0840],\n",
       "        [ 5.8970, 23.3319, 25.8465],\n",
       "        [ 4.0712, 22.3602, 27.5954]])"
      ]
     },
     "execution_count": 29,
     "metadata": {},
     "output_type": "execute_result"
    }
   ],
   "source": [
    "data[0][\"pocket\"].pos"
   ]
  }
 ],
 "metadata": {
  "kernelspec": {
   "display_name": "Python 3.10.8 ('kinodata')",
   "language": "python",
   "name": "python3"
  },
  "language_info": {
   "codemirror_mode": {
    "name": "ipython",
    "version": 3
   },
   "file_extension": ".py",
   "mimetype": "text/x-python",
   "name": "python",
   "nbconvert_exporter": "python",
   "pygments_lexer": "ipython3",
   "version": "3.10.8"
  },
  "orig_nbformat": 4,
  "vscode": {
   "interpreter": {
    "hash": "528a87b2665604848835e963d9b59f6a2ef408edd78da891397a1684bf62ca9e"
   }
  }
 },
 "nbformat": 4,
 "nbformat_minor": 2
}
