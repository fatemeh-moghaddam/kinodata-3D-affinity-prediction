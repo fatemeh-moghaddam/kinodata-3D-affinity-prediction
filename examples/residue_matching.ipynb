{
 "cells": [
  {
   "cell_type": "code",
   "execution_count": 5,
   "metadata": {},
   "outputs": [
    {
     "name": "stdout",
     "output_type": "stream",
     "text": [
      "W&B disabled.\n"
     ]
    }
   ],
   "source": [
    "import kinodata\n",
    "from kinodata.data import KinodataDocked, Filtered\n",
    "from kinodata.data.data_module import create_dataset\n",
    "from kinodata.data.grouped_split import KinodataKFoldSplit\n",
    "from kinodata.transform import TransformToComplexGraph, FilterDockingRMSD\n",
    "from kinodata.types import *\n",
    "\n",
    "\n",
    "import json\n",
    "from pathlib import Path\n",
    "from typing import Any\n",
    "\n",
    "import torch\n",
    "\n",
    "import kinodata.configuration as cfg\n",
    "from kinodata.model import ComplexTransformer, DTIModel, RegressionModel\n",
    "from kinodata.model.complex_transformer import make_model as make_complex_transformer\n",
    "from kinodata.model.dti import make_model as make_dti_baseline\n",
    "from kinodata.data.data_module import make_kinodata_module\n",
    "from kinodata.transform import TransformToComplexGraph\n",
    "\n",
    "import matplotlib.pyplot as plt\n",
    "import seaborn as sns\n",
    "\n",
    "import pandas as pd\n",
    "import tqdm\n",
    "\n",
    "!wandb disabled"
   ]
  },
  {
   "cell_type": "markdown",
   "metadata": {},
   "source": [
    "### Grab some example complex data object"
   ]
  },
  {
   "cell_type": "code",
   "execution_count": 6,
   "metadata": {},
   "outputs": [],
   "source": [
    "dataset = KinodataDocked()"
   ]
  },
  {
   "cell_type": "code",
   "execution_count": 7,
   "metadata": {},
   "outputs": [],
   "source": [
    "demo_data = dataset[123]"
   ]
  },
  {
   "cell_type": "markdown",
   "metadata": {},
   "source": [
    "### Get pocket mol2 file for data object and read it"
   ]
  },
  {
   "cell_type": "code",
   "execution_count": 8,
   "metadata": {},
   "outputs": [
    {
     "name": "stdout",
     "output_type": "stream",
     "text": [
      "Reading data frame from /Users/joschka/projects/kinodata-3D-affinity-prediction/data/raw/kinodata_docked_v2.sdf.gz...\n",
      "Deduping data frame (current size: 121913)...\n",
      "119713 complexes remain after deduplication.\n",
      "Checking for missing pocket mol2 files...\n"
     ]
    },
    {
     "name": "stderr",
     "output_type": "stream",
     "text": [
      "100%|██████████| 3244/3244 [00:00<00:00, 18190.90it/s]\n"
     ]
    },
    {
     "name": "stdout",
     "output_type": "stream",
     "text": [
      "Adding pocket sequences...\n",
      "(119713, 25)\n"
     ]
    },
    {
     "name": "stderr",
     "output_type": "stream",
     "text": [
      "100%|██████████| 119713/119713 [00:00<00:00, 2107362.00it/s]\n"
     ]
    },
    {
     "name": "stdout",
     "output_type": "stream",
     "text": [
      "Exiting with 3552 cached sequences.\n",
      "(119713, 26)\n"
     ]
    }
   ],
   "source": [
    "# for access to mol2 file via ident \n",
    "df = dataset.df"
   ]
  },
  {
   "cell_type": "code",
   "execution_count": 9,
   "metadata": {},
   "outputs": [
    {
     "data": {
      "text/html": [
       "<div>\n",
       "<style scoped>\n",
       "    .dataframe tbody tr th:only-of-type {\n",
       "        vertical-align: middle;\n",
       "    }\n",
       "\n",
       "    .dataframe tbody tr th {\n",
       "        vertical-align: top;\n",
       "    }\n",
       "\n",
       "    .dataframe thead th {\n",
       "        text-align: right;\n",
       "    }\n",
       "</style>\n",
       "<table border=\"1\" class=\"dataframe\">\n",
       "  <thead>\n",
       "    <tr style=\"text-align: right;\">\n",
       "      <th></th>\n",
       "      <th>atom.id</th>\n",
       "      <th>atom.name</th>\n",
       "      <th>atom.x</th>\n",
       "      <th>atom.y</th>\n",
       "      <th>atom.z</th>\n",
       "      <th>atom.type</th>\n",
       "      <th>residue.subst_id</th>\n",
       "      <th>residue.subst_name</th>\n",
       "      <th>atom.charge</th>\n",
       "      <th>atom.status_bit</th>\n",
       "    </tr>\n",
       "  </thead>\n",
       "  <tbody>\n",
       "    <tr>\n",
       "      <th>0</th>\n",
       "      <td>1</td>\n",
       "      <td>N</td>\n",
       "      <td>5.9749</td>\n",
       "      <td>17.553101</td>\n",
       "      <td>54.301102</td>\n",
       "      <td>N.3</td>\n",
       "      <td>1</td>\n",
       "      <td>ASP828</td>\n",
       "      <td>0.0</td>\n",
       "      <td>BACKBONE</td>\n",
       "    </tr>\n",
       "    <tr>\n",
       "      <th>1</th>\n",
       "      <td>2</td>\n",
       "      <td>H</td>\n",
       "      <td>6.2335</td>\n",
       "      <td>18.182800</td>\n",
       "      <td>53.554901</td>\n",
       "      <td>H</td>\n",
       "      <td>1</td>\n",
       "      <td>ASP828</td>\n",
       "      <td>0.0</td>\n",
       "      <td>BACKBONE</td>\n",
       "    </tr>\n",
       "    <tr>\n",
       "      <th>2</th>\n",
       "      <td>3</td>\n",
       "      <td>CA</td>\n",
       "      <td>5.7827</td>\n",
       "      <td>16.144400</td>\n",
       "      <td>54.006401</td>\n",
       "      <td>C.3</td>\n",
       "      <td>1</td>\n",
       "      <td>ASP828</td>\n",
       "      <td>0.0</td>\n",
       "      <td>BACKBONE</td>\n",
       "    </tr>\n",
       "    <tr>\n",
       "      <th>3</th>\n",
       "      <td>4</td>\n",
       "      <td>HA</td>\n",
       "      <td>6.3715</td>\n",
       "      <td>15.523400</td>\n",
       "      <td>54.681599</td>\n",
       "      <td>H</td>\n",
       "      <td>1</td>\n",
       "      <td>ASP828</td>\n",
       "      <td>0.0</td>\n",
       "      <td>BACKBONE</td>\n",
       "    </tr>\n",
       "    <tr>\n",
       "      <th>4</th>\n",
       "      <td>5</td>\n",
       "      <td>C</td>\n",
       "      <td>6.2202</td>\n",
       "      <td>15.921500</td>\n",
       "      <td>52.568699</td>\n",
       "      <td>C.2</td>\n",
       "      <td>1</td>\n",
       "      <td>ASP828</td>\n",
       "      <td>0.0</td>\n",
       "      <td>BACKBONE</td>\n",
       "    </tr>\n",
       "    <tr>\n",
       "      <th>...</th>\n",
       "      <td>...</td>\n",
       "      <td>...</td>\n",
       "      <td>...</td>\n",
       "      <td>...</td>\n",
       "      <td>...</td>\n",
       "      <td>...</td>\n",
       "      <td>...</td>\n",
       "      <td>...</td>\n",
       "      <td>...</td>\n",
       "      <td>...</td>\n",
       "    </tr>\n",
       "    <tr>\n",
       "      <th>1242</th>\n",
       "      <td>1243</td>\n",
       "      <td>CB</td>\n",
       "      <td>4.3750</td>\n",
       "      <td>20.562901</td>\n",
       "      <td>22.260099</td>\n",
       "      <td>C.3</td>\n",
       "      <td>79</td>\n",
       "      <td>SER986</td>\n",
       "      <td>0.0</td>\n",
       "      <td>&lt;NA&gt;</td>\n",
       "    </tr>\n",
       "    <tr>\n",
       "      <th>1243</th>\n",
       "      <td>1244</td>\n",
       "      <td>HB2</td>\n",
       "      <td>4.8093</td>\n",
       "      <td>20.774599</td>\n",
       "      <td>21.283100</td>\n",
       "      <td>H</td>\n",
       "      <td>79</td>\n",
       "      <td>SER986</td>\n",
       "      <td>0.0</td>\n",
       "      <td>&lt;NA&gt;</td>\n",
       "    </tr>\n",
       "    <tr>\n",
       "      <th>1244</th>\n",
       "      <td>1245</td>\n",
       "      <td>HB3</td>\n",
       "      <td>3.3008</td>\n",
       "      <td>20.410601</td>\n",
       "      <td>22.154900</td>\n",
       "      <td>H</td>\n",
       "      <td>79</td>\n",
       "      <td>SER986</td>\n",
       "      <td>0.0</td>\n",
       "      <td>&lt;NA&gt;</td>\n",
       "    </tr>\n",
       "    <tr>\n",
       "      <th>1245</th>\n",
       "      <td>1246</td>\n",
       "      <td>OG</td>\n",
       "      <td>4.9719</td>\n",
       "      <td>19.396900</td>\n",
       "      <td>22.806101</td>\n",
       "      <td>O.3</td>\n",
       "      <td>79</td>\n",
       "      <td>SER986</td>\n",
       "      <td>0.0</td>\n",
       "      <td>&lt;NA&gt;</td>\n",
       "    </tr>\n",
       "    <tr>\n",
       "      <th>1246</th>\n",
       "      <td>1247</td>\n",
       "      <td>HG</td>\n",
       "      <td>5.9141</td>\n",
       "      <td>19.563200</td>\n",
       "      <td>22.885599</td>\n",
       "      <td>H</td>\n",
       "      <td>79</td>\n",
       "      <td>SER986</td>\n",
       "      <td>0.0</td>\n",
       "      <td>&lt;NA&gt;</td>\n",
       "    </tr>\n",
       "  </tbody>\n",
       "</table>\n",
       "<p>1247 rows × 10 columns</p>\n",
       "</div>"
      ],
      "text/plain": [
       "      atom.id atom.name  atom.x     atom.y     atom.z atom.type  \\\n",
       "0           1         N  5.9749  17.553101  54.301102       N.3   \n",
       "1           2         H  6.2335  18.182800  53.554901         H   \n",
       "2           3        CA  5.7827  16.144400  54.006401       C.3   \n",
       "3           4        HA  6.3715  15.523400  54.681599         H   \n",
       "4           5         C  6.2202  15.921500  52.568699       C.2   \n",
       "...       ...       ...     ...        ...        ...       ...   \n",
       "1242     1243        CB  4.3750  20.562901  22.260099       C.3   \n",
       "1243     1244       HB2  4.8093  20.774599  21.283100         H   \n",
       "1244     1245       HB3  3.3008  20.410601  22.154900         H   \n",
       "1245     1246        OG  4.9719  19.396900  22.806101       O.3   \n",
       "1246     1247        HG  5.9141  19.563200  22.885599         H   \n",
       "\n",
       "      residue.subst_id residue.subst_name  atom.charge atom.status_bit  \n",
       "0                    1             ASP828          0.0        BACKBONE  \n",
       "1                    1             ASP828          0.0        BACKBONE  \n",
       "2                    1             ASP828          0.0        BACKBONE  \n",
       "3                    1             ASP828          0.0        BACKBONE  \n",
       "4                    1             ASP828          0.0        BACKBONE  \n",
       "...                ...                ...          ...             ...  \n",
       "1242                79             SER986          0.0            <NA>  \n",
       "1243                79             SER986          0.0            <NA>  \n",
       "1244                79             SER986          0.0            <NA>  \n",
       "1245                79             SER986          0.0            <NA>  \n",
       "1246                79             SER986          0.0            <NA>  \n",
       "\n",
       "[1247 rows x 10 columns]"
      ]
     },
     "execution_count": 9,
     "metadata": {},
     "output_type": "execute_result"
    }
   ],
   "source": [
    "from kinodata.data.io.read_klifs_mol2 import read_klifs_mol2\n",
    "pocket_file = df[df[\"ident\"] == demo_data.ident.item()][\"pocket_mol2_file\"].values[0]\n",
    "pocket_df = read_klifs_mol2(pocket_file, with_bonds=False)\n",
    "pocket_df"
   ]
  },
  {
   "cell_type": "markdown",
   "metadata": {},
   "source": [
    "#### must remove hydrogens to match complex representation"
   ]
  },
  {
   "cell_type": "code",
   "execution_count": 10,
   "metadata": {},
   "outputs": [],
   "source": [
    "non_hydrogen = pocket_df[\"atom.type\"] != \"H\""
   ]
  },
  {
   "cell_type": "markdown",
   "metadata": {},
   "source": [
    "#### try matching"
   ]
  },
  {
   "cell_type": "code",
   "execution_count": 11,
   "metadata": {},
   "outputs": [
    {
     "data": {
      "text/html": [
       "<div>\n",
       "<style scoped>\n",
       "    .dataframe tbody tr th:only-of-type {\n",
       "        vertical-align: middle;\n",
       "    }\n",
       "\n",
       "    .dataframe tbody tr th {\n",
       "        vertical-align: top;\n",
       "    }\n",
       "\n",
       "    .dataframe thead th {\n",
       "        text-align: right;\n",
       "    }\n",
       "</style>\n",
       "<table border=\"1\" class=\"dataframe\">\n",
       "  <thead>\n",
       "    <tr style=\"text-align: right;\">\n",
       "      <th></th>\n",
       "      <th>atom.x</th>\n",
       "      <th>atom.y</th>\n",
       "      <th>atom.z</th>\n",
       "    </tr>\n",
       "  </thead>\n",
       "  <tbody>\n",
       "    <tr>\n",
       "      <th>0</th>\n",
       "      <td>5.9749</td>\n",
       "      <td>17.553101</td>\n",
       "      <td>54.301102</td>\n",
       "    </tr>\n",
       "    <tr>\n",
       "      <th>2</th>\n",
       "      <td>5.7827</td>\n",
       "      <td>16.144400</td>\n",
       "      <td>54.006401</td>\n",
       "    </tr>\n",
       "    <tr>\n",
       "      <th>4</th>\n",
       "      <td>6.2202</td>\n",
       "      <td>15.921500</td>\n",
       "      <td>52.568699</td>\n",
       "    </tr>\n",
       "    <tr>\n",
       "      <th>5</th>\n",
       "      <td>6.3756</td>\n",
       "      <td>16.881701</td>\n",
       "      <td>51.810699</td>\n",
       "    </tr>\n",
       "    <tr>\n",
       "      <th>6</th>\n",
       "      <td>4.3004</td>\n",
       "      <td>15.748500</td>\n",
       "      <td>54.201900</td>\n",
       "    </tr>\n",
       "    <tr>\n",
       "      <th>...</th>\n",
       "      <td>...</td>\n",
       "      <td>...</td>\n",
       "      <td>...</td>\n",
       "    </tr>\n",
       "    <tr>\n",
       "      <th>1238</th>\n",
       "      <td>4.6357</td>\n",
       "      <td>21.720501</td>\n",
       "      <td>23.194500</td>\n",
       "    </tr>\n",
       "    <tr>\n",
       "      <th>1240</th>\n",
       "      <td>3.8439</td>\n",
       "      <td>22.908701</td>\n",
       "      <td>22.780500</td>\n",
       "    </tr>\n",
       "    <tr>\n",
       "      <th>1241</th>\n",
       "      <td>2.6525</td>\n",
       "      <td>22.967800</td>\n",
       "      <td>23.047199</td>\n",
       "    </tr>\n",
       "    <tr>\n",
       "      <th>1242</th>\n",
       "      <td>4.3750</td>\n",
       "      <td>20.562901</td>\n",
       "      <td>22.260099</td>\n",
       "    </tr>\n",
       "    <tr>\n",
       "      <th>1245</th>\n",
       "      <td>4.9719</td>\n",
       "      <td>19.396900</td>\n",
       "      <td>22.806101</td>\n",
       "    </tr>\n",
       "  </tbody>\n",
       "</table>\n",
       "<p>603 rows × 3 columns</p>\n",
       "</div>"
      ],
      "text/plain": [
       "      atom.x     atom.y     atom.z\n",
       "0     5.9749  17.553101  54.301102\n",
       "2     5.7827  16.144400  54.006401\n",
       "4     6.2202  15.921500  52.568699\n",
       "5     6.3756  16.881701  51.810699\n",
       "6     4.3004  15.748500  54.201900\n",
       "...      ...        ...        ...\n",
       "1238  4.6357  21.720501  23.194500\n",
       "1240  3.8439  22.908701  22.780500\n",
       "1241  2.6525  22.967800  23.047199\n",
       "1242  4.3750  20.562901  22.260099\n",
       "1245  4.9719  19.396900  22.806101\n",
       "\n",
       "[603 rows x 3 columns]"
      ]
     },
     "execution_count": 11,
     "metadata": {},
     "output_type": "execute_result"
    }
   ],
   "source": [
    "pocket_df[non_hydrogen][[\"atom.x\", \"atom.y\", \"atom.z\"]]"
   ]
  },
  {
   "cell_type": "code",
   "execution_count": 14,
   "metadata": {},
   "outputs": [
    {
     "data": {
      "text/plain": [
       "torch.Size([603, 3])"
      ]
     },
     "execution_count": 14,
     "metadata": {},
     "output_type": "execute_result"
    }
   ],
   "source": [
    "demo_data[\"pocket\"].pos.shape"
   ]
  },
  {
   "cell_type": "code",
   "execution_count": 15,
   "metadata": {},
   "outputs": [
    {
     "data": {
      "text/plain": [
       "tensor([[ 5.9749, 17.5531, 54.3011],\n",
       "        [ 5.7827, 16.1444, 54.0064],\n",
       "        [ 6.2202, 15.9215, 52.5687],\n",
       "        ...,\n",
       "        [ 2.6525, 22.9678, 23.0472],\n",
       "        [ 4.3750, 20.5629, 22.2601],\n",
       "        [ 4.9719, 19.3969, 22.8061]])"
      ]
     },
     "execution_count": 15,
     "metadata": {},
     "output_type": "execute_result"
    }
   ],
   "source": [
    "demo_data[\"pocket\"].pos"
   ]
  },
  {
   "cell_type": "code",
   "execution_count": 17,
   "metadata": {},
   "outputs": [
    {
     "data": {
      "text/plain": [
       "array([[ True,  True,  True],\n",
       "       [ True,  True,  True],\n",
       "       [ True,  True,  True],\n",
       "       ...,\n",
       "       [ True,  True,  True],\n",
       "       [ True,  True,  True],\n",
       "       [ True,  True,  True]])"
      ]
     },
     "execution_count": 17,
     "metadata": {},
     "output_type": "execute_result"
    }
   ],
   "source": [
    "# match?\n",
    "pocket_df[non_hydrogen][[\"atom.x\", \"atom.y\", \"atom.z\"]].values == demo_data[\"pocket\"].pos.numpy()"
   ]
  },
  {
   "cell_type": "code",
   "execution_count": null,
   "metadata": {},
   "outputs": [],
   "source": []
  }
 ],
 "metadata": {
  "kernelspec": {
   "display_name": "Python 3.10.8 ('kinodata')",
   "language": "python",
   "name": "python3"
  },
  "language_info": {
   "codemirror_mode": {
    "name": "ipython",
    "version": 3
   },
   "file_extension": ".py",
   "mimetype": "text/x-python",
   "name": "python",
   "nbconvert_exporter": "python",
   "pygments_lexer": "ipython3",
   "version": "3.10.8"
  },
  "orig_nbformat": 4,
  "vscode": {
   "interpreter": {
    "hash": "528a87b2665604848835e963d9b59f6a2ef408edd78da891397a1684bf62ca9e"
   }
  }
 },
 "nbformat": 4,
 "nbformat_minor": 2
}
