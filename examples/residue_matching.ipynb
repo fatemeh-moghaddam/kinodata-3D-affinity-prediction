{
 "cells": [
  {
   "cell_type": "code",
   "execution_count": 65,
   "metadata": {},
   "outputs": [
    {
     "name": "stdout",
     "output_type": "stream",
     "text": [
      "W&B disabled.\n"
     ]
    }
   ],
   "source": [
    "import kinodata\n",
    "from kinodata.data import KinodataDocked, Filtered\n",
    "from kinodata.data.data_module import create_dataset\n",
    "from kinodata.data.grouped_split import KinodataKFoldSplit\n",
    "from kinodata.transform import TransformToComplexGraph, FilterDockingRMSD\n",
    "from kinodata.types import *\n",
    "from kinodata.data.utils.dataset_key import KinodataChemblKey\n",
    "\n",
    "\n",
    "import json\n",
    "from pathlib import Path\n",
    "from typing import Any\n",
    "import requests as req\n",
    "import functools\n",
    "\n",
    "import torch\n",
    "\n",
    "import kinodata.configuration as cfg\n",
    "from kinodata.model import ComplexTransformer, DTIModel, RegressionModel\n",
    "from kinodata.model.complex_transformer import make_model as make_complex_transformer\n",
    "from kinodata.model.dti import make_model as make_dti_baseline\n",
    "from kinodata.data.data_module import make_kinodata_module\n",
    "from kinodata.transform import TransformToComplexGraph\n",
    "\n",
    "import matplotlib.pyplot as plt\n",
    "import seaborn as sns\n",
    "\n",
    "import pandas as pd\n",
    "import numpy as np\n",
    "import tqdm\n",
    "\n",
    "!wandb disabled"
   ]
  },
  {
   "cell_type": "markdown",
   "metadata": {},
   "source": [
    "### Grab some example complex data object"
   ]
  },
  {
   "cell_type": "code",
   "execution_count": 2,
   "metadata": {},
   "outputs": [],
   "source": [
    "dataset = KinodataDocked()"
   ]
  },
  {
   "cell_type": "markdown",
   "metadata": {},
   "source": [
    "### Get pocket mol2 file for data object and read it"
   ]
  },
  {
   "cell_type": "code",
   "execution_count": 3,
   "metadata": {},
   "outputs": [],
   "source": [
    "# for access to mol2 file via ident \n",
    "df = pd.read_csv('../data/raw/kinodata3d_meta.csv', index_col='activities.activity_id')"
   ]
  },
  {
   "cell_type": "code",
   "execution_count": 4,
   "metadata": {},
   "outputs": [],
   "source": [
    "key = KinodataChemblKey(dataset)"
   ]
  },
  {
   "cell_type": "code",
   "execution_count": 5,
   "metadata": {},
   "outputs": [],
   "source": [
    "identaids = pd.read_csv('../data/processed/ident_aids.csv')"
   ]
  },
  {
   "cell_type": "code",
   "execution_count": 6,
   "metadata": {},
   "outputs": [],
   "source": [
    "ident = identaids.set_index('ident').loc[44811]['activities.activity_id']\n",
    "demo_data = dataset[key[ident]]"
   ]
  },
  {
   "cell_type": "code",
   "execution_count": 7,
   "metadata": {},
   "outputs": [],
   "source": [
    "pocketfile = lambda ident: f'../data/raw/mol2/pocket/{df.loc[ident][\"similar.klifs_structure_id\"]}_pocket.mol2'"
   ]
  },
  {
   "cell_type": "code",
   "execution_count": 8,
   "metadata": {},
   "outputs": [
    {
     "data": {
      "text/html": [
       "<div>\n",
       "<style scoped>\n",
       "    .dataframe tbody tr th:only-of-type {\n",
       "        vertical-align: middle;\n",
       "    }\n",
       "\n",
       "    .dataframe tbody tr th {\n",
       "        vertical-align: top;\n",
       "    }\n",
       "\n",
       "    .dataframe thead th {\n",
       "        text-align: right;\n",
       "    }\n",
       "</style>\n",
       "<table border=\"1\" class=\"dataframe\">\n",
       "  <thead>\n",
       "    <tr style=\"text-align: right;\">\n",
       "      <th></th>\n",
       "      <th>atom.id</th>\n",
       "      <th>atom.name</th>\n",
       "      <th>atom.x</th>\n",
       "      <th>atom.y</th>\n",
       "      <th>atom.z</th>\n",
       "      <th>atom.type</th>\n",
       "      <th>residue.subst_id</th>\n",
       "      <th>residue.subst_name</th>\n",
       "      <th>atom.charge</th>\n",
       "      <th>atom.status_bit</th>\n",
       "    </tr>\n",
       "  </thead>\n",
       "  <tbody>\n",
       "    <tr>\n",
       "      <th>0</th>\n",
       "      <td>1</td>\n",
       "      <td>N</td>\n",
       "      <td>9.6945</td>\n",
       "      <td>18.478701</td>\n",
       "      <td>50.158298</td>\n",
       "      <td>N.3</td>\n",
       "      <td>1</td>\n",
       "      <td>LYS838</td>\n",
       "      <td>0.0</td>\n",
       "      <td>BACKBONE</td>\n",
       "    </tr>\n",
       "    <tr>\n",
       "      <th>1</th>\n",
       "      <td>2</td>\n",
       "      <td>H</td>\n",
       "      <td>8.9168</td>\n",
       "      <td>18.757500</td>\n",
       "      <td>50.739201</td>\n",
       "      <td>H</td>\n",
       "      <td>1</td>\n",
       "      <td>LYS838</td>\n",
       "      <td>0.0</td>\n",
       "      <td>BACKBONE</td>\n",
       "    </tr>\n",
       "    <tr>\n",
       "      <th>2</th>\n",
       "      <td>3</td>\n",
       "      <td>CA</td>\n",
       "      <td>9.6866</td>\n",
       "      <td>17.128901</td>\n",
       "      <td>49.583599</td>\n",
       "      <td>C.3</td>\n",
       "      <td>1</td>\n",
       "      <td>LYS838</td>\n",
       "      <td>0.0</td>\n",
       "      <td>BACKBONE</td>\n",
       "    </tr>\n",
       "    <tr>\n",
       "      <th>3</th>\n",
       "      <td>4</td>\n",
       "      <td>HA</td>\n",
       "      <td>10.7091</td>\n",
       "      <td>16.754400</td>\n",
       "      <td>49.631302</td>\n",
       "      <td>H</td>\n",
       "      <td>1</td>\n",
       "      <td>LYS838</td>\n",
       "      <td>0.0</td>\n",
       "      <td>BACKBONE</td>\n",
       "    </tr>\n",
       "    <tr>\n",
       "      <th>4</th>\n",
       "      <td>5</td>\n",
       "      <td>C</td>\n",
       "      <td>9.2252</td>\n",
       "      <td>17.140900</td>\n",
       "      <td>48.140499</td>\n",
       "      <td>C.2</td>\n",
       "      <td>1</td>\n",
       "      <td>LYS838</td>\n",
       "      <td>0.0</td>\n",
       "      <td>BACKBONE</td>\n",
       "    </tr>\n",
       "    <tr>\n",
       "      <th>...</th>\n",
       "      <td>...</td>\n",
       "      <td>...</td>\n",
       "      <td>...</td>\n",
       "      <td>...</td>\n",
       "      <td>...</td>\n",
       "      <td>...</td>\n",
       "      <td>...</td>\n",
       "      <td>...</td>\n",
       "      <td>...</td>\n",
       "      <td>...</td>\n",
       "    </tr>\n",
       "    <tr>\n",
       "      <th>1356</th>\n",
       "      <td>1357</td>\n",
       "      <td>O</td>\n",
       "      <td>7.1765</td>\n",
       "      <td>14.543900</td>\n",
       "      <td>37.111401</td>\n",
       "      <td>O.2</td>\n",
       "      <td>85</td>\n",
       "      <td>ALA1050</td>\n",
       "      <td>0.0</td>\n",
       "      <td>BACKBONE</td>\n",
       "    </tr>\n",
       "    <tr>\n",
       "      <th>1357</th>\n",
       "      <td>1358</td>\n",
       "      <td>CB</td>\n",
       "      <td>7.4855</td>\n",
       "      <td>17.359200</td>\n",
       "      <td>36.694302</td>\n",
       "      <td>C.3</td>\n",
       "      <td>85</td>\n",
       "      <td>ALA1050</td>\n",
       "      <td>0.0</td>\n",
       "      <td>&lt;NA&gt;</td>\n",
       "    </tr>\n",
       "    <tr>\n",
       "      <th>1358</th>\n",
       "      <td>1359</td>\n",
       "      <td>HB1</td>\n",
       "      <td>6.4585</td>\n",
       "      <td>17.497700</td>\n",
       "      <td>36.356400</td>\n",
       "      <td>H</td>\n",
       "      <td>85</td>\n",
       "      <td>ALA1050</td>\n",
       "      <td>0.0</td>\n",
       "      <td>&lt;NA&gt;</td>\n",
       "    </tr>\n",
       "    <tr>\n",
       "      <th>1359</th>\n",
       "      <td>1360</td>\n",
       "      <td>HB2</td>\n",
       "      <td>8.0260</td>\n",
       "      <td>18.302000</td>\n",
       "      <td>36.610001</td>\n",
       "      <td>H</td>\n",
       "      <td>85</td>\n",
       "      <td>ALA1050</td>\n",
       "      <td>0.0</td>\n",
       "      <td>&lt;NA&gt;</td>\n",
       "    </tr>\n",
       "    <tr>\n",
       "      <th>1360</th>\n",
       "      <td>1361</td>\n",
       "      <td>HB3</td>\n",
       "      <td>7.4849</td>\n",
       "      <td>17.032499</td>\n",
       "      <td>37.734200</td>\n",
       "      <td>H</td>\n",
       "      <td>85</td>\n",
       "      <td>ALA1050</td>\n",
       "      <td>0.0</td>\n",
       "      <td>&lt;NA&gt;</td>\n",
       "    </tr>\n",
       "  </tbody>\n",
       "</table>\n",
       "<p>1361 rows × 10 columns</p>\n",
       "</div>"
      ],
      "text/plain": [
       "      atom.id atom.name   atom.x     atom.y     atom.z atom.type  \\\n",
       "0           1         N   9.6945  18.478701  50.158298       N.3   \n",
       "1           2         H   8.9168  18.757500  50.739201         H   \n",
       "2           3        CA   9.6866  17.128901  49.583599       C.3   \n",
       "3           4        HA  10.7091  16.754400  49.631302         H   \n",
       "4           5         C   9.2252  17.140900  48.140499       C.2   \n",
       "...       ...       ...      ...        ...        ...       ...   \n",
       "1356     1357         O   7.1765  14.543900  37.111401       O.2   \n",
       "1357     1358        CB   7.4855  17.359200  36.694302       C.3   \n",
       "1358     1359       HB1   6.4585  17.497700  36.356400         H   \n",
       "1359     1360       HB2   8.0260  18.302000  36.610001         H   \n",
       "1360     1361       HB3   7.4849  17.032499  37.734200         H   \n",
       "\n",
       "      residue.subst_id residue.subst_name  atom.charge atom.status_bit  \n",
       "0                    1             LYS838          0.0        BACKBONE  \n",
       "1                    1             LYS838          0.0        BACKBONE  \n",
       "2                    1             LYS838          0.0        BACKBONE  \n",
       "3                    1             LYS838          0.0        BACKBONE  \n",
       "4                    1             LYS838          0.0        BACKBONE  \n",
       "...                ...                ...          ...             ...  \n",
       "1356                85            ALA1050          0.0        BACKBONE  \n",
       "1357                85            ALA1050          0.0            <NA>  \n",
       "1358                85            ALA1050          0.0            <NA>  \n",
       "1359                85            ALA1050          0.0            <NA>  \n",
       "1360                85            ALA1050          0.0            <NA>  \n",
       "\n",
       "[1361 rows x 10 columns]"
      ]
     },
     "execution_count": 8,
     "metadata": {},
     "output_type": "execute_result"
    }
   ],
   "source": [
    "from kinodata.data.io.read_klifs_mol2 import read_klifs_mol2\n",
    "pocket_df = read_klifs_mol2(pocketfile(ident), with_bonds=False)\n",
    "pocket_df"
   ]
  },
  {
   "cell_type": "markdown",
   "metadata": {},
   "source": [
    "#### must remove hydrogens to match complex representation"
   ]
  },
  {
   "cell_type": "code",
   "execution_count": 9,
   "metadata": {},
   "outputs": [],
   "source": [
    "non_hydrogen = pocket_df[\"atom.type\"] != \"H\""
   ]
  },
  {
   "cell_type": "markdown",
   "metadata": {},
   "source": [
    "#### try matching"
   ]
  },
  {
   "cell_type": "code",
   "execution_count": 10,
   "metadata": {},
   "outputs": [
    {
     "data": {
      "text/html": [
       "<div>\n",
       "<style scoped>\n",
       "    .dataframe tbody tr th:only-of-type {\n",
       "        vertical-align: middle;\n",
       "    }\n",
       "\n",
       "    .dataframe tbody tr th {\n",
       "        vertical-align: top;\n",
       "    }\n",
       "\n",
       "    .dataframe thead th {\n",
       "        text-align: right;\n",
       "    }\n",
       "</style>\n",
       "<table border=\"1\" class=\"dataframe\">\n",
       "  <thead>\n",
       "    <tr style=\"text-align: right;\">\n",
       "      <th></th>\n",
       "      <th>atom.x</th>\n",
       "      <th>atom.y</th>\n",
       "      <th>atom.z</th>\n",
       "    </tr>\n",
       "  </thead>\n",
       "  <tbody>\n",
       "    <tr>\n",
       "      <th>0</th>\n",
       "      <td>9.6945</td>\n",
       "      <td>18.478701</td>\n",
       "      <td>50.158298</td>\n",
       "    </tr>\n",
       "    <tr>\n",
       "      <th>2</th>\n",
       "      <td>9.6866</td>\n",
       "      <td>17.128901</td>\n",
       "      <td>49.583599</td>\n",
       "    </tr>\n",
       "    <tr>\n",
       "      <th>4</th>\n",
       "      <td>9.2252</td>\n",
       "      <td>17.140900</td>\n",
       "      <td>48.140499</td>\n",
       "    </tr>\n",
       "    <tr>\n",
       "      <th>5</th>\n",
       "      <td>8.4280</td>\n",
       "      <td>17.973200</td>\n",
       "      <td>47.782600</td>\n",
       "    </tr>\n",
       "    <tr>\n",
       "      <th>6</th>\n",
       "      <td>8.7384</td>\n",
       "      <td>16.218599</td>\n",
       "      <td>50.379398</td>\n",
       "    </tr>\n",
       "    <tr>\n",
       "      <th>...</th>\n",
       "      <td>...</td>\n",
       "      <td>...</td>\n",
       "      <td>...</td>\n",
       "    </tr>\n",
       "    <tr>\n",
       "      <th>1351</th>\n",
       "      <td>8.2361</td>\n",
       "      <td>16.747999</td>\n",
       "      <td>34.452702</td>\n",
       "    </tr>\n",
       "    <tr>\n",
       "      <th>1353</th>\n",
       "      <td>8.1670</td>\n",
       "      <td>16.303301</td>\n",
       "      <td>35.830101</td>\n",
       "    </tr>\n",
       "    <tr>\n",
       "      <th>1355</th>\n",
       "      <td>7.4631</td>\n",
       "      <td>14.958100</td>\n",
       "      <td>35.987099</td>\n",
       "    </tr>\n",
       "    <tr>\n",
       "      <th>1356</th>\n",
       "      <td>7.1765</td>\n",
       "      <td>14.543900</td>\n",
       "      <td>37.111401</td>\n",
       "    </tr>\n",
       "    <tr>\n",
       "      <th>1357</th>\n",
       "      <td>7.4855</td>\n",
       "      <td>17.359200</td>\n",
       "      <td>36.694302</td>\n",
       "    </tr>\n",
       "  </tbody>\n",
       "</table>\n",
       "<p>652 rows × 3 columns</p>\n",
       "</div>"
      ],
      "text/plain": [
       "      atom.x     atom.y     atom.z\n",
       "0     9.6945  18.478701  50.158298\n",
       "2     9.6866  17.128901  49.583599\n",
       "4     9.2252  17.140900  48.140499\n",
       "5     8.4280  17.973200  47.782600\n",
       "6     8.7384  16.218599  50.379398\n",
       "...      ...        ...        ...\n",
       "1351  8.2361  16.747999  34.452702\n",
       "1353  8.1670  16.303301  35.830101\n",
       "1355  7.4631  14.958100  35.987099\n",
       "1356  7.1765  14.543900  37.111401\n",
       "1357  7.4855  17.359200  36.694302\n",
       "\n",
       "[652 rows x 3 columns]"
      ]
     },
     "execution_count": 10,
     "metadata": {},
     "output_type": "execute_result"
    }
   ],
   "source": [
    "pocket_df[non_hydrogen][[\"atom.x\", \"atom.y\", \"atom.z\"]]"
   ]
  },
  {
   "cell_type": "code",
   "execution_count": 11,
   "metadata": {},
   "outputs": [
    {
     "data": {
      "text/plain": [
       "torch.Size([652, 3])"
      ]
     },
     "execution_count": 11,
     "metadata": {},
     "output_type": "execute_result"
    }
   ],
   "source": [
    "demo_data[\"pocket\"].pos.shape"
   ]
  },
  {
   "cell_type": "code",
   "execution_count": 12,
   "metadata": {},
   "outputs": [
    {
     "data": {
      "text/plain": [
       "tensor([[ 9.6945, 18.4787, 50.1583],\n",
       "        [ 9.6866, 17.1289, 49.5836],\n",
       "        [ 9.2252, 17.1409, 48.1405],\n",
       "        ...,\n",
       "        [ 7.4631, 14.9581, 35.9871],\n",
       "        [ 7.1765, 14.5439, 37.1114],\n",
       "        [ 7.4855, 17.3592, 36.6943]])"
      ]
     },
     "execution_count": 12,
     "metadata": {},
     "output_type": "execute_result"
    }
   ],
   "source": [
    "demo_data[\"pocket\"].pos"
   ]
  },
  {
   "cell_type": "code",
   "execution_count": 13,
   "metadata": {},
   "outputs": [
    {
     "data": {
      "text/plain": [
       "True"
      ]
     },
     "execution_count": 13,
     "metadata": {},
     "output_type": "execute_result"
    }
   ],
   "source": [
    "# match?\n",
    "np.all(pocket_df[non_hydrogen][[\"atom.x\", \"atom.y\", \"atom.z\"]].values == demo_data[\"pocket\"].pos.numpy())"
   ]
  },
  {
   "cell_type": "code",
   "execution_count": 14,
   "metadata": {},
   "outputs": [
    {
     "data": {
      "text/html": [
       "<div>\n",
       "<style scoped>\n",
       "    .dataframe tbody tr th:only-of-type {\n",
       "        vertical-align: middle;\n",
       "    }\n",
       "\n",
       "    .dataframe tbody tr th {\n",
       "        vertical-align: top;\n",
       "    }\n",
       "\n",
       "    .dataframe thead th {\n",
       "        text-align: right;\n",
       "    }\n",
       "</style>\n",
       "<table border=\"1\" class=\"dataframe\">\n",
       "  <thead>\n",
       "    <tr style=\"text-align: right;\">\n",
       "      <th></th>\n",
       "      <th>interaction_type</th>\n",
       "      <th>residue</th>\n",
       "    </tr>\n",
       "  </thead>\n",
       "  <tbody>\n",
       "    <tr>\n",
       "      <th>0</th>\n",
       "      <td>hydrophobic_interactions</td>\n",
       "      <td>3</td>\n",
       "    </tr>\n",
       "    <tr>\n",
       "      <th>1</th>\n",
       "      <td>hydrophobic_interactions</td>\n",
       "      <td>11</td>\n",
       "    </tr>\n",
       "    <tr>\n",
       "      <th>2</th>\n",
       "      <td>hydrophobic_interactions</td>\n",
       "      <td>45</td>\n",
       "    </tr>\n",
       "    <tr>\n",
       "      <th>3</th>\n",
       "      <td>hydrophobic_interactions</td>\n",
       "      <td>77</td>\n",
       "    </tr>\n",
       "    <tr>\n",
       "      <th>4</th>\n",
       "      <td>hydrophobic_interactions</td>\n",
       "      <td>15</td>\n",
       "    </tr>\n",
       "    <tr>\n",
       "      <th>5</th>\n",
       "      <td>hydrophobic_interactions</td>\n",
       "      <td>17</td>\n",
       "    </tr>\n",
       "    <tr>\n",
       "      <th>6</th>\n",
       "      <td>hydrophobic_interactions</td>\n",
       "      <td>82</td>\n",
       "    </tr>\n",
       "    <tr>\n",
       "      <th>7</th>\n",
       "      <td>hydrophobic_interactions</td>\n",
       "      <td>24</td>\n",
       "    </tr>\n",
       "    <tr>\n",
       "      <th>8</th>\n",
       "      <td>hydrophobic_interactions</td>\n",
       "      <td>28</td>\n",
       "    </tr>\n",
       "    <tr>\n",
       "      <th>9</th>\n",
       "      <td>hydrogen_bonds</td>\n",
       "      <td>3</td>\n",
       "    </tr>\n",
       "    <tr>\n",
       "      <th>10</th>\n",
       "      <td>hydrogen_bonds</td>\n",
       "      <td>48</td>\n",
       "    </tr>\n",
       "    <tr>\n",
       "      <th>11</th>\n",
       "      <td>hydrogen_bonds</td>\n",
       "      <td>17</td>\n",
       "    </tr>\n",
       "    <tr>\n",
       "      <th>12</th>\n",
       "      <td>hydrogen_bonds</td>\n",
       "      <td>81</td>\n",
       "    </tr>\n",
       "    <tr>\n",
       "      <th>13</th>\n",
       "      <td>hydrogen_bonds</td>\n",
       "      <td>51</td>\n",
       "    </tr>\n",
       "    <tr>\n",
       "      <th>14</th>\n",
       "      <td>hydrogen_bonds</td>\n",
       "      <td>24</td>\n",
       "    </tr>\n",
       "  </tbody>\n",
       "</table>\n",
       "</div>"
      ],
      "text/plain": [
       "            interaction_type  residue\n",
       "0   hydrophobic_interactions        3\n",
       "1   hydrophobic_interactions       11\n",
       "2   hydrophobic_interactions       45\n",
       "3   hydrophobic_interactions       77\n",
       "4   hydrophobic_interactions       15\n",
       "5   hydrophobic_interactions       17\n",
       "6   hydrophobic_interactions       82\n",
       "7   hydrophobic_interactions       24\n",
       "8   hydrophobic_interactions       28\n",
       "9             hydrogen_bonds        3\n",
       "10            hydrogen_bonds       48\n",
       "11            hydrogen_bonds       17\n",
       "12            hydrogen_bonds       81\n",
       "13            hydrogen_bonds       51\n",
       "14            hydrogen_bonds       24"
      ]
     },
     "execution_count": 14,
     "metadata": {},
     "output_type": "execute_result"
    }
   ],
   "source": [
    "interactions = pd.read_csv(f'../data/interaction_analysis/{ident}.csv')\n",
    "\n",
    "interactions"
   ]
  },
  {
   "cell_type": "code",
   "execution_count": 15,
   "metadata": {},
   "outputs": [],
   "source": [
    "pocket_df = pocket_df[non_hydrogen].reset_index()"
   ]
  },
  {
   "cell_type": "code",
   "execution_count": 16,
   "metadata": {},
   "outputs": [],
   "source": [
    "pocket_df[\"atom_id\"] = pocket_df.index"
   ]
  },
  {
   "cell_type": "code",
   "execution_count": 103,
   "metadata": {},
   "outputs": [],
   "source": [
    "deltas = pd.read_csv(f'../data/crocodoc_out/delta_{identaids.set_index(\"activities.activity_id\").loc[ident][\"ident\"]}.csv')\n",
    "deltas['pocket_node'] = [min(row['source_node'], row['target_node']) for _, row in deltas.iterrows()]\n",
    "deltas = deltas.merge(pocket_df, left_on='pocket_node', right_on='atom_id')\n",
    "deltas_plip = deltas.merge(interactions, left_on='residue.subst_id', right_on='residue', how='left')\n",
    "deltas_plip.fillna({'interaction_type': 'no PLIP interaction'}, inplace=True)"
   ]
  },
  {
   "cell_type": "code",
   "execution_count": 104,
   "metadata": {},
   "outputs": [
    {
     "data": {
      "text/plain": [
       "<Axes: xlabel='residue.subst_id', ylabel='delta'>"
      ]
     },
     "execution_count": 104,
     "metadata": {},
     "output_type": "execute_result"
    },
    {
     "data": {
      "image/png": "[encoded data removed]",
      "text/plain": [
       "<Figure size 640x480 with 1 Axes>"
      ]
     },
     "metadata": {},
     "output_type": "display_data"
    }
   ],
   "source": [
    "sns.stripplot(deltas_plip, y='delta', x='residue.subst_id', hue='interaction_type')"
   ]
  },
  {
   "cell_type": "markdown",
   "metadata": {},
   "source": [
    "## KLIFS"
   ]
  },
  {
   "cell_type": "code",
   "execution_count": 105,
   "metadata": {
    "scrolled": true
   },
   "outputs": [],
   "source": [
    "bitvec = lambda mask: np.array([c == '1' for c in mask])"
   ]
  },
  {
   "cell_type": "code",
   "execution_count": 106,
   "metadata": {},
   "outputs": [],
   "source": [
    "@functools.cache\n",
    "def klifs_encoding():\n",
    "    resp = req.get('https://klifs.net/api_v2/interactions_get_types')\n",
    "    \n",
    "    encodings = dict()\n",
    "    for entry in resp.json():\n",
    "        key = ['0'] * 7\n",
    "        key[int(entry['position']) - 1] = '1'\n",
    "        encodings[''.join(key)] = entry['name']\n",
    "\n",
    "    return encodings"
   ]
  },
  {
   "cell_type": "code",
   "execution_count": 107,
   "metadata": {},
   "outputs": [],
   "source": [
    "@functools.cache\n",
    "def klifs_ifp(klifs_id):\n",
    "    resp = req.get('https://klifs.net/api_v2/interactions_get_IFP', {'structure_ID': klifs_id})\n",
    "    resp.raise_for_status()\n",
    "    ifp = resp.json()[0]['IFP']\n",
    "    interactions = []\n",
    "    residues = []\n",
    "    for i in range(85):\n",
    "        res_interactions = bitvec(ifp[i * 7:i * 7 + 7])\n",
    "        for mask, interaction in klifs_encoding().items():\n",
    "            if np.any(bitvec(mask) & res_interactions):\n",
    "                residues.append(i)\n",
    "                interactions.append(interaction)\n",
    "    return pd.DataFrame({'residue': residues, 'klifs_interaction': interactions})"
   ]
  },
  {
   "cell_type": "code",
   "execution_count": 108,
   "metadata": {},
   "outputs": [
    {
     "data": {
      "text/html": [
       "<div>\n",
       "<style scoped>\n",
       "    .dataframe tbody tr th:only-of-type {\n",
       "        vertical-align: middle;\n",
       "    }\n",
       "\n",
       "    .dataframe tbody tr th {\n",
       "        vertical-align: top;\n",
       "    }\n",
       "\n",
       "    .dataframe thead th {\n",
       "        text-align: right;\n",
       "    }\n",
       "</style>\n",
       "<table border=\"1\" class=\"dataframe\">\n",
       "  <thead>\n",
       "    <tr style=\"text-align: right;\">\n",
       "      <th></th>\n",
       "      <th>residue</th>\n",
       "      <th>klifs_interaction</th>\n",
       "    </tr>\n",
       "  </thead>\n",
       "  <tbody>\n",
       "    <tr>\n",
       "      <th>0</th>\n",
       "      <td>2</td>\n",
       "      <td>Apolar contact</td>\n",
       "    </tr>\n",
       "    <tr>\n",
       "      <th>1</th>\n",
       "      <td>10</td>\n",
       "      <td>Apolar contact</td>\n",
       "    </tr>\n",
       "    <tr>\n",
       "      <th>2</th>\n",
       "      <td>14</td>\n",
       "      <td>Apolar contact</td>\n",
       "    </tr>\n",
       "    <tr>\n",
       "      <th>3</th>\n",
       "      <td>16</td>\n",
       "      <td>Apolar contact</td>\n",
       "    </tr>\n",
       "    <tr>\n",
       "      <th>4</th>\n",
       "      <td>23</td>\n",
       "      <td>Apolar contact</td>\n",
       "    </tr>\n",
       "    <tr>\n",
       "      <th>5</th>\n",
       "      <td>23</td>\n",
       "      <td>Hydrogen bond acceptor (protein)</td>\n",
       "    </tr>\n",
       "    <tr>\n",
       "      <th>6</th>\n",
       "      <td>26</td>\n",
       "      <td>Apolar contact</td>\n",
       "    </tr>\n",
       "    <tr>\n",
       "      <th>7</th>\n",
       "      <td>27</td>\n",
       "      <td>Apolar contact</td>\n",
       "    </tr>\n",
       "    <tr>\n",
       "      <th>8</th>\n",
       "      <td>30</td>\n",
       "      <td>Apolar contact</td>\n",
       "    </tr>\n",
       "    <tr>\n",
       "      <th>9</th>\n",
       "      <td>34</td>\n",
       "      <td>Apolar contact</td>\n",
       "    </tr>\n",
       "    <tr>\n",
       "      <th>10</th>\n",
       "      <td>35</td>\n",
       "      <td>Apolar contact</td>\n",
       "    </tr>\n",
       "    <tr>\n",
       "      <th>11</th>\n",
       "      <td>44</td>\n",
       "      <td>Apolar contact</td>\n",
       "    </tr>\n",
       "    <tr>\n",
       "      <th>12</th>\n",
       "      <td>45</td>\n",
       "      <td>Apolar contact</td>\n",
       "    </tr>\n",
       "    <tr>\n",
       "      <th>13</th>\n",
       "      <td>46</td>\n",
       "      <td>Apolar contact</td>\n",
       "    </tr>\n",
       "    <tr>\n",
       "      <th>14</th>\n",
       "      <td>47</td>\n",
       "      <td>Apolar contact</td>\n",
       "    </tr>\n",
       "    <tr>\n",
       "      <th>15</th>\n",
       "      <td>47</td>\n",
       "      <td>Hydrogen bond donor (protein)</td>\n",
       "    </tr>\n",
       "    <tr>\n",
       "      <th>16</th>\n",
       "      <td>47</td>\n",
       "      <td>Hydrogen bond acceptor (protein)</td>\n",
       "    </tr>\n",
       "    <tr>\n",
       "      <th>17</th>\n",
       "      <td>48</td>\n",
       "      <td>Apolar contact</td>\n",
       "    </tr>\n",
       "    <tr>\n",
       "      <th>18</th>\n",
       "      <td>50</td>\n",
       "      <td>Apolar contact</td>\n",
       "    </tr>\n",
       "    <tr>\n",
       "      <th>19</th>\n",
       "      <td>60</td>\n",
       "      <td>Apolar contact</td>\n",
       "    </tr>\n",
       "    <tr>\n",
       "      <th>20</th>\n",
       "      <td>67</td>\n",
       "      <td>Apolar contact</td>\n",
       "    </tr>\n",
       "    <tr>\n",
       "      <th>21</th>\n",
       "      <td>76</td>\n",
       "      <td>Apolar contact</td>\n",
       "    </tr>\n",
       "    <tr>\n",
       "      <th>22</th>\n",
       "      <td>78</td>\n",
       "      <td>Apolar contact</td>\n",
       "    </tr>\n",
       "    <tr>\n",
       "      <th>23</th>\n",
       "      <td>79</td>\n",
       "      <td>Apolar contact</td>\n",
       "    </tr>\n",
       "    <tr>\n",
       "      <th>24</th>\n",
       "      <td>80</td>\n",
       "      <td>Apolar contact</td>\n",
       "    </tr>\n",
       "    <tr>\n",
       "      <th>25</th>\n",
       "      <td>80</td>\n",
       "      <td>Hydrogen bond donor (protein)</td>\n",
       "    </tr>\n",
       "    <tr>\n",
       "      <th>26</th>\n",
       "      <td>81</td>\n",
       "      <td>Apolar contact</td>\n",
       "    </tr>\n",
       "    <tr>\n",
       "      <th>27</th>\n",
       "      <td>81</td>\n",
       "      <td>Aromatic edge-to-face</td>\n",
       "    </tr>\n",
       "  </tbody>\n",
       "</table>\n",
       "</div>"
      ],
      "text/plain": [
       "    residue                 klifs_interaction\n",
       "0         2                    Apolar contact\n",
       "1        10                    Apolar contact\n",
       "2        14                    Apolar contact\n",
       "3        16                    Apolar contact\n",
       "4        23                    Apolar contact\n",
       "5        23  Hydrogen bond acceptor (protein)\n",
       "6        26                    Apolar contact\n",
       "7        27                    Apolar contact\n",
       "8        30                    Apolar contact\n",
       "9        34                    Apolar contact\n",
       "10       35                    Apolar contact\n",
       "11       44                    Apolar contact\n",
       "12       45                    Apolar contact\n",
       "13       46                    Apolar contact\n",
       "14       47                    Apolar contact\n",
       "15       47     Hydrogen bond donor (protein)\n",
       "16       47  Hydrogen bond acceptor (protein)\n",
       "17       48                    Apolar contact\n",
       "18       50                    Apolar contact\n",
       "19       60                    Apolar contact\n",
       "20       67                    Apolar contact\n",
       "21       76                    Apolar contact\n",
       "22       78                    Apolar contact\n",
       "23       79                    Apolar contact\n",
       "24       80                    Apolar contact\n",
       "25       80     Hydrogen bond donor (protein)\n",
       "26       81                    Apolar contact\n",
       "27       81             Aromatic edge-to-face"
      ]
     },
     "execution_count": 108,
     "metadata": {},
     "output_type": "execute_result"
    }
   ],
   "source": [
    "ifp = klifs_ifp(df.loc[ident]['similar.klifs_structure_id'])\n",
    "ifp"
   ]
  },
  {
   "cell_type": "code",
   "execution_count": 118,
   "metadata": {},
   "outputs": [],
   "source": [
    "deltas_klifs = deltas.merge(ifp, left_on='residue.subst_id', right_on='residue', how='left')\n",
    "deltas_klifs.fillna({'klifs_interaction': 'no KLIFS interaction'}, inplace=True)"
   ]
  },
  {
   "cell_type": "code",
   "execution_count": 119,
   "metadata": {},
   "outputs": [
    {
     "data": {
      "text/plain": [
       "<Axes: xlabel='residue.subst_id', ylabel='delta'>"
      ]
     },
     "execution_count": 119,
     "metadata": {},
     "output_type": "execute_result"
    },
    {
     "data": {
      "image/png": "[encoded data removed]",
      "text/plain": [
       "<Figure size 640x480 with 1 Axes>"
      ]
     },
     "metadata": {},
     "output_type": "display_data"
    }
   ],
   "source": [
    "sns.stripplot(deltas_klifs, y='delta', x='residue.subst_id', hue='klifs_interaction')"
   ]
  },
  {
   "cell_type": "code",
   "execution_count": null,
   "metadata": {},
   "outputs": [],
   "source": []
  }
 ],
 "metadata": {
  "kernelspec": {
   "display_name": "Python 3 (ipykernel)",
   "language": "python",
   "name": "python3"
  },
  "language_info": {
   "codemirror_mode": {
    "name": "ipython",
    "version": 3
   },
   "file_extension": ".py",
   "mimetype": "text/x-python",
   "name": "python",
   "nbconvert_exporter": "python",
   "pygments_lexer": "ipython3",
   "version": "3.12.3"
  },
  "vscode": {
   "interpreter": {
    "hash": "528a87b2665604848835e963d9b59f6a2ef408edd78da891397a1684bf62ca9e"
   }
  }
 },
 "nbformat": 4,
 "nbformat_minor": 4
}
