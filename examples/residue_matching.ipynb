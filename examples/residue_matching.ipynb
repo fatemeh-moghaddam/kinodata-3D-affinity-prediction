{
 "cells": [
  {
   "cell_type": "code",
   "execution_count": 1,
   "metadata": {},
   "outputs": [
    {
     "name": "stdout",
     "output_type": "stream",
     "text": [
      "W&B disabled.\n"
     ]
    }
   ],
   "source": [
    "import kinodata\n",
    "from kinodata.data import KinodataDocked, Filtered\n",
    "from kinodata.data.data_module import create_dataset\n",
    "from kinodata.data.grouped_split import KinodataKFoldSplit\n",
    "from kinodata.transform import TransformToComplexGraph, FilterDockingRMSD\n",
    "from kinodata.types import *\n",
    "from kinodata.data.utils.dataset_key import KinodataChemblKey\n",
    "\n",
    "\n",
    "import json\n",
    "from pathlib import Path\n",
    "from typing import Any\n",
    "\n",
    "import torch\n",
    "\n",
    "import kinodata.configuration as cfg\n",
    "from kinodata.model import ComplexTransformer, DTIModel, RegressionModel\n",
    "from kinodata.model.complex_transformer import make_model as make_complex_transformer\n",
    "from kinodata.model.dti import make_model as make_dti_baseline\n",
    "from kinodata.data.data_module import make_kinodata_module\n",
    "from kinodata.transform import TransformToComplexGraph\n",
    "\n",
    "import matplotlib.pyplot as plt\n",
    "import seaborn as sns\n",
    "\n",
    "import pandas as pd\n",
    "import numpy as np\n",
    "import tqdm\n",
    "\n",
    "!wandb disabled"
   ]
  },
  {
   "cell_type": "markdown",
   "metadata": {},
   "source": [
    "### Grab some example complex data object"
   ]
  },
  {
   "cell_type": "code",
   "execution_count": 2,
   "metadata": {},
   "outputs": [],
   "source": [
    "dataset = KinodataDocked()"
   ]
  },
  {
   "cell_type": "code",
   "execution_count": 3,
   "metadata": {},
   "outputs": [],
   "source": [
    "demo_data = dataset[2]"
   ]
  },
  {
   "cell_type": "code",
   "execution_count": 4,
   "metadata": {},
   "outputs": [
    {
     "data": {
      "text/plain": [
       "tensor([20])"
      ]
     },
     "execution_count": 4,
     "metadata": {},
     "output_type": "execute_result"
    }
   ],
   "source": [
    "demo_data['ident']"
   ]
  },
  {
   "cell_type": "markdown",
   "metadata": {},
   "source": [
    "### Get pocket mol2 file for data object and read it"
   ]
  },
  {
   "cell_type": "code",
   "execution_count": 5,
   "metadata": {},
   "outputs": [],
   "source": [
    "# for access to mol2 file via ident \n",
    "df = pd.read_csv('../data/raw/kinodata3d_meta.csv', index_col='activities.activity_id')"
   ]
  },
  {
   "cell_type": "code",
   "execution_count": 6,
   "metadata": {},
   "outputs": [],
   "source": [
    "key = KinodataChemblKey(dataset)"
   ]
  },
  {
   "cell_type": "code",
   "execution_count": 7,
   "metadata": {},
   "outputs": [],
   "source": [
    "ident = 1405151"
   ]
  },
  {
   "cell_type": "code",
   "execution_count": 8,
   "metadata": {},
   "outputs": [
    {
     "data": {
      "text/plain": [
       "HeteroData(\n",
       "  y=[1],\n",
       "  docking_score=[1],\n",
       "  posit_prob=[1],\n",
       "  predicted_rmsd=[1],\n",
       "  pocket_sequence='KTL______EVKLVAIKIINVETEIEILKKLNPCIIKIKNFYIVLELMEGGELFDKVVGYLHENGIIHRDLKPENVLLITDFGHS',\n",
       "  scaffold='C1CCC2CC(CC3CCC(C4CC5CCCCC5C4)CC3)CCC2C1',\n",
       "  activity_type='pIC50',\n",
       "  ident=[1],\n",
       "  smiles='NC(=O)c1ccc2nc(-c3ccc(Oc4ccc5ccccc5c4)cc3)[nH]c2c1',\n",
       "  ligand={\n",
       "    z=[29],\n",
       "    x=[29, 12],\n",
       "    pos=[29, 3],\n",
       "  },\n",
       "  pocket={\n",
       "    z=[623],\n",
       "    x=[623, 12],\n",
       "    pos=[623, 3],\n",
       "  },\n",
       "  pocket_residue={ x=[85, 23] },\n",
       "  (ligand, bond, ligand)={\n",
       "    edge_index=[2, 66],\n",
       "    edge_attr=[66, 4],\n",
       "  },\n",
       "  (pocket, bond, pocket)={\n",
       "    edge_index=[2, 1250],\n",
       "    edge_attr=[1250, 4],\n",
       "  }\n",
       ")"
      ]
     },
     "execution_count": 8,
     "metadata": {},
     "output_type": "execute_result"
    }
   ],
   "source": [
    "dataset[key[ident]]"
   ]
  },
  {
   "cell_type": "code",
   "execution_count": 9,
   "metadata": {},
   "outputs": [],
   "source": [
    "pocketfile = lambda ident: f'../data/raw/mol2/pocket/{df.loc[ident]['similar.klifs_structure_id']}_pocket.mol2'"
   ]
  },
  {
   "cell_type": "code",
   "execution_count": 10,
   "metadata": {},
   "outputs": [
    {
     "data": {
      "text/html": [
       "<div>\n",
       "<style scoped>\n",
       "    .dataframe tbody tr th:only-of-type {\n",
       "        vertical-align: middle;\n",
       "    }\n",
       "\n",
       "    .dataframe tbody tr th {\n",
       "        vertical-align: top;\n",
       "    }\n",
       "\n",
       "    .dataframe thead th {\n",
       "        text-align: right;\n",
       "    }\n",
       "</style>\n",
       "<table border=\"1\" class=\"dataframe\">\n",
       "  <thead>\n",
       "    <tr style=\"text-align: right;\">\n",
       "      <th></th>\n",
       "      <th>atom.id</th>\n",
       "      <th>atom.name</th>\n",
       "      <th>atom.x</th>\n",
       "      <th>atom.y</th>\n",
       "      <th>atom.z</th>\n",
       "      <th>atom.type</th>\n",
       "      <th>residue.subst_id</th>\n",
       "      <th>residue.subst_name</th>\n",
       "      <th>atom.charge</th>\n",
       "      <th>atom.status_bit</th>\n",
       "    </tr>\n",
       "  </thead>\n",
       "  <tbody>\n",
       "    <tr>\n",
       "      <th>0</th>\n",
       "      <td>1</td>\n",
       "      <td>N</td>\n",
       "      <td>6.7728</td>\n",
       "      <td>15.690800</td>\n",
       "      <td>52.700100</td>\n",
       "      <td>N.3</td>\n",
       "      <td>1</td>\n",
       "      <td>LYS224</td>\n",
       "      <td>0.0</td>\n",
       "      <td>BACKBONE</td>\n",
       "    </tr>\n",
       "    <tr>\n",
       "      <th>1</th>\n",
       "      <td>2</td>\n",
       "      <td>H</td>\n",
       "      <td>6.1055</td>\n",
       "      <td>16.180099</td>\n",
       "      <td>53.279301</td>\n",
       "      <td>H</td>\n",
       "      <td>1</td>\n",
       "      <td>LYS224</td>\n",
       "      <td>0.0</td>\n",
       "      <td>BACKBONE</td>\n",
       "    </tr>\n",
       "    <tr>\n",
       "      <th>2</th>\n",
       "      <td>3</td>\n",
       "      <td>CA</td>\n",
       "      <td>6.4066</td>\n",
       "      <td>14.381400</td>\n",
       "      <td>52.165298</td>\n",
       "      <td>C.3</td>\n",
       "      <td>1</td>\n",
       "      <td>LYS224</td>\n",
       "      <td>0.0</td>\n",
       "      <td>BACKBONE</td>\n",
       "    </tr>\n",
       "    <tr>\n",
       "      <th>3</th>\n",
       "      <td>4</td>\n",
       "      <td>HA</td>\n",
       "      <td>7.2576</td>\n",
       "      <td>13.729800</td>\n",
       "      <td>52.363300</td>\n",
       "      <td>H</td>\n",
       "      <td>1</td>\n",
       "      <td>LYS224</td>\n",
       "      <td>0.0</td>\n",
       "      <td>BACKBONE</td>\n",
       "    </tr>\n",
       "    <tr>\n",
       "      <th>4</th>\n",
       "      <td>5</td>\n",
       "      <td>C</td>\n",
       "      <td>6.1940</td>\n",
       "      <td>14.357400</td>\n",
       "      <td>50.654598</td>\n",
       "      <td>C.2</td>\n",
       "      <td>1</td>\n",
       "      <td>LYS224</td>\n",
       "      <td>0.0</td>\n",
       "      <td>BACKBONE</td>\n",
       "    </tr>\n",
       "    <tr>\n",
       "      <th>...</th>\n",
       "      <td>...</td>\n",
       "      <td>...</td>\n",
       "      <td>...</td>\n",
       "      <td>...</td>\n",
       "      <td>...</td>\n",
       "      <td>...</td>\n",
       "      <td>...</td>\n",
       "      <td>...</td>\n",
       "      <td>...</td>\n",
       "      <td>...</td>\n",
       "    </tr>\n",
       "    <tr>\n",
       "      <th>1282</th>\n",
       "      <td>1283</td>\n",
       "      <td>CB</td>\n",
       "      <td>2.4372</td>\n",
       "      <td>21.989599</td>\n",
       "      <td>26.203699</td>\n",
       "      <td>C.3</td>\n",
       "      <td>79</td>\n",
       "      <td>SER372</td>\n",
       "      <td>0.0</td>\n",
       "      <td>&lt;NA&gt;</td>\n",
       "    </tr>\n",
       "    <tr>\n",
       "      <th>1283</th>\n",
       "      <td>1284</td>\n",
       "      <td>HB2</td>\n",
       "      <td>1.9747</td>\n",
       "      <td>22.759001</td>\n",
       "      <td>25.585400</td>\n",
       "      <td>H</td>\n",
       "      <td>79</td>\n",
       "      <td>SER372</td>\n",
       "      <td>0.0</td>\n",
       "      <td>&lt;NA&gt;</td>\n",
       "    </tr>\n",
       "    <tr>\n",
       "      <th>1284</th>\n",
       "      <td>1285</td>\n",
       "      <td>HB3</td>\n",
       "      <td>3.3477</td>\n",
       "      <td>22.384501</td>\n",
       "      <td>26.654600</td>\n",
       "      <td>H</td>\n",
       "      <td>79</td>\n",
       "      <td>SER372</td>\n",
       "      <td>0.0</td>\n",
       "      <td>&lt;NA&gt;</td>\n",
       "    </tr>\n",
       "    <tr>\n",
       "      <th>1285</th>\n",
       "      <td>1286</td>\n",
       "      <td>OG</td>\n",
       "      <td>1.5357</td>\n",
       "      <td>21.607401</td>\n",
       "      <td>27.227501</td>\n",
       "      <td>O.3</td>\n",
       "      <td>79</td>\n",
       "      <td>SER372</td>\n",
       "      <td>0.0</td>\n",
       "      <td>&lt;NA&gt;</td>\n",
       "    </tr>\n",
       "    <tr>\n",
       "      <th>1286</th>\n",
       "      <td>1287</td>\n",
       "      <td>HG</td>\n",
       "      <td>0.7450</td>\n",
       "      <td>21.264299</td>\n",
       "      <td>26.804800</td>\n",
       "      <td>H</td>\n",
       "      <td>79</td>\n",
       "      <td>SER372</td>\n",
       "      <td>0.0</td>\n",
       "      <td>&lt;NA&gt;</td>\n",
       "    </tr>\n",
       "  </tbody>\n",
       "</table>\n",
       "<p>1287 rows × 10 columns</p>\n",
       "</div>"
      ],
      "text/plain": [
       "      atom.id atom.name  atom.x     atom.y     atom.z atom.type  \\\n",
       "0           1         N  6.7728  15.690800  52.700100       N.3   \n",
       "1           2         H  6.1055  16.180099  53.279301         H   \n",
       "2           3        CA  6.4066  14.381400  52.165298       C.3   \n",
       "3           4        HA  7.2576  13.729800  52.363300         H   \n",
       "4           5         C  6.1940  14.357400  50.654598       C.2   \n",
       "...       ...       ...     ...        ...        ...       ...   \n",
       "1282     1283        CB  2.4372  21.989599  26.203699       C.3   \n",
       "1283     1284       HB2  1.9747  22.759001  25.585400         H   \n",
       "1284     1285       HB3  3.3477  22.384501  26.654600         H   \n",
       "1285     1286        OG  1.5357  21.607401  27.227501       O.3   \n",
       "1286     1287        HG  0.7450  21.264299  26.804800         H   \n",
       "\n",
       "      residue.subst_id residue.subst_name  atom.charge atom.status_bit  \n",
       "0                    1             LYS224          0.0        BACKBONE  \n",
       "1                    1             LYS224          0.0        BACKBONE  \n",
       "2                    1             LYS224          0.0        BACKBONE  \n",
       "3                    1             LYS224          0.0        BACKBONE  \n",
       "4                    1             LYS224          0.0        BACKBONE  \n",
       "...                ...                ...          ...             ...  \n",
       "1282                79             SER372          0.0            <NA>  \n",
       "1283                79             SER372          0.0            <NA>  \n",
       "1284                79             SER372          0.0            <NA>  \n",
       "1285                79             SER372          0.0            <NA>  \n",
       "1286                79             SER372          0.0            <NA>  \n",
       "\n",
       "[1287 rows x 10 columns]"
      ]
     },
     "execution_count": 10,
     "metadata": {},
     "output_type": "execute_result"
    }
   ],
   "source": [
    "from kinodata.data.io.read_klifs_mol2 import read_klifs_mol2\n",
    "pocket_df = read_klifs_mol2(pocketfile(ident), with_bonds=False)\n",
    "pocket_df"
   ]
  },
  {
   "cell_type": "markdown",
   "metadata": {},
   "source": [
    "#### must remove hydrogens to match complex representation"
   ]
  },
  {
   "cell_type": "code",
   "execution_count": 11,
   "metadata": {},
   "outputs": [],
   "source": [
    "non_hydrogen = pocket_df[\"atom.type\"] != \"H\""
   ]
  },
  {
   "cell_type": "markdown",
   "metadata": {},
   "source": [
    "#### try matching"
   ]
  },
  {
   "cell_type": "code",
   "execution_count": 12,
   "metadata": {},
   "outputs": [
    {
     "data": {
      "text/html": [
       "<div>\n",
       "<style scoped>\n",
       "    .dataframe tbody tr th:only-of-type {\n",
       "        vertical-align: middle;\n",
       "    }\n",
       "\n",
       "    .dataframe tbody tr th {\n",
       "        vertical-align: top;\n",
       "    }\n",
       "\n",
       "    .dataframe thead th {\n",
       "        text-align: right;\n",
       "    }\n",
       "</style>\n",
       "<table border=\"1\" class=\"dataframe\">\n",
       "  <thead>\n",
       "    <tr style=\"text-align: right;\">\n",
       "      <th></th>\n",
       "      <th>atom.x</th>\n",
       "      <th>atom.y</th>\n",
       "      <th>atom.z</th>\n",
       "    </tr>\n",
       "  </thead>\n",
       "  <tbody>\n",
       "    <tr>\n",
       "      <th>0</th>\n",
       "      <td>6.7728</td>\n",
       "      <td>15.690800</td>\n",
       "      <td>52.700100</td>\n",
       "    </tr>\n",
       "    <tr>\n",
       "      <th>2</th>\n",
       "      <td>6.4066</td>\n",
       "      <td>14.381400</td>\n",
       "      <td>52.165298</td>\n",
       "    </tr>\n",
       "    <tr>\n",
       "      <th>4</th>\n",
       "      <td>6.1940</td>\n",
       "      <td>14.357400</td>\n",
       "      <td>50.654598</td>\n",
       "    </tr>\n",
       "    <tr>\n",
       "      <th>5</th>\n",
       "      <td>5.8572</td>\n",
       "      <td>15.369800</td>\n",
       "      <td>50.045700</td>\n",
       "    </tr>\n",
       "    <tr>\n",
       "      <th>6</th>\n",
       "      <td>5.1464</td>\n",
       "      <td>13.867500</td>\n",
       "      <td>52.867401</td>\n",
       "    </tr>\n",
       "    <tr>\n",
       "      <th>...</th>\n",
       "      <td>...</td>\n",
       "      <td>...</td>\n",
       "      <td>...</td>\n",
       "    </tr>\n",
       "    <tr>\n",
       "      <th>1278</th>\n",
       "      <td>2.7867</td>\n",
       "      <td>20.786501</td>\n",
       "      <td>25.333599</td>\n",
       "    </tr>\n",
       "    <tr>\n",
       "      <th>1280</th>\n",
       "      <td>3.5411</td>\n",
       "      <td>21.229700</td>\n",
       "      <td>24.080999</td>\n",
       "    </tr>\n",
       "    <tr>\n",
       "      <th>1281</th>\n",
       "      <td>4.7697</td>\n",
       "      <td>21.115700</td>\n",
       "      <td>23.984400</td>\n",
       "    </tr>\n",
       "    <tr>\n",
       "      <th>1282</th>\n",
       "      <td>2.4372</td>\n",
       "      <td>21.989599</td>\n",
       "      <td>26.203699</td>\n",
       "    </tr>\n",
       "    <tr>\n",
       "      <th>1285</th>\n",
       "      <td>1.5357</td>\n",
       "      <td>21.607401</td>\n",
       "      <td>27.227501</td>\n",
       "    </tr>\n",
       "  </tbody>\n",
       "</table>\n",
       "<p>623 rows × 3 columns</p>\n",
       "</div>"
      ],
      "text/plain": [
       "      atom.x     atom.y     atom.z\n",
       "0     6.7728  15.690800  52.700100\n",
       "2     6.4066  14.381400  52.165298\n",
       "4     6.1940  14.357400  50.654598\n",
       "5     5.8572  15.369800  50.045700\n",
       "6     5.1464  13.867500  52.867401\n",
       "...      ...        ...        ...\n",
       "1278  2.7867  20.786501  25.333599\n",
       "1280  3.5411  21.229700  24.080999\n",
       "1281  4.7697  21.115700  23.984400\n",
       "1282  2.4372  21.989599  26.203699\n",
       "1285  1.5357  21.607401  27.227501\n",
       "\n",
       "[623 rows x 3 columns]"
      ]
     },
     "execution_count": 12,
     "metadata": {},
     "output_type": "execute_result"
    }
   ],
   "source": [
    "pocket_df[non_hydrogen][[\"atom.x\", \"atom.y\", \"atom.z\"]]"
   ]
  },
  {
   "cell_type": "code",
   "execution_count": 13,
   "metadata": {},
   "outputs": [
    {
     "data": {
      "text/plain": [
       "torch.Size([652, 3])"
      ]
     },
     "execution_count": 13,
     "metadata": {},
     "output_type": "execute_result"
    }
   ],
   "source": [
    "demo_data[\"pocket\"].pos.shape"
   ]
  },
  {
   "cell_type": "code",
   "execution_count": 14,
   "metadata": {},
   "outputs": [
    {
     "data": {
      "text/plain": [
       "tensor([[ 9.5601, 17.7450, 49.1304],\n",
       "        [ 9.4738, 16.4139, 48.5480],\n",
       "        [ 9.0894, 16.4427, 47.0702],\n",
       "        ...,\n",
       "        [ 6.0524, 22.1294, 26.0840],\n",
       "        [ 5.8970, 23.3319, 25.8465],\n",
       "        [ 4.0712, 22.3602, 27.5954]])"
      ]
     },
     "execution_count": 14,
     "metadata": {},
     "output_type": "execute_result"
    }
   ],
   "source": [
    "demo_data[\"pocket\"].pos"
   ]
  },
  {
   "cell_type": "code",
   "execution_count": 15,
   "metadata": {},
   "outputs": [
    {
     "ename": "ValueError",
     "evalue": "operands could not be broadcast together with shapes (623,3) (652,3) ",
     "output_type": "error",
     "traceback": [
      "\u001b[0;31m---------------------------------------------------------------------------\u001b[0m",
      "\u001b[0;31mValueError\u001b[0m                                Traceback (most recent call last)",
      "Cell \u001b[0;32mIn[15], line 2\u001b[0m\n\u001b[1;32m      1\u001b[0m \u001b[38;5;66;03m# match?\u001b[39;00m\n\u001b[0;32m----> 2\u001b[0m np\u001b[38;5;241m.\u001b[39mall(\u001b[43mpocket_df\u001b[49m\u001b[43m[\u001b[49m\u001b[43mnon_hydrogen\u001b[49m\u001b[43m]\u001b[49m\u001b[43m[\u001b[49m\u001b[43m[\u001b[49m\u001b[38;5;124;43m\"\u001b[39;49m\u001b[38;5;124;43matom.x\u001b[39;49m\u001b[38;5;124;43m\"\u001b[39;49m\u001b[43m,\u001b[49m\u001b[43m \u001b[49m\u001b[38;5;124;43m\"\u001b[39;49m\u001b[38;5;124;43matom.y\u001b[39;49m\u001b[38;5;124;43m\"\u001b[39;49m\u001b[43m,\u001b[49m\u001b[43m \u001b[49m\u001b[38;5;124;43m\"\u001b[39;49m\u001b[38;5;124;43matom.z\u001b[39;49m\u001b[38;5;124;43m\"\u001b[39;49m\u001b[43m]\u001b[49m\u001b[43m]\u001b[49m\u001b[38;5;241;43m.\u001b[39;49m\u001b[43mvalues\u001b[49m\u001b[43m \u001b[49m\u001b[38;5;241;43m==\u001b[39;49m\u001b[43m \u001b[49m\u001b[43mdemo_data\u001b[49m\u001b[43m[\u001b[49m\u001b[38;5;124;43m\"\u001b[39;49m\u001b[38;5;124;43mpocket\u001b[39;49m\u001b[38;5;124;43m\"\u001b[39;49m\u001b[43m]\u001b[49m\u001b[38;5;241;43m.\u001b[39;49m\u001b[43mpos\u001b[49m\u001b[38;5;241;43m.\u001b[39;49m\u001b[43mnumpy\u001b[49m\u001b[43m(\u001b[49m\u001b[43m)\u001b[49m)\n",
      "\u001b[0;31mValueError\u001b[0m: operands could not be broadcast together with shapes (623,3) (652,3) "
     ]
    }
   ],
   "source": [
    "# match?\n",
    "np.all(pocket_df[non_hydrogen][[\"atom.x\", \"atom.y\", \"atom.z\"]].values == demo_data[\"pocket\"].pos.numpy())"
   ]
  },
  {
   "cell_type": "code",
   "execution_count": null,
   "metadata": {},
   "outputs": [],
   "source": [
    "pd.read_csv(f'../data/interaction_analysis/{demo_data.ident.item()}.csv')"
   ]
  },
  {
   "cell_type": "code",
   "execution_count": null,
   "metadata": {},
   "outputs": [],
   "source": []
  }
 ],
 "metadata": {
  "kernelspec": {
   "display_name": "Python 3 (ipykernel)",
   "language": "python",
   "name": "python3"
  },
  "language_info": {
   "codemirror_mode": {
    "name": "ipython",
    "version": 3
   },
   "file_extension": ".py",
   "mimetype": "text/x-python",
   "name": "python",
   "nbconvert_exporter": "python",
   "pygments_lexer": "ipython3",
   "version": "3.12.3"
  },
  "vscode": {
   "interpreter": {
    "hash": "528a87b2665604848835e963d9b59f6a2ef408edd78da891397a1684bf62ca9e"
   }
  }
 },
 "nbformat": 4,
 "nbformat_minor": 4
}
